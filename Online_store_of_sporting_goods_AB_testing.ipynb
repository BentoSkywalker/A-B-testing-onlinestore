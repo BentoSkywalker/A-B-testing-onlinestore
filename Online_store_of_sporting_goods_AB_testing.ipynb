{
  "nbformat": 4,
  "nbformat_minor": 0,
  "metadata": {
    "colab": {
      "name": "Online store of sporting goods AB_testing.ipynb",
      "provenance": []
    },
    "kernelspec": {
      "name": "python3",
      "display_name": "Python 3"
    },
    "language_info": {
      "name": "python"
    }
  },
  "cells": [
    {
      "cell_type": "markdown",
      "source": [
        "# Online store of sporting goods"
      ],
      "metadata": {
        "id": "8v2jqi7To4m9"
      }
    },
    {
      "cell_type": "markdown",
      "source": [
        "Content\n",
        "\n",
        "On the main page of the store they show users banners in order to stimulate their sales. Now one of 5 banners is randomly displayed there. Each banner advertises a specific product or the entire company. Our marketers believe that the experience with banners can vary by segment, and their effectiveness may depend on the characteristics of user behavior.\n",
        "\n",
        "Inspiration\n",
        "\n",
        "Help the manager make a decision."
      ],
      "metadata": {
        "id": "JwB9-koeoWwV"
      }
    },
    {
      "cell_type": "code",
      "source": [
        "from google.colab import files\n",
        "uploaded = files.upload()"
      ],
      "metadata": {
        "colab": {
          "resources": {
            "http://localhost:8080/nbextensions/google.colab/files.js": {
              "data": "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",
              "ok": true,
              "headers": [
                [
                  "content-type",
                  "application/javascript"
                ]
              ],
              "status": 200,
              "status_text": ""
            }
          },
          "base_uri": "https://localhost:8080/",
          "height": 72
        },
        "id": "sRmZtIqKxykW",
        "outputId": "9ceca2d7-a645-49e5-d4a9-44c5aeaed0f4"
      },
      "execution_count": 1,
      "outputs": [
        {
          "output_type": "display_data",
          "data": {
            "text/plain": [
              "<IPython.core.display.HTML object>"
            ],
            "text/html": [
              "\n",
              "     <input type=\"file\" id=\"files-20a46ccb-3332-4647-98cd-16dd2c719f4b\" name=\"files[]\" multiple disabled\n",
              "        style=\"border:none\" />\n",
              "     <output id=\"result-20a46ccb-3332-4647-98cd-16dd2c719f4b\">\n",
              "      Upload widget is only available when the cell has been executed in the\n",
              "      current browser session. Please rerun this cell to enable.\n",
              "      </output>\n",
              "      <script src=\"/nbextensions/google.colab/files.js\"></script> "
            ]
          },
          "metadata": {}
        },
        {
          "output_type": "stream",
          "name": "stdout",
          "text": [
            "Saving kaggle.json to kaggle.json\n"
          ]
        }
      ]
    },
    {
      "cell_type": "code",
      "execution_count": 2,
      "metadata": {
        "colab": {
          "base_uri": "https://localhost:8080/"
        },
        "id": "3Xo8n4kExawi",
        "outputId": "6a42de19-9aad-43be-eea1-edf770cfd7d3"
      },
      "outputs": [
        {
          "output_type": "stream",
          "name": "stdout",
          "text": [
            "Requirement already satisfied: kaggle in /usr/local/lib/python3.7/dist-packages (1.5.12)\n",
            "Requirement already satisfied: urllib3 in /usr/local/lib/python3.7/dist-packages (from kaggle) (1.24.3)\n",
            "Requirement already satisfied: tqdm in /usr/local/lib/python3.7/dist-packages (from kaggle) (4.63.0)\n",
            "Requirement already satisfied: requests in /usr/local/lib/python3.7/dist-packages (from kaggle) (2.23.0)\n",
            "Requirement already satisfied: six>=1.10 in /usr/local/lib/python3.7/dist-packages (from kaggle) (1.15.0)\n",
            "Requirement already satisfied: python-dateutil in /usr/local/lib/python3.7/dist-packages (from kaggle) (2.8.2)\n",
            "Requirement already satisfied: python-slugify in /usr/local/lib/python3.7/dist-packages (from kaggle) (6.1.1)\n",
            "Requirement already satisfied: certifi in /usr/local/lib/python3.7/dist-packages (from kaggle) (2021.10.8)\n",
            "Requirement already satisfied: text-unidecode>=1.3 in /usr/local/lib/python3.7/dist-packages (from python-slugify->kaggle) (1.3)\n",
            "Requirement already satisfied: idna<3,>=2.5 in /usr/local/lib/python3.7/dist-packages (from requests->kaggle) (2.10)\n",
            "Requirement already satisfied: chardet<4,>=3.0.2 in /usr/local/lib/python3.7/dist-packages (from requests->kaggle) (3.0.4)\n",
            "Downloading how-to-do-product-analytics.zip to /content\n",
            " 97% 449M/462M [00:03<00:00, 129MB/s]\n",
            "100% 462M/462M [00:03<00:00, 138MB/s]\n"
          ]
        }
      ],
      "source": [
        "! pip install kaggle  #  upload dataset from kaggle by kaggle api\n",
        "\n",
        "! mkdir ~/.kaggle\n",
        "\n",
        "! cp kaggle.json ~/.kaggle/\n",
        "\n",
        "! chmod 600 ~/.kaggle/kaggle.json\n",
        "\n",
        "! kaggle datasets download podsyp/how-to-do-product-analytics\n",
        "\n",
        "! unzip how-to-do-product-analytics.zip"
      ]
    },
    {
      "cell_type": "code",
      "source": [
        "! unzip how-to-do-product-analytics.zip"
      ],
      "metadata": {
        "colab": {
          "base_uri": "https://localhost:8080/"
        },
        "id": "5q4NZygh5rVi",
        "outputId": "9d3a9e73-dfb2-43e9-a1a7-97ec7d993ec5"
      },
      "execution_count": 184,
      "outputs": [
        {
          "output_type": "stream",
          "name": "stdout",
          "text": [
            "Archive:  how-to-do-product-analytics.zip\n",
            "  inflating: product.csv             \n"
          ]
        }
      ]
    },
    {
      "cell_type": "code",
      "source": [
        "import pandas as pd  #  import library\n",
        "import numpy as np\n",
        "\n",
        "\n",
        "df_pd = pd.read_csv('product.csv')"
      ],
      "metadata": {
        "id": "CxJa6DrZADRl"
      },
      "execution_count": 1,
      "outputs": []
    },
    {
      "cell_type": "code",
      "source": [
        "df_pd.head(10)"
      ],
      "metadata": {
        "colab": {
          "base_uri": "https://localhost:8080/",
          "height": 362
        },
        "id": "xk4ohtN_AxFx",
        "outputId": "a0297aeb-44e6-4872-c1bd-fbaf0c5b01cc"
      },
      "execution_count": 2,
      "outputs": [
        {
          "output_type": "execute_result",
          "data": {
            "text/plain": [
              "                           order_id                           user_id  \\\n",
              "0  cfcd208495d565ef66e7dff9f98764da  c81e728d9d4c2f636f067f89cc14862c   \n",
              "1  c4ca4238a0b923820dcc509a6f75849b  eccbc87e4b5ce2fe28308fd9f2a7baf3   \n",
              "2  c81e728d9d4c2f636f067f89cc14862c  eccbc87e4b5ce2fe28308fd9f2a7baf3   \n",
              "3  eccbc87e4b5ce2fe28308fd9f2a7baf3  eccbc87e4b5ce2fe28308fd9f2a7baf3   \n",
              "4  a87ff679a2f3e71d9181a67b7542122c  eccbc87e4b5ce2fe28308fd9f2a7baf3   \n",
              "5  e4da3b7fbbce2345d7772b0674a318d5  a87ff679a2f3e71d9181a67b7542122c   \n",
              "6  1679091c5a880faf6fb5e6087eb1b2dc  e4da3b7fbbce2345d7772b0674a318d5   \n",
              "7  8f14e45fceea167a5a36dedd4bea2543  1679091c5a880faf6fb5e6087eb1b2dc   \n",
              "8  c9f0f895fb98ab9159f51fd0297e236d  8f14e45fceea167a5a36dedd4bea2543   \n",
              "9  45c48cce2e2d7fbdea1afc51c7c6ad26  8f14e45fceea167a5a36dedd4bea2543   \n",
              "\n",
              "                            page_id           product site_version  \\\n",
              "0  6f4922f45568161a8cdf4ad2299f6d23          sneakers      desktop   \n",
              "1  4e732ced3463d06de0ca9a15b6153677          sneakers      desktop   \n",
              "2  5c45a86277b8bf17bff6011be5cfb1b9  sports_nutrition      desktop   \n",
              "3  fb339ad311d50a229e497085aad219c7           company      desktop   \n",
              "4  fb339ad311d50a229e497085aad219c7           company      desktop   \n",
              "5  182be0c5cdcd5072bb1864cdee4d3d6e  sports_nutrition       mobile   \n",
              "6  e369853df766fa44e1ed0ff613f563bd          sneakers       mobile   \n",
              "7  1c383cd30b7c298ab50293adfecb7b18          sneakers      desktop   \n",
              "8  17e62166fc8586dfa4d1bc0e1742c08b       accessories      desktop   \n",
              "9  2ff279ece91cd2eaae06e449f5a20a0c           clothes      desktop   \n",
              "\n",
              "                  time         title  target  \n",
              "0  2019-01-11 09:24:43  banner_click       0  \n",
              "1  2019-01-09 09:38:51   banner_show       0  \n",
              "2  2019-01-09 09:12:45   banner_show       0  \n",
              "3  2019-01-03 08:58:18   banner_show       0  \n",
              "4  2019-01-03 08:59:15  banner_click       0  \n",
              "5  2019-01-14 05:33:39   banner_show       0  \n",
              "6  2019-03-02 15:10:16   banner_show       0  \n",
              "7  2019-02-10 12:19:30   banner_show       0  \n",
              "8  2019-02-06 05:21:08   banner_show       0  \n",
              "9  2019-01-24 10:36:13   banner_show       0  "
            ],
            "text/html": [
              "\n",
              "  <div id=\"df-5f8f8d99-4753-4ccf-86db-f49bed702ef4\">\n",
              "    <div class=\"colab-df-container\">\n",
              "      <div>\n",
              "<style scoped>\n",
              "    .dataframe tbody tr th:only-of-type {\n",
              "        vertical-align: middle;\n",
              "    }\n",
              "\n",
              "    .dataframe tbody tr th {\n",
              "        vertical-align: top;\n",
              "    }\n",
              "\n",
              "    .dataframe thead th {\n",
              "        text-align: right;\n",
              "    }\n",
              "</style>\n",
              "<table border=\"1\" class=\"dataframe\">\n",
              "  <thead>\n",
              "    <tr style=\"text-align: right;\">\n",
              "      <th></th>\n",
              "      <th>order_id</th>\n",
              "      <th>user_id</th>\n",
              "      <th>page_id</th>\n",
              "      <th>product</th>\n",
              "      <th>site_version</th>\n",
              "      <th>time</th>\n",
              "      <th>title</th>\n",
              "      <th>target</th>\n",
              "    </tr>\n",
              "  </thead>\n",
              "  <tbody>\n",
              "    <tr>\n",
              "      <th>0</th>\n",
              "      <td>cfcd208495d565ef66e7dff9f98764da</td>\n",
              "      <td>c81e728d9d4c2f636f067f89cc14862c</td>\n",
              "      <td>6f4922f45568161a8cdf4ad2299f6d23</td>\n",
              "      <td>sneakers</td>\n",
              "      <td>desktop</td>\n",
              "      <td>2019-01-11 09:24:43</td>\n",
              "      <td>banner_click</td>\n",
              "      <td>0</td>\n",
              "    </tr>\n",
              "    <tr>\n",
              "      <th>1</th>\n",
              "      <td>c4ca4238a0b923820dcc509a6f75849b</td>\n",
              "      <td>eccbc87e4b5ce2fe28308fd9f2a7baf3</td>\n",
              "      <td>4e732ced3463d06de0ca9a15b6153677</td>\n",
              "      <td>sneakers</td>\n",
              "      <td>desktop</td>\n",
              "      <td>2019-01-09 09:38:51</td>\n",
              "      <td>banner_show</td>\n",
              "      <td>0</td>\n",
              "    </tr>\n",
              "    <tr>\n",
              "      <th>2</th>\n",
              "      <td>c81e728d9d4c2f636f067f89cc14862c</td>\n",
              "      <td>eccbc87e4b5ce2fe28308fd9f2a7baf3</td>\n",
              "      <td>5c45a86277b8bf17bff6011be5cfb1b9</td>\n",
              "      <td>sports_nutrition</td>\n",
              "      <td>desktop</td>\n",
              "      <td>2019-01-09 09:12:45</td>\n",
              "      <td>banner_show</td>\n",
              "      <td>0</td>\n",
              "    </tr>\n",
              "    <tr>\n",
              "      <th>3</th>\n",
              "      <td>eccbc87e4b5ce2fe28308fd9f2a7baf3</td>\n",
              "      <td>eccbc87e4b5ce2fe28308fd9f2a7baf3</td>\n",
              "      <td>fb339ad311d50a229e497085aad219c7</td>\n",
              "      <td>company</td>\n",
              "      <td>desktop</td>\n",
              "      <td>2019-01-03 08:58:18</td>\n",
              "      <td>banner_show</td>\n",
              "      <td>0</td>\n",
              "    </tr>\n",
              "    <tr>\n",
              "      <th>4</th>\n",
              "      <td>a87ff679a2f3e71d9181a67b7542122c</td>\n",
              "      <td>eccbc87e4b5ce2fe28308fd9f2a7baf3</td>\n",
              "      <td>fb339ad311d50a229e497085aad219c7</td>\n",
              "      <td>company</td>\n",
              "      <td>desktop</td>\n",
              "      <td>2019-01-03 08:59:15</td>\n",
              "      <td>banner_click</td>\n",
              "      <td>0</td>\n",
              "    </tr>\n",
              "    <tr>\n",
              "      <th>5</th>\n",
              "      <td>e4da3b7fbbce2345d7772b0674a318d5</td>\n",
              "      <td>a87ff679a2f3e71d9181a67b7542122c</td>\n",
              "      <td>182be0c5cdcd5072bb1864cdee4d3d6e</td>\n",
              "      <td>sports_nutrition</td>\n",
              "      <td>mobile</td>\n",
              "      <td>2019-01-14 05:33:39</td>\n",
              "      <td>banner_show</td>\n",
              "      <td>0</td>\n",
              "    </tr>\n",
              "    <tr>\n",
              "      <th>6</th>\n",
              "      <td>1679091c5a880faf6fb5e6087eb1b2dc</td>\n",
              "      <td>e4da3b7fbbce2345d7772b0674a318d5</td>\n",
              "      <td>e369853df766fa44e1ed0ff613f563bd</td>\n",
              "      <td>sneakers</td>\n",
              "      <td>mobile</td>\n",
              "      <td>2019-03-02 15:10:16</td>\n",
              "      <td>banner_show</td>\n",
              "      <td>0</td>\n",
              "    </tr>\n",
              "    <tr>\n",
              "      <th>7</th>\n",
              "      <td>8f14e45fceea167a5a36dedd4bea2543</td>\n",
              "      <td>1679091c5a880faf6fb5e6087eb1b2dc</td>\n",
              "      <td>1c383cd30b7c298ab50293adfecb7b18</td>\n",
              "      <td>sneakers</td>\n",
              "      <td>desktop</td>\n",
              "      <td>2019-02-10 12:19:30</td>\n",
              "      <td>banner_show</td>\n",
              "      <td>0</td>\n",
              "    </tr>\n",
              "    <tr>\n",
              "      <th>8</th>\n",
              "      <td>c9f0f895fb98ab9159f51fd0297e236d</td>\n",
              "      <td>8f14e45fceea167a5a36dedd4bea2543</td>\n",
              "      <td>17e62166fc8586dfa4d1bc0e1742c08b</td>\n",
              "      <td>accessories</td>\n",
              "      <td>desktop</td>\n",
              "      <td>2019-02-06 05:21:08</td>\n",
              "      <td>banner_show</td>\n",
              "      <td>0</td>\n",
              "    </tr>\n",
              "    <tr>\n",
              "      <th>9</th>\n",
              "      <td>45c48cce2e2d7fbdea1afc51c7c6ad26</td>\n",
              "      <td>8f14e45fceea167a5a36dedd4bea2543</td>\n",
              "      <td>2ff279ece91cd2eaae06e449f5a20a0c</td>\n",
              "      <td>clothes</td>\n",
              "      <td>desktop</td>\n",
              "      <td>2019-01-24 10:36:13</td>\n",
              "      <td>banner_show</td>\n",
              "      <td>0</td>\n",
              "    </tr>\n",
              "  </tbody>\n",
              "</table>\n",
              "</div>\n",
              "      <button class=\"colab-df-convert\" onclick=\"convertToInteractive('df-5f8f8d99-4753-4ccf-86db-f49bed702ef4')\"\n",
              "              title=\"Convert this dataframe to an interactive table.\"\n",
              "              style=\"display:none;\">\n",
              "        \n",
              "  <svg xmlns=\"http://www.w3.org/2000/svg\" height=\"24px\"viewBox=\"0 0 24 24\"\n",
              "       width=\"24px\">\n",
              "    <path d=\"M0 0h24v24H0V0z\" fill=\"none\"/>\n",
              "    <path d=\"M18.56 5.44l.94 2.06.94-2.06 2.06-.94-2.06-.94-.94-2.06-.94 2.06-2.06.94zm-11 1L8.5 8.5l.94-2.06 2.06-.94-2.06-.94L8.5 2.5l-.94 2.06-2.06.94zm10 10l.94 2.06.94-2.06 2.06-.94-2.06-.94-.94-2.06-.94 2.06-2.06.94z\"/><path d=\"M17.41 7.96l-1.37-1.37c-.4-.4-.92-.59-1.43-.59-.52 0-1.04.2-1.43.59L10.3 9.45l-7.72 7.72c-.78.78-.78 2.05 0 2.83L4 21.41c.39.39.9.59 1.41.59.51 0 1.02-.2 1.41-.59l7.78-7.78 2.81-2.81c.8-.78.8-2.07 0-2.86zM5.41 20L4 18.59l7.72-7.72 1.47 1.35L5.41 20z\"/>\n",
              "  </svg>\n",
              "      </button>\n",
              "      \n",
              "  <style>\n",
              "    .colab-df-container {\n",
              "      display:flex;\n",
              "      flex-wrap:wrap;\n",
              "      gap: 12px;\n",
              "    }\n",
              "\n",
              "    .colab-df-convert {\n",
              "      background-color: #E8F0FE;\n",
              "      border: none;\n",
              "      border-radius: 50%;\n",
              "      cursor: pointer;\n",
              "      display: none;\n",
              "      fill: #1967D2;\n",
              "      height: 32px;\n",
              "      padding: 0 0 0 0;\n",
              "      width: 32px;\n",
              "    }\n",
              "\n",
              "    .colab-df-convert:hover {\n",
              "      background-color: #E2EBFA;\n",
              "      box-shadow: 0px 1px 2px rgba(60, 64, 67, 0.3), 0px 1px 3px 1px rgba(60, 64, 67, 0.15);\n",
              "      fill: #174EA6;\n",
              "    }\n",
              "\n",
              "    [theme=dark] .colab-df-convert {\n",
              "      background-color: #3B4455;\n",
              "      fill: #D2E3FC;\n",
              "    }\n",
              "\n",
              "    [theme=dark] .colab-df-convert:hover {\n",
              "      background-color: #434B5C;\n",
              "      box-shadow: 0px 1px 3px 1px rgba(0, 0, 0, 0.15);\n",
              "      filter: drop-shadow(0px 1px 2px rgba(0, 0, 0, 0.3));\n",
              "      fill: #FFFFFF;\n",
              "    }\n",
              "  </style>\n",
              "\n",
              "      <script>\n",
              "        const buttonEl =\n",
              "          document.querySelector('#df-5f8f8d99-4753-4ccf-86db-f49bed702ef4 button.colab-df-convert');\n",
              "        buttonEl.style.display =\n",
              "          google.colab.kernel.accessAllowed ? 'block' : 'none';\n",
              "\n",
              "        async function convertToInteractive(key) {\n",
              "          const element = document.querySelector('#df-5f8f8d99-4753-4ccf-86db-f49bed702ef4');\n",
              "          const dataTable =\n",
              "            await google.colab.kernel.invokeFunction('convertToInteractive',\n",
              "                                                     [key], {});\n",
              "          if (!dataTable) return;\n",
              "\n",
              "          const docLinkHtml = 'Like what you see? Visit the ' +\n",
              "            '<a target=\"_blank\" href=https://colab.research.google.com/notebooks/data_table.ipynb>data table notebook</a>'\n",
              "            + ' to learn more about interactive tables.';\n",
              "          element.innerHTML = '';\n",
              "          dataTable['output_type'] = 'display_data';\n",
              "          await google.colab.output.renderOutput(dataTable, element);\n",
              "          const docLink = document.createElement('div');\n",
              "          docLink.innerHTML = docLinkHtml;\n",
              "          element.appendChild(docLink);\n",
              "        }\n",
              "      </script>\n",
              "    </div>\n",
              "  </div>\n",
              "  "
            ]
          },
          "metadata": {},
          "execution_count": 2
        }
      ]
    },
    {
      "cell_type": "code",
      "source": [
        "df_pd.info()"
      ],
      "metadata": {
        "colab": {
          "base_uri": "https://localhost:8080/"
        },
        "id": "o3Mlen32BMg6",
        "outputId": "f9795735-79b0-40e7-c250-59933bd55059"
      },
      "execution_count": 5,
      "outputs": [
        {
          "output_type": "stream",
          "name": "stdout",
          "text": [
            "<class 'pandas.core.frame.DataFrame'>\n",
            "RangeIndex: 8471220 entries, 0 to 8471219\n",
            "Data columns (total 8 columns):\n",
            " #   Column        Dtype \n",
            "---  ------        ----- \n",
            " 0   order_id      object\n",
            " 1   user_id       object\n",
            " 2   page_id       object\n",
            " 3   product       object\n",
            " 4   site_version  object\n",
            " 5   time          object\n",
            " 6   title         object\n",
            " 7   target        int64 \n",
            "dtypes: int64(1), object(7)\n",
            "memory usage: 517.0+ MB\n"
          ]
        }
      ]
    },
    {
      "cell_type": "code",
      "source": [
        "df_pd.isna().sum()"
      ],
      "metadata": {
        "colab": {
          "base_uri": "https://localhost:8080/"
        },
        "id": "hpnyxLHiB8iE",
        "outputId": "265501de-576e-4e55-ecad-e78df98f277e"
      },
      "execution_count": 6,
      "outputs": [
        {
          "output_type": "execute_result",
          "data": {
            "text/plain": [
              "order_id        0\n",
              "user_id         0\n",
              "page_id         0\n",
              "product         0\n",
              "site_version    0\n",
              "time            0\n",
              "title           0\n",
              "target          0\n",
              "dtype: int64"
            ]
          },
          "metadata": {},
          "execution_count": 6
        }
      ]
    },
    {
      "cell_type": "code",
      "source": [
        "{i : df_pd[i].nunique() for i in df_pd.columns}  #  observe attribute of data"
      ],
      "metadata": {
        "colab": {
          "base_uri": "https://localhost:8080/"
        },
        "id": "XXkHLDUkptEK",
        "outputId": "947f6fa7-3cf4-4e64-dfe1-e0d088ed0380"
      },
      "execution_count": 118,
      "outputs": [
        {
          "output_type": "execute_result",
          "data": {
            "text/plain": [
              "{'order_id': 8471220,\n",
              " 'page_id': 7393316,\n",
              " 'product': 5,\n",
              " 'site_version': 2,\n",
              " 'target': 2,\n",
              " 'time': 5799549,\n",
              " 'title': 3,\n",
              " 'user_id': 4254619}"
            ]
          },
          "metadata": {},
          "execution_count": 118
        }
      ]
    },
    {
      "cell_type": "code",
      "source": [
        "df_pd.title.unique()  #  data are distinct in page_id show & duplicate by title method"
      ],
      "metadata": {
        "colab": {
          "base_uri": "https://localhost:8080/"
        },
        "id": "pE4kMtdwpuHj",
        "outputId": "311a743e-bbcc-46c1-8489-7a837532dfaa"
      },
      "execution_count": 119,
      "outputs": [
        {
          "output_type": "execute_result",
          "data": {
            "text/plain": [
              "array(['banner_click', 'banner_show', 'order'], dtype=object)"
            ]
          },
          "metadata": {},
          "execution_count": 119
        }
      ]
    },
    {
      "cell_type": "code",
      "source": [
        "df_show = df_pd[df_pd.title == 'banner_show']  # split data to each title\n",
        "df_show"
      ],
      "metadata": {
        "colab": {
          "base_uri": "https://localhost:8080/",
          "height": 468
        },
        "id": "Ll6PhckxMh6B",
        "outputId": "9a074365-33f0-4c87-eb49-19642924b544"
      },
      "execution_count": 7,
      "outputs": [
        {
          "output_type": "execute_result",
          "data": {
            "text/plain": [
              "                                 order_id                           user_id  \\\n",
              "1        c4ca4238a0b923820dcc509a6f75849b  eccbc87e4b5ce2fe28308fd9f2a7baf3   \n",
              "2        c81e728d9d4c2f636f067f89cc14862c  eccbc87e4b5ce2fe28308fd9f2a7baf3   \n",
              "3        eccbc87e4b5ce2fe28308fd9f2a7baf3  eccbc87e4b5ce2fe28308fd9f2a7baf3   \n",
              "5        e4da3b7fbbce2345d7772b0674a318d5  a87ff679a2f3e71d9181a67b7542122c   \n",
              "6        1679091c5a880faf6fb5e6087eb1b2dc  e4da3b7fbbce2345d7772b0674a318d5   \n",
              "...                                   ...                               ...   \n",
              "8471215  70c275428b8d53eef294d0529253b694  59e736f90b5f8003072bf0eb271ddb86   \n",
              "8471216  94c9a2a0c11c2b88e49c13e401608c86  69d73bfcaaa83217c903627e602ae01c   \n",
              "8471217  862568e6013bc378b06f43c3e466521a  61728d26a9c9feb9e128c17b400062c8   \n",
              "8471218  7c70b42806372ba85f47a3956f23a114  f90e8c3bcf3867e65d62a2a08189a35a   \n",
              "8471219  523a4286c51e560121455fc040096ef3  4c242cc2c01c9a6cb4b6659e5263c8aa   \n",
              "\n",
              "                                  page_id           product site_version  \\\n",
              "1        4e732ced3463d06de0ca9a15b6153677          sneakers      desktop   \n",
              "2        5c45a86277b8bf17bff6011be5cfb1b9  sports_nutrition      desktop   \n",
              "3        fb339ad311d50a229e497085aad219c7           company      desktop   \n",
              "5        182be0c5cdcd5072bb1864cdee4d3d6e  sports_nutrition       mobile   \n",
              "6        e369853df766fa44e1ed0ff613f563bd          sneakers       mobile   \n",
              "...                                   ...               ...          ...   \n",
              "8471215  7bc3a33568d00773d5b58d6c7348bf3e       accessories      desktop   \n",
              "8471216  f236830bcbb2d279c0c7c3d7f5d3a970           clothes       mobile   \n",
              "8471217  4fc14437e418f19200e71acf4f34b3ba  sports_nutrition       mobile   \n",
              "8471218  c6a3e7758b9c0a43417c4a2c1a4504dd          sneakers       mobile   \n",
              "8471219  fa337cd9c198d70261019940f06bf7fb       accessories       mobile   \n",
              "\n",
              "                        time        title  target  \n",
              "1        2019-01-09 09:38:51  banner_show       0  \n",
              "2        2019-01-09 09:12:45  banner_show       0  \n",
              "3        2019-01-03 08:58:18  banner_show       0  \n",
              "5        2019-01-14 05:33:39  banner_show       0  \n",
              "6        2019-03-02 15:10:16  banner_show       0  \n",
              "...                      ...          ...     ...  \n",
              "8471215  2019-05-23 14:07:00  banner_show       0  \n",
              "8471216  2019-05-28 08:10:20  banner_show       0  \n",
              "8471217  2019-05-20 09:20:50  banner_show       0  \n",
              "8471218  2019-05-28 19:25:42  banner_show       0  \n",
              "8471219  2019-05-31 09:18:24  banner_show       0  \n",
              "\n",
              "[7393314 rows x 8 columns]"
            ],
            "text/html": [
              "\n",
              "  <div id=\"df-6d6a711c-5902-4fec-84af-73b76b1057d0\">\n",
              "    <div class=\"colab-df-container\">\n",
              "      <div>\n",
              "<style scoped>\n",
              "    .dataframe tbody tr th:only-of-type {\n",
              "        vertical-align: middle;\n",
              "    }\n",
              "\n",
              "    .dataframe tbody tr th {\n",
              "        vertical-align: top;\n",
              "    }\n",
              "\n",
              "    .dataframe thead th {\n",
              "        text-align: right;\n",
              "    }\n",
              "</style>\n",
              "<table border=\"1\" class=\"dataframe\">\n",
              "  <thead>\n",
              "    <tr style=\"text-align: right;\">\n",
              "      <th></th>\n",
              "      <th>order_id</th>\n",
              "      <th>user_id</th>\n",
              "      <th>page_id</th>\n",
              "      <th>product</th>\n",
              "      <th>site_version</th>\n",
              "      <th>time</th>\n",
              "      <th>title</th>\n",
              "      <th>target</th>\n",
              "    </tr>\n",
              "  </thead>\n",
              "  <tbody>\n",
              "    <tr>\n",
              "      <th>1</th>\n",
              "      <td>c4ca4238a0b923820dcc509a6f75849b</td>\n",
              "      <td>eccbc87e4b5ce2fe28308fd9f2a7baf3</td>\n",
              "      <td>4e732ced3463d06de0ca9a15b6153677</td>\n",
              "      <td>sneakers</td>\n",
              "      <td>desktop</td>\n",
              "      <td>2019-01-09 09:38:51</td>\n",
              "      <td>banner_show</td>\n",
              "      <td>0</td>\n",
              "    </tr>\n",
              "    <tr>\n",
              "      <th>2</th>\n",
              "      <td>c81e728d9d4c2f636f067f89cc14862c</td>\n",
              "      <td>eccbc87e4b5ce2fe28308fd9f2a7baf3</td>\n",
              "      <td>5c45a86277b8bf17bff6011be5cfb1b9</td>\n",
              "      <td>sports_nutrition</td>\n",
              "      <td>desktop</td>\n",
              "      <td>2019-01-09 09:12:45</td>\n",
              "      <td>banner_show</td>\n",
              "      <td>0</td>\n",
              "    </tr>\n",
              "    <tr>\n",
              "      <th>3</th>\n",
              "      <td>eccbc87e4b5ce2fe28308fd9f2a7baf3</td>\n",
              "      <td>eccbc87e4b5ce2fe28308fd9f2a7baf3</td>\n",
              "      <td>fb339ad311d50a229e497085aad219c7</td>\n",
              "      <td>company</td>\n",
              "      <td>desktop</td>\n",
              "      <td>2019-01-03 08:58:18</td>\n",
              "      <td>banner_show</td>\n",
              "      <td>0</td>\n",
              "    </tr>\n",
              "    <tr>\n",
              "      <th>5</th>\n",
              "      <td>e4da3b7fbbce2345d7772b0674a318d5</td>\n",
              "      <td>a87ff679a2f3e71d9181a67b7542122c</td>\n",
              "      <td>182be0c5cdcd5072bb1864cdee4d3d6e</td>\n",
              "      <td>sports_nutrition</td>\n",
              "      <td>mobile</td>\n",
              "      <td>2019-01-14 05:33:39</td>\n",
              "      <td>banner_show</td>\n",
              "      <td>0</td>\n",
              "    </tr>\n",
              "    <tr>\n",
              "      <th>6</th>\n",
              "      <td>1679091c5a880faf6fb5e6087eb1b2dc</td>\n",
              "      <td>e4da3b7fbbce2345d7772b0674a318d5</td>\n",
              "      <td>e369853df766fa44e1ed0ff613f563bd</td>\n",
              "      <td>sneakers</td>\n",
              "      <td>mobile</td>\n",
              "      <td>2019-03-02 15:10:16</td>\n",
              "      <td>banner_show</td>\n",
              "      <td>0</td>\n",
              "    </tr>\n",
              "    <tr>\n",
              "      <th>...</th>\n",
              "      <td>...</td>\n",
              "      <td>...</td>\n",
              "      <td>...</td>\n",
              "      <td>...</td>\n",
              "      <td>...</td>\n",
              "      <td>...</td>\n",
              "      <td>...</td>\n",
              "      <td>...</td>\n",
              "    </tr>\n",
              "    <tr>\n",
              "      <th>8471215</th>\n",
              "      <td>70c275428b8d53eef294d0529253b694</td>\n",
              "      <td>59e736f90b5f8003072bf0eb271ddb86</td>\n",
              "      <td>7bc3a33568d00773d5b58d6c7348bf3e</td>\n",
              "      <td>accessories</td>\n",
              "      <td>desktop</td>\n",
              "      <td>2019-05-23 14:07:00</td>\n",
              "      <td>banner_show</td>\n",
              "      <td>0</td>\n",
              "    </tr>\n",
              "    <tr>\n",
              "      <th>8471216</th>\n",
              "      <td>94c9a2a0c11c2b88e49c13e401608c86</td>\n",
              "      <td>69d73bfcaaa83217c903627e602ae01c</td>\n",
              "      <td>f236830bcbb2d279c0c7c3d7f5d3a970</td>\n",
              "      <td>clothes</td>\n",
              "      <td>mobile</td>\n",
              "      <td>2019-05-28 08:10:20</td>\n",
              "      <td>banner_show</td>\n",
              "      <td>0</td>\n",
              "    </tr>\n",
              "    <tr>\n",
              "      <th>8471217</th>\n",
              "      <td>862568e6013bc378b06f43c3e466521a</td>\n",
              "      <td>61728d26a9c9feb9e128c17b400062c8</td>\n",
              "      <td>4fc14437e418f19200e71acf4f34b3ba</td>\n",
              "      <td>sports_nutrition</td>\n",
              "      <td>mobile</td>\n",
              "      <td>2019-05-20 09:20:50</td>\n",
              "      <td>banner_show</td>\n",
              "      <td>0</td>\n",
              "    </tr>\n",
              "    <tr>\n",
              "      <th>8471218</th>\n",
              "      <td>7c70b42806372ba85f47a3956f23a114</td>\n",
              "      <td>f90e8c3bcf3867e65d62a2a08189a35a</td>\n",
              "      <td>c6a3e7758b9c0a43417c4a2c1a4504dd</td>\n",
              "      <td>sneakers</td>\n",
              "      <td>mobile</td>\n",
              "      <td>2019-05-28 19:25:42</td>\n",
              "      <td>banner_show</td>\n",
              "      <td>0</td>\n",
              "    </tr>\n",
              "    <tr>\n",
              "      <th>8471219</th>\n",
              "      <td>523a4286c51e560121455fc040096ef3</td>\n",
              "      <td>4c242cc2c01c9a6cb4b6659e5263c8aa</td>\n",
              "      <td>fa337cd9c198d70261019940f06bf7fb</td>\n",
              "      <td>accessories</td>\n",
              "      <td>mobile</td>\n",
              "      <td>2019-05-31 09:18:24</td>\n",
              "      <td>banner_show</td>\n",
              "      <td>0</td>\n",
              "    </tr>\n",
              "  </tbody>\n",
              "</table>\n",
              "<p>7393314 rows × 8 columns</p>\n",
              "</div>\n",
              "      <button class=\"colab-df-convert\" onclick=\"convertToInteractive('df-6d6a711c-5902-4fec-84af-73b76b1057d0')\"\n",
              "              title=\"Convert this dataframe to an interactive table.\"\n",
              "              style=\"display:none;\">\n",
              "        \n",
              "  <svg xmlns=\"http://www.w3.org/2000/svg\" height=\"24px\"viewBox=\"0 0 24 24\"\n",
              "       width=\"24px\">\n",
              "    <path d=\"M0 0h24v24H0V0z\" fill=\"none\"/>\n",
              "    <path d=\"M18.56 5.44l.94 2.06.94-2.06 2.06-.94-2.06-.94-.94-2.06-.94 2.06-2.06.94zm-11 1L8.5 8.5l.94-2.06 2.06-.94-2.06-.94L8.5 2.5l-.94 2.06-2.06.94zm10 10l.94 2.06.94-2.06 2.06-.94-2.06-.94-.94-2.06-.94 2.06-2.06.94z\"/><path d=\"M17.41 7.96l-1.37-1.37c-.4-.4-.92-.59-1.43-.59-.52 0-1.04.2-1.43.59L10.3 9.45l-7.72 7.72c-.78.78-.78 2.05 0 2.83L4 21.41c.39.39.9.59 1.41.59.51 0 1.02-.2 1.41-.59l7.78-7.78 2.81-2.81c.8-.78.8-2.07 0-2.86zM5.41 20L4 18.59l7.72-7.72 1.47 1.35L5.41 20z\"/>\n",
              "  </svg>\n",
              "      </button>\n",
              "      \n",
              "  <style>\n",
              "    .colab-df-container {\n",
              "      display:flex;\n",
              "      flex-wrap:wrap;\n",
              "      gap: 12px;\n",
              "    }\n",
              "\n",
              "    .colab-df-convert {\n",
              "      background-color: #E8F0FE;\n",
              "      border: none;\n",
              "      border-radius: 50%;\n",
              "      cursor: pointer;\n",
              "      display: none;\n",
              "      fill: #1967D2;\n",
              "      height: 32px;\n",
              "      padding: 0 0 0 0;\n",
              "      width: 32px;\n",
              "    }\n",
              "\n",
              "    .colab-df-convert:hover {\n",
              "      background-color: #E2EBFA;\n",
              "      box-shadow: 0px 1px 2px rgba(60, 64, 67, 0.3), 0px 1px 3px 1px rgba(60, 64, 67, 0.15);\n",
              "      fill: #174EA6;\n",
              "    }\n",
              "\n",
              "    [theme=dark] .colab-df-convert {\n",
              "      background-color: #3B4455;\n",
              "      fill: #D2E3FC;\n",
              "    }\n",
              "\n",
              "    [theme=dark] .colab-df-convert:hover {\n",
              "      background-color: #434B5C;\n",
              "      box-shadow: 0px 1px 3px 1px rgba(0, 0, 0, 0.15);\n",
              "      filter: drop-shadow(0px 1px 2px rgba(0, 0, 0, 0.3));\n",
              "      fill: #FFFFFF;\n",
              "    }\n",
              "  </style>\n",
              "\n",
              "      <script>\n",
              "        const buttonEl =\n",
              "          document.querySelector('#df-6d6a711c-5902-4fec-84af-73b76b1057d0 button.colab-df-convert');\n",
              "        buttonEl.style.display =\n",
              "          google.colab.kernel.accessAllowed ? 'block' : 'none';\n",
              "\n",
              "        async function convertToInteractive(key) {\n",
              "          const element = document.querySelector('#df-6d6a711c-5902-4fec-84af-73b76b1057d0');\n",
              "          const dataTable =\n",
              "            await google.colab.kernel.invokeFunction('convertToInteractive',\n",
              "                                                     [key], {});\n",
              "          if (!dataTable) return;\n",
              "\n",
              "          const docLinkHtml = 'Like what you see? Visit the ' +\n",
              "            '<a target=\"_blank\" href=https://colab.research.google.com/notebooks/data_table.ipynb>data table notebook</a>'\n",
              "            + ' to learn more about interactive tables.';\n",
              "          element.innerHTML = '';\n",
              "          dataTable['output_type'] = 'display_data';\n",
              "          await google.colab.output.renderOutput(dataTable, element);\n",
              "          const docLink = document.createElement('div');\n",
              "          docLink.innerHTML = docLinkHtml;\n",
              "          element.appendChild(docLink);\n",
              "        }\n",
              "      </script>\n",
              "    </div>\n",
              "  </div>\n",
              "  "
            ]
          },
          "metadata": {},
          "execution_count": 7
        }
      ]
    },
    {
      "cell_type": "code",
      "source": [
        "len(df_show)  #  Amount of banner shown to user"
      ],
      "metadata": {
        "id": "fgHcYpurqzey"
      },
      "execution_count": null,
      "outputs": []
    },
    {
      "cell_type": "code",
      "source": [
        "df_show['time'] = pd.to_datetime(df_show['time'])  # set datetime to time columns\n",
        "df_show.info()"
      ],
      "metadata": {
        "colab": {
          "base_uri": "https://localhost:8080/"
        },
        "id": "rAyW79rwMh3y",
        "outputId": "48f06025-b4b8-46bb-c4c3-53210c79377f"
      },
      "execution_count": 8,
      "outputs": [
        {
          "output_type": "stream",
          "name": "stdout",
          "text": [
            "<class 'pandas.core.frame.DataFrame'>\n",
            "Int64Index: 7393314 entries, 1 to 8471219\n",
            "Data columns (total 8 columns):\n",
            " #   Column        Dtype         \n",
            "---  ------        -----         \n",
            " 0   order_id      object        \n",
            " 1   user_id       object        \n",
            " 2   page_id       object        \n",
            " 3   product       object        \n",
            " 4   site_version  object        \n",
            " 5   time          datetime64[ns]\n",
            " 6   title         object        \n",
            " 7   target        int64         \n",
            "dtypes: datetime64[ns](1), int64(1), object(6)\n",
            "memory usage: 507.7+ MB\n"
          ]
        },
        {
          "output_type": "stream",
          "name": "stderr",
          "text": [
            "/usr/local/lib/python3.7/dist-packages/ipykernel_launcher.py:1: SettingWithCopyWarning: \n",
            "A value is trying to be set on a copy of a slice from a DataFrame.\n",
            "Try using .loc[row_indexer,col_indexer] = value instead\n",
            "\n",
            "See the caveats in the documentation: https://pandas.pydata.org/pandas-docs/stable/user_guide/indexing.html#returning-a-view-versus-a-copy\n",
            "  \"\"\"Entry point for launching an IPython kernel.\n"
          ]
        }
      ]
    },
    {
      "cell_type": "code",
      "source": [
        "df_show['days'] = df_show['time'].dt.to_period(\"d\")  #  extract date of data"
      ],
      "metadata": {
        "colab": {
          "base_uri": "https://localhost:8080/"
        },
        "id": "FK2kfEsyMh11",
        "outputId": "334770d8-3bfa-4719-a26d-a30925485220"
      },
      "execution_count": 9,
      "outputs": [
        {
          "output_type": "stream",
          "name": "stderr",
          "text": [
            "/usr/local/lib/python3.7/dist-packages/ipykernel_launcher.py:1: SettingWithCopyWarning: \n",
            "A value is trying to be set on a copy of a slice from a DataFrame.\n",
            "Try using .loc[row_indexer,col_indexer] = value instead\n",
            "\n",
            "See the caveats in the documentation: https://pandas.pydata.org/pandas-docs/stable/user_guide/indexing.html#returning-a-view-versus-a-copy\n",
            "  \"\"\"Entry point for launching an IPython kernel.\n"
          ]
        }
      ]
    },
    {
      "cell_type": "code",
      "source": [
        "df_show.days.nunique()  #  days observation"
      ],
      "metadata": {
        "colab": {
          "base_uri": "https://localhost:8080/"
        },
        "id": "9KWAxFmWMhzx",
        "outputId": "e0d0de7a-a897-41af-8847-4c23f88b8509"
      },
      "execution_count": 10,
      "outputs": [
        {
          "output_type": "execute_result",
          "data": {
            "text/plain": [
              "151"
            ]
          },
          "metadata": {},
          "execution_count": 10
        }
      ]
    },
    {
      "cell_type": "code",
      "source": [
        "df_show.days.min()  #  start day observation"
      ],
      "metadata": {
        "colab": {
          "base_uri": "https://localhost:8080/"
        },
        "id": "ZSnoPrxiMhxo",
        "outputId": "f6a0e6d0-d7cf-4b0b-e74a-6c20408b2c43"
      },
      "execution_count": 11,
      "outputs": [
        {
          "output_type": "execute_result",
          "data": {
            "text/plain": [
              "Period('2019-01-01', 'D')"
            ]
          },
          "metadata": {},
          "execution_count": 11
        }
      ]
    },
    {
      "cell_type": "code",
      "source": [
        "df_show.days.max()  #  end day observation"
      ],
      "metadata": {
        "colab": {
          "base_uri": "https://localhost:8080/"
        },
        "id": "vC5-VRpJMhvn",
        "outputId": "5db30678-1d99-4f8b-a8e6-5f06228da368"
      },
      "execution_count": 12,
      "outputs": [
        {
          "output_type": "execute_result",
          "data": {
            "text/plain": [
              "Period('2019-05-31', 'D')"
            ]
          },
          "metadata": {},
          "execution_count": 12
        }
      ]
    },
    {
      "cell_type": "code",
      "source": [
        "banner_show_days = len(df_show) / 151  #  average banner show per days\n",
        "banner_show_days"
      ],
      "metadata": {
        "colab": {
          "base_uri": "https://localhost:8080/"
        },
        "id": "Dn-_XE18N0-B",
        "outputId": "53c9cc74-c32f-4a2f-e3fe-b84c41f959fa"
      },
      "execution_count": 31,
      "outputs": [
        {
          "output_type": "execute_result",
          "data": {
            "text/plain": [
              "48962.34437086093"
            ]
          },
          "metadata": {},
          "execution_count": 31
        }
      ]
    },
    {
      "cell_type": "code",
      "source": [
        "df_click = df_pd[df_pd.title == 'banner_click']  #  split by click method\n",
        "df_click"
      ],
      "metadata": {
        "colab": {
          "base_uri": "https://localhost:8080/",
          "height": 468
        },
        "id": "aRxJcly6CB58",
        "outputId": "876950fe-ab49-4705-b5e7-72e8e451b6b1"
      },
      "execution_count": 14,
      "outputs": [
        {
          "output_type": "execute_result",
          "data": {
            "text/plain": [
              "                                 order_id                           user_id  \\\n",
              "0        cfcd208495d565ef66e7dff9f98764da  c81e728d9d4c2f636f067f89cc14862c   \n",
              "4        a87ff679a2f3e71d9181a67b7542122c  eccbc87e4b5ce2fe28308fd9f2a7baf3   \n",
              "30       34173cb38f07f89ddbebc2ac9128303f  45c48cce2e2d7fbdea1afc51c7c6ad26   \n",
              "31       c16a5320fa475530d9583c34fd356ef5  45c48cce2e2d7fbdea1afc51c7c6ad26   \n",
              "32       6364d3f0f495b6ab9dcf8d3b5c6e0b01  45c48cce2e2d7fbdea1afc51c7c6ad26   \n",
              "...                                   ...                               ...   \n",
              "8471172  0ba33d5ca5ff41d122d7b5a476883e3d  3d8ffc8abe80a8d2260aea6ab27f44df   \n",
              "8471183  78ce19b90566f0a1d6c888c61945721d  16d61c8453b64f7e69f56efe992b782a   \n",
              "8471187  6209f3f8c301622ec7fd3374ea73f5f2  74d1486d5f87ac1a0d2e916b2fea9282   \n",
              "8471197  90e4e2454f09da77d887572fa2e3276f  1944f7ee00bf0957536286e1b3ba0298   \n",
              "8471214  434f6abfee98a50394d1e210ebfddab8  065956e2a6874f2dcafd4326fc553aed   \n",
              "\n",
              "                                  page_id           product site_version  \\\n",
              "0        6f4922f45568161a8cdf4ad2299f6d23          sneakers      desktop   \n",
              "4        fb339ad311d50a229e497085aad219c7           company      desktop   \n",
              "30       67c6a1e7ce56d3d6fa748ab6d9af3fd7  sports_nutrition       mobile   \n",
              "31       6c38fc1f2e3a4ae55b58a6c10cfda2ee          sneakers       mobile   \n",
              "32       2294a7913d5696d1793f852faa4b0f51  sports_nutrition       mobile   \n",
              "...                                   ...               ...          ...   \n",
              "8471172  66a3a81472c816e4d4ce345207ec0c29           company       mobile   \n",
              "8471183  7ef7b4cd26152e2f9ee17350983232dd           clothes       mobile   \n",
              "8471187  32b18075827f7b0cf3e522ccb9c250ce           clothes       mobile   \n",
              "8471197  00d7a3c222170c404903e9d6b05efc78       accessories       mobile   \n",
              "8471214  d93ec2e79b2163ece465c65b838c1c7c       accessories       mobile   \n",
              "\n",
              "                        time         title  target  \n",
              "0        2019-01-11 09:24:43  banner_click       0  \n",
              "4        2019-01-03 08:59:15  banner_click       0  \n",
              "30       2019-02-04 03:18:45  banner_click       0  \n",
              "31       2019-01-21 21:00:42  banner_click       0  \n",
              "32       2019-03-20 19:37:24  banner_click       0  \n",
              "...                      ...           ...     ...  \n",
              "8471172  2019-05-20 19:02:48  banner_click       0  \n",
              "8471183  2019-05-25 19:27:05  banner_click       0  \n",
              "8471187  2019-05-25 04:29:01  banner_click       0  \n",
              "8471197  2019-05-29 08:33:55  banner_click       0  \n",
              "8471214  2019-05-26 13:21:04  banner_click       0  \n",
              "\n",
              "[829184 rows x 8 columns]"
            ],
            "text/html": [
              "\n",
              "  <div id=\"df-1cb474b2-c3af-4fe3-bdbe-4b855dccb33e\">\n",
              "    <div class=\"colab-df-container\">\n",
              "      <div>\n",
              "<style scoped>\n",
              "    .dataframe tbody tr th:only-of-type {\n",
              "        vertical-align: middle;\n",
              "    }\n",
              "\n",
              "    .dataframe tbody tr th {\n",
              "        vertical-align: top;\n",
              "    }\n",
              "\n",
              "    .dataframe thead th {\n",
              "        text-align: right;\n",
              "    }\n",
              "</style>\n",
              "<table border=\"1\" class=\"dataframe\">\n",
              "  <thead>\n",
              "    <tr style=\"text-align: right;\">\n",
              "      <th></th>\n",
              "      <th>order_id</th>\n",
              "      <th>user_id</th>\n",
              "      <th>page_id</th>\n",
              "      <th>product</th>\n",
              "      <th>site_version</th>\n",
              "      <th>time</th>\n",
              "      <th>title</th>\n",
              "      <th>target</th>\n",
              "    </tr>\n",
              "  </thead>\n",
              "  <tbody>\n",
              "    <tr>\n",
              "      <th>0</th>\n",
              "      <td>cfcd208495d565ef66e7dff9f98764da</td>\n",
              "      <td>c81e728d9d4c2f636f067f89cc14862c</td>\n",
              "      <td>6f4922f45568161a8cdf4ad2299f6d23</td>\n",
              "      <td>sneakers</td>\n",
              "      <td>desktop</td>\n",
              "      <td>2019-01-11 09:24:43</td>\n",
              "      <td>banner_click</td>\n",
              "      <td>0</td>\n",
              "    </tr>\n",
              "    <tr>\n",
              "      <th>4</th>\n",
              "      <td>a87ff679a2f3e71d9181a67b7542122c</td>\n",
              "      <td>eccbc87e4b5ce2fe28308fd9f2a7baf3</td>\n",
              "      <td>fb339ad311d50a229e497085aad219c7</td>\n",
              "      <td>company</td>\n",
              "      <td>desktop</td>\n",
              "      <td>2019-01-03 08:59:15</td>\n",
              "      <td>banner_click</td>\n",
              "      <td>0</td>\n",
              "    </tr>\n",
              "    <tr>\n",
              "      <th>30</th>\n",
              "      <td>34173cb38f07f89ddbebc2ac9128303f</td>\n",
              "      <td>45c48cce2e2d7fbdea1afc51c7c6ad26</td>\n",
              "      <td>67c6a1e7ce56d3d6fa748ab6d9af3fd7</td>\n",
              "      <td>sports_nutrition</td>\n",
              "      <td>mobile</td>\n",
              "      <td>2019-02-04 03:18:45</td>\n",
              "      <td>banner_click</td>\n",
              "      <td>0</td>\n",
              "    </tr>\n",
              "    <tr>\n",
              "      <th>31</th>\n",
              "      <td>c16a5320fa475530d9583c34fd356ef5</td>\n",
              "      <td>45c48cce2e2d7fbdea1afc51c7c6ad26</td>\n",
              "      <td>6c38fc1f2e3a4ae55b58a6c10cfda2ee</td>\n",
              "      <td>sneakers</td>\n",
              "      <td>mobile</td>\n",
              "      <td>2019-01-21 21:00:42</td>\n",
              "      <td>banner_click</td>\n",
              "      <td>0</td>\n",
              "    </tr>\n",
              "    <tr>\n",
              "      <th>32</th>\n",
              "      <td>6364d3f0f495b6ab9dcf8d3b5c6e0b01</td>\n",
              "      <td>45c48cce2e2d7fbdea1afc51c7c6ad26</td>\n",
              "      <td>2294a7913d5696d1793f852faa4b0f51</td>\n",
              "      <td>sports_nutrition</td>\n",
              "      <td>mobile</td>\n",
              "      <td>2019-03-20 19:37:24</td>\n",
              "      <td>banner_click</td>\n",
              "      <td>0</td>\n",
              "    </tr>\n",
              "    <tr>\n",
              "      <th>...</th>\n",
              "      <td>...</td>\n",
              "      <td>...</td>\n",
              "      <td>...</td>\n",
              "      <td>...</td>\n",
              "      <td>...</td>\n",
              "      <td>...</td>\n",
              "      <td>...</td>\n",
              "      <td>...</td>\n",
              "    </tr>\n",
              "    <tr>\n",
              "      <th>8471172</th>\n",
              "      <td>0ba33d5ca5ff41d122d7b5a476883e3d</td>\n",
              "      <td>3d8ffc8abe80a8d2260aea6ab27f44df</td>\n",
              "      <td>66a3a81472c816e4d4ce345207ec0c29</td>\n",
              "      <td>company</td>\n",
              "      <td>mobile</td>\n",
              "      <td>2019-05-20 19:02:48</td>\n",
              "      <td>banner_click</td>\n",
              "      <td>0</td>\n",
              "    </tr>\n",
              "    <tr>\n",
              "      <th>8471183</th>\n",
              "      <td>78ce19b90566f0a1d6c888c61945721d</td>\n",
              "      <td>16d61c8453b64f7e69f56efe992b782a</td>\n",
              "      <td>7ef7b4cd26152e2f9ee17350983232dd</td>\n",
              "      <td>clothes</td>\n",
              "      <td>mobile</td>\n",
              "      <td>2019-05-25 19:27:05</td>\n",
              "      <td>banner_click</td>\n",
              "      <td>0</td>\n",
              "    </tr>\n",
              "    <tr>\n",
              "      <th>8471187</th>\n",
              "      <td>6209f3f8c301622ec7fd3374ea73f5f2</td>\n",
              "      <td>74d1486d5f87ac1a0d2e916b2fea9282</td>\n",
              "      <td>32b18075827f7b0cf3e522ccb9c250ce</td>\n",
              "      <td>clothes</td>\n",
              "      <td>mobile</td>\n",
              "      <td>2019-05-25 04:29:01</td>\n",
              "      <td>banner_click</td>\n",
              "      <td>0</td>\n",
              "    </tr>\n",
              "    <tr>\n",
              "      <th>8471197</th>\n",
              "      <td>90e4e2454f09da77d887572fa2e3276f</td>\n",
              "      <td>1944f7ee00bf0957536286e1b3ba0298</td>\n",
              "      <td>00d7a3c222170c404903e9d6b05efc78</td>\n",
              "      <td>accessories</td>\n",
              "      <td>mobile</td>\n",
              "      <td>2019-05-29 08:33:55</td>\n",
              "      <td>banner_click</td>\n",
              "      <td>0</td>\n",
              "    </tr>\n",
              "    <tr>\n",
              "      <th>8471214</th>\n",
              "      <td>434f6abfee98a50394d1e210ebfddab8</td>\n",
              "      <td>065956e2a6874f2dcafd4326fc553aed</td>\n",
              "      <td>d93ec2e79b2163ece465c65b838c1c7c</td>\n",
              "      <td>accessories</td>\n",
              "      <td>mobile</td>\n",
              "      <td>2019-05-26 13:21:04</td>\n",
              "      <td>banner_click</td>\n",
              "      <td>0</td>\n",
              "    </tr>\n",
              "  </tbody>\n",
              "</table>\n",
              "<p>829184 rows × 8 columns</p>\n",
              "</div>\n",
              "      <button class=\"colab-df-convert\" onclick=\"convertToInteractive('df-1cb474b2-c3af-4fe3-bdbe-4b855dccb33e')\"\n",
              "              title=\"Convert this dataframe to an interactive table.\"\n",
              "              style=\"display:none;\">\n",
              "        \n",
              "  <svg xmlns=\"http://www.w3.org/2000/svg\" height=\"24px\"viewBox=\"0 0 24 24\"\n",
              "       width=\"24px\">\n",
              "    <path d=\"M0 0h24v24H0V0z\" fill=\"none\"/>\n",
              "    <path d=\"M18.56 5.44l.94 2.06.94-2.06 2.06-.94-2.06-.94-.94-2.06-.94 2.06-2.06.94zm-11 1L8.5 8.5l.94-2.06 2.06-.94-2.06-.94L8.5 2.5l-.94 2.06-2.06.94zm10 10l.94 2.06.94-2.06 2.06-.94-2.06-.94-.94-2.06-.94 2.06-2.06.94z\"/><path d=\"M17.41 7.96l-1.37-1.37c-.4-.4-.92-.59-1.43-.59-.52 0-1.04.2-1.43.59L10.3 9.45l-7.72 7.72c-.78.78-.78 2.05 0 2.83L4 21.41c.39.39.9.59 1.41.59.51 0 1.02-.2 1.41-.59l7.78-7.78 2.81-2.81c.8-.78.8-2.07 0-2.86zM5.41 20L4 18.59l7.72-7.72 1.47 1.35L5.41 20z\"/>\n",
              "  </svg>\n",
              "      </button>\n",
              "      \n",
              "  <style>\n",
              "    .colab-df-container {\n",
              "      display:flex;\n",
              "      flex-wrap:wrap;\n",
              "      gap: 12px;\n",
              "    }\n",
              "\n",
              "    .colab-df-convert {\n",
              "      background-color: #E8F0FE;\n",
              "      border: none;\n",
              "      border-radius: 50%;\n",
              "      cursor: pointer;\n",
              "      display: none;\n",
              "      fill: #1967D2;\n",
              "      height: 32px;\n",
              "      padding: 0 0 0 0;\n",
              "      width: 32px;\n",
              "    }\n",
              "\n",
              "    .colab-df-convert:hover {\n",
              "      background-color: #E2EBFA;\n",
              "      box-shadow: 0px 1px 2px rgba(60, 64, 67, 0.3), 0px 1px 3px 1px rgba(60, 64, 67, 0.15);\n",
              "      fill: #174EA6;\n",
              "    }\n",
              "\n",
              "    [theme=dark] .colab-df-convert {\n",
              "      background-color: #3B4455;\n",
              "      fill: #D2E3FC;\n",
              "    }\n",
              "\n",
              "    [theme=dark] .colab-df-convert:hover {\n",
              "      background-color: #434B5C;\n",
              "      box-shadow: 0px 1px 3px 1px rgba(0, 0, 0, 0.15);\n",
              "      filter: drop-shadow(0px 1px 2px rgba(0, 0, 0, 0.3));\n",
              "      fill: #FFFFFF;\n",
              "    }\n",
              "  </style>\n",
              "\n",
              "      <script>\n",
              "        const buttonEl =\n",
              "          document.querySelector('#df-1cb474b2-c3af-4fe3-bdbe-4b855dccb33e button.colab-df-convert');\n",
              "        buttonEl.style.display =\n",
              "          google.colab.kernel.accessAllowed ? 'block' : 'none';\n",
              "\n",
              "        async function convertToInteractive(key) {\n",
              "          const element = document.querySelector('#df-1cb474b2-c3af-4fe3-bdbe-4b855dccb33e');\n",
              "          const dataTable =\n",
              "            await google.colab.kernel.invokeFunction('convertToInteractive',\n",
              "                                                     [key], {});\n",
              "          if (!dataTable) return;\n",
              "\n",
              "          const docLinkHtml = 'Like what you see? Visit the ' +\n",
              "            '<a target=\"_blank\" href=https://colab.research.google.com/notebooks/data_table.ipynb>data table notebook</a>'\n",
              "            + ' to learn more about interactive tables.';\n",
              "          element.innerHTML = '';\n",
              "          dataTable['output_type'] = 'display_data';\n",
              "          await google.colab.output.renderOutput(dataTable, element);\n",
              "          const docLink = document.createElement('div');\n",
              "          docLink.innerHTML = docLinkHtml;\n",
              "          element.appendChild(docLink);\n",
              "        }\n",
              "      </script>\n",
              "    </div>\n",
              "  </div>\n",
              "  "
            ]
          },
          "metadata": {},
          "execution_count": 14
        }
      ]
    },
    {
      "cell_type": "code",
      "source": [
        "df_order = df_pd[df_pd.title == 'order']  #  split by order\n",
        "len(df_order)"
      ],
      "metadata": {
        "colab": {
          "base_uri": "https://localhost:8080/"
        },
        "id": "7CJcsudpDb-k",
        "outputId": "e4998faf-ea12-4943-c152-b866dbe3818f"
      },
      "execution_count": 16,
      "outputs": [
        {
          "output_type": "execute_result",
          "data": {
            "text/plain": [
              "248722"
            ]
          },
          "metadata": {},
          "execution_count": 16
        }
      ]
    },
    {
      "cell_type": "markdown",
      "source": [
        "Little EDA of data"
      ],
      "metadata": {
        "id": "foMOH4H8sUOE"
      }
    },
    {
      "cell_type": "code",
      "source": [
        "product_click = df_click.groupby('product')['page_id'].count()\n",
        "product_click"
      ],
      "metadata": {
        "colab": {
          "base_uri": "https://localhost:8080/"
        },
        "id": "Ukb0VaUPHvt3",
        "outputId": "9d81b7a9-05e7-4e5e-b2a1-70824c297abf"
      },
      "execution_count": 143,
      "outputs": [
        {
          "output_type": "execute_result",
          "data": {
            "text/plain": [
              "product\n",
              "accessories         136254\n",
              "clothes             220595\n",
              "company             144821\n",
              "sneakers            182596\n",
              "sports_nutrition    144918\n",
              "Name: page_id, dtype: int64"
            ]
          },
          "metadata": {},
          "execution_count": 143
        }
      ]
    },
    {
      "cell_type": "code",
      "source": [
        "product_show = df_show.groupby('product')['page_id'].count()\n",
        "product_show"
      ],
      "metadata": {
        "colab": {
          "base_uri": "https://localhost:8080/"
        },
        "id": "qcOTP-WrHwlR",
        "outputId": "19d21f86-34eb-40ac-9a27-df2fc20868e9"
      },
      "execution_count": 141,
      "outputs": [
        {
          "output_type": "execute_result",
          "data": {
            "text/plain": [
              "product\n",
              "accessories         1440954\n",
              "clothes             1453128\n",
              "company             1580235\n",
              "sneakers            1453027\n",
              "sports_nutrition    1465970\n",
              "Name: page_id, dtype: int64"
            ]
          },
          "metadata": {},
          "execution_count": 141
        }
      ]
    },
    {
      "cell_type": "code",
      "source": [
        "product_click_perc = product_click / product_show * 100    #  rank of click rate of product banner\n",
        "product_click_perc.sort_values(ascending = False)"
      ],
      "metadata": {
        "colab": {
          "base_uri": "https://localhost:8080/"
        },
        "id": "vh7wVUk9Inoy",
        "outputId": "d537a8ad-8890-443c-c15f-07631301e0fb"
      },
      "execution_count": 144,
      "outputs": [
        {
          "output_type": "execute_result",
          "data": {
            "text/plain": [
              "product\n",
              "clothes             15.180700\n",
              "sneakers            12.566594\n",
              "sports_nutrition     9.885468\n",
              "accessories          9.455819\n",
              "company              9.164523\n",
              "Name: page_id, dtype: float64"
            ]
          },
          "metadata": {},
          "execution_count": 144
        }
      ]
    },
    {
      "cell_type": "code",
      "source": [
        "show_click = df_show.merge(df_click, how = 'left', on = 'page_id',suffixes=('', '_click'))  #  merge data to specific the label for click and don't get click banner\n",
        "show_click"
      ],
      "metadata": {
        "colab": {
          "base_uri": "https://localhost:8080/",
          "height": 834
        },
        "id": "72WtoFG4Jt1E",
        "outputId": "d587173d-00e4-4474-b3ca-0abba7cd013e"
      },
      "execution_count": 145,
      "outputs": [
        {
          "output_type": "execute_result",
          "data": {
            "text/plain": [
              "                                 order_id                           user_id  \\\n",
              "0        c4ca4238a0b923820dcc509a6f75849b  eccbc87e4b5ce2fe28308fd9f2a7baf3   \n",
              "1        c81e728d9d4c2f636f067f89cc14862c  eccbc87e4b5ce2fe28308fd9f2a7baf3   \n",
              "2        eccbc87e4b5ce2fe28308fd9f2a7baf3  eccbc87e4b5ce2fe28308fd9f2a7baf3   \n",
              "3        e4da3b7fbbce2345d7772b0674a318d5  a87ff679a2f3e71d9181a67b7542122c   \n",
              "4        1679091c5a880faf6fb5e6087eb1b2dc  e4da3b7fbbce2345d7772b0674a318d5   \n",
              "...                                   ...                               ...   \n",
              "7393309  70c275428b8d53eef294d0529253b694  59e736f90b5f8003072bf0eb271ddb86   \n",
              "7393310  94c9a2a0c11c2b88e49c13e401608c86  69d73bfcaaa83217c903627e602ae01c   \n",
              "7393311  862568e6013bc378b06f43c3e466521a  61728d26a9c9feb9e128c17b400062c8   \n",
              "7393312  7c70b42806372ba85f47a3956f23a114  f90e8c3bcf3867e65d62a2a08189a35a   \n",
              "7393313  523a4286c51e560121455fc040096ef3  4c242cc2c01c9a6cb4b6659e5263c8aa   \n",
              "\n",
              "                                  page_id           product site_version  \\\n",
              "0        4e732ced3463d06de0ca9a15b6153677          sneakers      desktop   \n",
              "1        5c45a86277b8bf17bff6011be5cfb1b9  sports_nutrition      desktop   \n",
              "2        fb339ad311d50a229e497085aad219c7           company      desktop   \n",
              "3        182be0c5cdcd5072bb1864cdee4d3d6e  sports_nutrition       mobile   \n",
              "4        e369853df766fa44e1ed0ff613f563bd          sneakers       mobile   \n",
              "...                                   ...               ...          ...   \n",
              "7393309  7bc3a33568d00773d5b58d6c7348bf3e       accessories      desktop   \n",
              "7393310  f236830bcbb2d279c0c7c3d7f5d3a970           clothes       mobile   \n",
              "7393311  4fc14437e418f19200e71acf4f34b3ba  sports_nutrition       mobile   \n",
              "7393312  c6a3e7758b9c0a43417c4a2c1a4504dd          sneakers       mobile   \n",
              "7393313  fa337cd9c198d70261019940f06bf7fb       accessories       mobile   \n",
              "\n",
              "                        time        title  target  \\\n",
              "0        2019-01-09 09:38:51  banner_show       0   \n",
              "1        2019-01-09 09:12:45  banner_show       0   \n",
              "2        2019-01-03 08:58:18  banner_show       0   \n",
              "3        2019-01-14 05:33:39  banner_show       0   \n",
              "4        2019-03-02 15:10:16  banner_show       0   \n",
              "...                      ...          ...     ...   \n",
              "7393309  2019-05-23 14:07:00  banner_show       0   \n",
              "7393310  2019-05-28 08:10:20  banner_show       0   \n",
              "7393311  2019-05-20 09:20:50  banner_show       0   \n",
              "7393312  2019-05-28 19:25:42  banner_show       0   \n",
              "7393313  2019-05-31 09:18:24  banner_show       0   \n",
              "\n",
              "                           order_id_click                     user_id_click  \\\n",
              "0                                     NaN                               NaN   \n",
              "1                                     NaN                               NaN   \n",
              "2        a87ff679a2f3e71d9181a67b7542122c  eccbc87e4b5ce2fe28308fd9f2a7baf3   \n",
              "3                                     NaN                               NaN   \n",
              "4                                     NaN                               NaN   \n",
              "...                                   ...                               ...   \n",
              "7393309                               NaN                               NaN   \n",
              "7393310                               NaN                               NaN   \n",
              "7393311                               NaN                               NaN   \n",
              "7393312                               NaN                               NaN   \n",
              "7393313                               NaN                               NaN   \n",
              "\n",
              "        product_click site_version_click           time_click   title_click  \\\n",
              "0                 NaN                NaN                  NaN           NaN   \n",
              "1                 NaN                NaN                  NaN           NaN   \n",
              "2             company            desktop  2019-01-03 08:59:15  banner_click   \n",
              "3                 NaN                NaN                  NaN           NaN   \n",
              "4                 NaN                NaN                  NaN           NaN   \n",
              "...               ...                ...                  ...           ...   \n",
              "7393309           NaN                NaN                  NaN           NaN   \n",
              "7393310           NaN                NaN                  NaN           NaN   \n",
              "7393311           NaN                NaN                  NaN           NaN   \n",
              "7393312           NaN                NaN                  NaN           NaN   \n",
              "7393313           NaN                NaN                  NaN           NaN   \n",
              "\n",
              "         target_click  \n",
              "0                 NaN  \n",
              "1                 NaN  \n",
              "2                 0.0  \n",
              "3                 NaN  \n",
              "4                 NaN  \n",
              "...               ...  \n",
              "7393309           NaN  \n",
              "7393310           NaN  \n",
              "7393311           NaN  \n",
              "7393312           NaN  \n",
              "7393313           NaN  \n",
              "\n",
              "[7393314 rows x 15 columns]"
            ],
            "text/html": [
              "\n",
              "  <div id=\"df-3f0bea01-2609-4e56-9161-1ea8741a187a\">\n",
              "    <div class=\"colab-df-container\">\n",
              "      <div>\n",
              "<style scoped>\n",
              "    .dataframe tbody tr th:only-of-type {\n",
              "        vertical-align: middle;\n",
              "    }\n",
              "\n",
              "    .dataframe tbody tr th {\n",
              "        vertical-align: top;\n",
              "    }\n",
              "\n",
              "    .dataframe thead th {\n",
              "        text-align: right;\n",
              "    }\n",
              "</style>\n",
              "<table border=\"1\" class=\"dataframe\">\n",
              "  <thead>\n",
              "    <tr style=\"text-align: right;\">\n",
              "      <th></th>\n",
              "      <th>order_id</th>\n",
              "      <th>user_id</th>\n",
              "      <th>page_id</th>\n",
              "      <th>product</th>\n",
              "      <th>site_version</th>\n",
              "      <th>time</th>\n",
              "      <th>title</th>\n",
              "      <th>target</th>\n",
              "      <th>order_id_click</th>\n",
              "      <th>user_id_click</th>\n",
              "      <th>product_click</th>\n",
              "      <th>site_version_click</th>\n",
              "      <th>time_click</th>\n",
              "      <th>title_click</th>\n",
              "      <th>target_click</th>\n",
              "    </tr>\n",
              "  </thead>\n",
              "  <tbody>\n",
              "    <tr>\n",
              "      <th>0</th>\n",
              "      <td>c4ca4238a0b923820dcc509a6f75849b</td>\n",
              "      <td>eccbc87e4b5ce2fe28308fd9f2a7baf3</td>\n",
              "      <td>4e732ced3463d06de0ca9a15b6153677</td>\n",
              "      <td>sneakers</td>\n",
              "      <td>desktop</td>\n",
              "      <td>2019-01-09 09:38:51</td>\n",
              "      <td>banner_show</td>\n",
              "      <td>0</td>\n",
              "      <td>NaN</td>\n",
              "      <td>NaN</td>\n",
              "      <td>NaN</td>\n",
              "      <td>NaN</td>\n",
              "      <td>NaN</td>\n",
              "      <td>NaN</td>\n",
              "      <td>NaN</td>\n",
              "    </tr>\n",
              "    <tr>\n",
              "      <th>1</th>\n",
              "      <td>c81e728d9d4c2f636f067f89cc14862c</td>\n",
              "      <td>eccbc87e4b5ce2fe28308fd9f2a7baf3</td>\n",
              "      <td>5c45a86277b8bf17bff6011be5cfb1b9</td>\n",
              "      <td>sports_nutrition</td>\n",
              "      <td>desktop</td>\n",
              "      <td>2019-01-09 09:12:45</td>\n",
              "      <td>banner_show</td>\n",
              "      <td>0</td>\n",
              "      <td>NaN</td>\n",
              "      <td>NaN</td>\n",
              "      <td>NaN</td>\n",
              "      <td>NaN</td>\n",
              "      <td>NaN</td>\n",
              "      <td>NaN</td>\n",
              "      <td>NaN</td>\n",
              "    </tr>\n",
              "    <tr>\n",
              "      <th>2</th>\n",
              "      <td>eccbc87e4b5ce2fe28308fd9f2a7baf3</td>\n",
              "      <td>eccbc87e4b5ce2fe28308fd9f2a7baf3</td>\n",
              "      <td>fb339ad311d50a229e497085aad219c7</td>\n",
              "      <td>company</td>\n",
              "      <td>desktop</td>\n",
              "      <td>2019-01-03 08:58:18</td>\n",
              "      <td>banner_show</td>\n",
              "      <td>0</td>\n",
              "      <td>a87ff679a2f3e71d9181a67b7542122c</td>\n",
              "      <td>eccbc87e4b5ce2fe28308fd9f2a7baf3</td>\n",
              "      <td>company</td>\n",
              "      <td>desktop</td>\n",
              "      <td>2019-01-03 08:59:15</td>\n",
              "      <td>banner_click</td>\n",
              "      <td>0.0</td>\n",
              "    </tr>\n",
              "    <tr>\n",
              "      <th>3</th>\n",
              "      <td>e4da3b7fbbce2345d7772b0674a318d5</td>\n",
              "      <td>a87ff679a2f3e71d9181a67b7542122c</td>\n",
              "      <td>182be0c5cdcd5072bb1864cdee4d3d6e</td>\n",
              "      <td>sports_nutrition</td>\n",
              "      <td>mobile</td>\n",
              "      <td>2019-01-14 05:33:39</td>\n",
              "      <td>banner_show</td>\n",
              "      <td>0</td>\n",
              "      <td>NaN</td>\n",
              "      <td>NaN</td>\n",
              "      <td>NaN</td>\n",
              "      <td>NaN</td>\n",
              "      <td>NaN</td>\n",
              "      <td>NaN</td>\n",
              "      <td>NaN</td>\n",
              "    </tr>\n",
              "    <tr>\n",
              "      <th>4</th>\n",
              "      <td>1679091c5a880faf6fb5e6087eb1b2dc</td>\n",
              "      <td>e4da3b7fbbce2345d7772b0674a318d5</td>\n",
              "      <td>e369853df766fa44e1ed0ff613f563bd</td>\n",
              "      <td>sneakers</td>\n",
              "      <td>mobile</td>\n",
              "      <td>2019-03-02 15:10:16</td>\n",
              "      <td>banner_show</td>\n",
              "      <td>0</td>\n",
              "      <td>NaN</td>\n",
              "      <td>NaN</td>\n",
              "      <td>NaN</td>\n",
              "      <td>NaN</td>\n",
              "      <td>NaN</td>\n",
              "      <td>NaN</td>\n",
              "      <td>NaN</td>\n",
              "    </tr>\n",
              "    <tr>\n",
              "      <th>...</th>\n",
              "      <td>...</td>\n",
              "      <td>...</td>\n",
              "      <td>...</td>\n",
              "      <td>...</td>\n",
              "      <td>...</td>\n",
              "      <td>...</td>\n",
              "      <td>...</td>\n",
              "      <td>...</td>\n",
              "      <td>...</td>\n",
              "      <td>...</td>\n",
              "      <td>...</td>\n",
              "      <td>...</td>\n",
              "      <td>...</td>\n",
              "      <td>...</td>\n",
              "      <td>...</td>\n",
              "    </tr>\n",
              "    <tr>\n",
              "      <th>7393309</th>\n",
              "      <td>70c275428b8d53eef294d0529253b694</td>\n",
              "      <td>59e736f90b5f8003072bf0eb271ddb86</td>\n",
              "      <td>7bc3a33568d00773d5b58d6c7348bf3e</td>\n",
              "      <td>accessories</td>\n",
              "      <td>desktop</td>\n",
              "      <td>2019-05-23 14:07:00</td>\n",
              "      <td>banner_show</td>\n",
              "      <td>0</td>\n",
              "      <td>NaN</td>\n",
              "      <td>NaN</td>\n",
              "      <td>NaN</td>\n",
              "      <td>NaN</td>\n",
              "      <td>NaN</td>\n",
              "      <td>NaN</td>\n",
              "      <td>NaN</td>\n",
              "    </tr>\n",
              "    <tr>\n",
              "      <th>7393310</th>\n",
              "      <td>94c9a2a0c11c2b88e49c13e401608c86</td>\n",
              "      <td>69d73bfcaaa83217c903627e602ae01c</td>\n",
              "      <td>f236830bcbb2d279c0c7c3d7f5d3a970</td>\n",
              "      <td>clothes</td>\n",
              "      <td>mobile</td>\n",
              "      <td>2019-05-28 08:10:20</td>\n",
              "      <td>banner_show</td>\n",
              "      <td>0</td>\n",
              "      <td>NaN</td>\n",
              "      <td>NaN</td>\n",
              "      <td>NaN</td>\n",
              "      <td>NaN</td>\n",
              "      <td>NaN</td>\n",
              "      <td>NaN</td>\n",
              "      <td>NaN</td>\n",
              "    </tr>\n",
              "    <tr>\n",
              "      <th>7393311</th>\n",
              "      <td>862568e6013bc378b06f43c3e466521a</td>\n",
              "      <td>61728d26a9c9feb9e128c17b400062c8</td>\n",
              "      <td>4fc14437e418f19200e71acf4f34b3ba</td>\n",
              "      <td>sports_nutrition</td>\n",
              "      <td>mobile</td>\n",
              "      <td>2019-05-20 09:20:50</td>\n",
              "      <td>banner_show</td>\n",
              "      <td>0</td>\n",
              "      <td>NaN</td>\n",
              "      <td>NaN</td>\n",
              "      <td>NaN</td>\n",
              "      <td>NaN</td>\n",
              "      <td>NaN</td>\n",
              "      <td>NaN</td>\n",
              "      <td>NaN</td>\n",
              "    </tr>\n",
              "    <tr>\n",
              "      <th>7393312</th>\n",
              "      <td>7c70b42806372ba85f47a3956f23a114</td>\n",
              "      <td>f90e8c3bcf3867e65d62a2a08189a35a</td>\n",
              "      <td>c6a3e7758b9c0a43417c4a2c1a4504dd</td>\n",
              "      <td>sneakers</td>\n",
              "      <td>mobile</td>\n",
              "      <td>2019-05-28 19:25:42</td>\n",
              "      <td>banner_show</td>\n",
              "      <td>0</td>\n",
              "      <td>NaN</td>\n",
              "      <td>NaN</td>\n",
              "      <td>NaN</td>\n",
              "      <td>NaN</td>\n",
              "      <td>NaN</td>\n",
              "      <td>NaN</td>\n",
              "      <td>NaN</td>\n",
              "    </tr>\n",
              "    <tr>\n",
              "      <th>7393313</th>\n",
              "      <td>523a4286c51e560121455fc040096ef3</td>\n",
              "      <td>4c242cc2c01c9a6cb4b6659e5263c8aa</td>\n",
              "      <td>fa337cd9c198d70261019940f06bf7fb</td>\n",
              "      <td>accessories</td>\n",
              "      <td>mobile</td>\n",
              "      <td>2019-05-31 09:18:24</td>\n",
              "      <td>banner_show</td>\n",
              "      <td>0</td>\n",
              "      <td>NaN</td>\n",
              "      <td>NaN</td>\n",
              "      <td>NaN</td>\n",
              "      <td>NaN</td>\n",
              "      <td>NaN</td>\n",
              "      <td>NaN</td>\n",
              "      <td>NaN</td>\n",
              "    </tr>\n",
              "  </tbody>\n",
              "</table>\n",
              "<p>7393314 rows × 15 columns</p>\n",
              "</div>\n",
              "      <button class=\"colab-df-convert\" onclick=\"convertToInteractive('df-3f0bea01-2609-4e56-9161-1ea8741a187a')\"\n",
              "              title=\"Convert this dataframe to an interactive table.\"\n",
              "              style=\"display:none;\">\n",
              "        \n",
              "  <svg xmlns=\"http://www.w3.org/2000/svg\" height=\"24px\"viewBox=\"0 0 24 24\"\n",
              "       width=\"24px\">\n",
              "    <path d=\"M0 0h24v24H0V0z\" fill=\"none\"/>\n",
              "    <path d=\"M18.56 5.44l.94 2.06.94-2.06 2.06-.94-2.06-.94-.94-2.06-.94 2.06-2.06.94zm-11 1L8.5 8.5l.94-2.06 2.06-.94-2.06-.94L8.5 2.5l-.94 2.06-2.06.94zm10 10l.94 2.06.94-2.06 2.06-.94-2.06-.94-.94-2.06-.94 2.06-2.06.94z\"/><path d=\"M17.41 7.96l-1.37-1.37c-.4-.4-.92-.59-1.43-.59-.52 0-1.04.2-1.43.59L10.3 9.45l-7.72 7.72c-.78.78-.78 2.05 0 2.83L4 21.41c.39.39.9.59 1.41.59.51 0 1.02-.2 1.41-.59l7.78-7.78 2.81-2.81c.8-.78.8-2.07 0-2.86zM5.41 20L4 18.59l7.72-7.72 1.47 1.35L5.41 20z\"/>\n",
              "  </svg>\n",
              "      </button>\n",
              "      \n",
              "  <style>\n",
              "    .colab-df-container {\n",
              "      display:flex;\n",
              "      flex-wrap:wrap;\n",
              "      gap: 12px;\n",
              "    }\n",
              "\n",
              "    .colab-df-convert {\n",
              "      background-color: #E8F0FE;\n",
              "      border: none;\n",
              "      border-radius: 50%;\n",
              "      cursor: pointer;\n",
              "      display: none;\n",
              "      fill: #1967D2;\n",
              "      height: 32px;\n",
              "      padding: 0 0 0 0;\n",
              "      width: 32px;\n",
              "    }\n",
              "\n",
              "    .colab-df-convert:hover {\n",
              "      background-color: #E2EBFA;\n",
              "      box-shadow: 0px 1px 2px rgba(60, 64, 67, 0.3), 0px 1px 3px 1px rgba(60, 64, 67, 0.15);\n",
              "      fill: #174EA6;\n",
              "    }\n",
              "\n",
              "    [theme=dark] .colab-df-convert {\n",
              "      background-color: #3B4455;\n",
              "      fill: #D2E3FC;\n",
              "    }\n",
              "\n",
              "    [theme=dark] .colab-df-convert:hover {\n",
              "      background-color: #434B5C;\n",
              "      box-shadow: 0px 1px 3px 1px rgba(0, 0, 0, 0.15);\n",
              "      filter: drop-shadow(0px 1px 2px rgba(0, 0, 0, 0.3));\n",
              "      fill: #FFFFFF;\n",
              "    }\n",
              "  </style>\n",
              "\n",
              "      <script>\n",
              "        const buttonEl =\n",
              "          document.querySelector('#df-3f0bea01-2609-4e56-9161-1ea8741a187a button.colab-df-convert');\n",
              "        buttonEl.style.display =\n",
              "          google.colab.kernel.accessAllowed ? 'block' : 'none';\n",
              "\n",
              "        async function convertToInteractive(key) {\n",
              "          const element = document.querySelector('#df-3f0bea01-2609-4e56-9161-1ea8741a187a');\n",
              "          const dataTable =\n",
              "            await google.colab.kernel.invokeFunction('convertToInteractive',\n",
              "                                                     [key], {});\n",
              "          if (!dataTable) return;\n",
              "\n",
              "          const docLinkHtml = 'Like what you see? Visit the ' +\n",
              "            '<a target=\"_blank\" href=https://colab.research.google.com/notebooks/data_table.ipynb>data table notebook</a>'\n",
              "            + ' to learn more about interactive tables.';\n",
              "          element.innerHTML = '';\n",
              "          dataTable['output_type'] = 'display_data';\n",
              "          await google.colab.output.renderOutput(dataTable, element);\n",
              "          const docLink = document.createElement('div');\n",
              "          docLink.innerHTML = docLinkHtml;\n",
              "          element.appendChild(docLink);\n",
              "        }\n",
              "      </script>\n",
              "    </div>\n",
              "  </div>\n",
              "  "
            ]
          },
          "metadata": {},
          "execution_count": 145
        }
      ]
    },
    {
      "cell_type": "code",
      "source": [
        "show_click = show_click[['page_id', 'time', 'title', 'title_click' ]]  # mapping label 1 for click and 0 for don't\n",
        "show_click = show_click.fillna(0)\n",
        "show_click['title_click'] = show_click['title_click'].replace('banner_click',1)\n",
        "show_click = show_click.drop('title', axis = 1)\n",
        "show_click"
      ],
      "metadata": {
        "colab": {
          "base_uri": "https://localhost:8080/",
          "height": 424
        },
        "id": "LOyOYoXTZLcU",
        "outputId": "e88d2726-d152-4c1b-a7aa-e81999f71c1b"
      },
      "execution_count": 148,
      "outputs": [
        {
          "output_type": "execute_result",
          "data": {
            "text/plain": [
              "                                  page_id                 time  title_click\n",
              "0        4e732ced3463d06de0ca9a15b6153677  2019-01-09 09:38:51            0\n",
              "1        5c45a86277b8bf17bff6011be5cfb1b9  2019-01-09 09:12:45            0\n",
              "2        fb339ad311d50a229e497085aad219c7  2019-01-03 08:58:18            1\n",
              "3        182be0c5cdcd5072bb1864cdee4d3d6e  2019-01-14 05:33:39            0\n",
              "4        e369853df766fa44e1ed0ff613f563bd  2019-03-02 15:10:16            0\n",
              "...                                   ...                  ...          ...\n",
              "7393309  7bc3a33568d00773d5b58d6c7348bf3e  2019-05-23 14:07:00            0\n",
              "7393310  f236830bcbb2d279c0c7c3d7f5d3a970  2019-05-28 08:10:20            0\n",
              "7393311  4fc14437e418f19200e71acf4f34b3ba  2019-05-20 09:20:50            0\n",
              "7393312  c6a3e7758b9c0a43417c4a2c1a4504dd  2019-05-28 19:25:42            0\n",
              "7393313  fa337cd9c198d70261019940f06bf7fb  2019-05-31 09:18:24            0\n",
              "\n",
              "[7393314 rows x 3 columns]"
            ],
            "text/html": [
              "\n",
              "  <div id=\"df-4b1befb5-2c26-4434-a712-917e9f140a0c\">\n",
              "    <div class=\"colab-df-container\">\n",
              "      <div>\n",
              "<style scoped>\n",
              "    .dataframe tbody tr th:only-of-type {\n",
              "        vertical-align: middle;\n",
              "    }\n",
              "\n",
              "    .dataframe tbody tr th {\n",
              "        vertical-align: top;\n",
              "    }\n",
              "\n",
              "    .dataframe thead th {\n",
              "        text-align: right;\n",
              "    }\n",
              "</style>\n",
              "<table border=\"1\" class=\"dataframe\">\n",
              "  <thead>\n",
              "    <tr style=\"text-align: right;\">\n",
              "      <th></th>\n",
              "      <th>page_id</th>\n",
              "      <th>time</th>\n",
              "      <th>title_click</th>\n",
              "    </tr>\n",
              "  </thead>\n",
              "  <tbody>\n",
              "    <tr>\n",
              "      <th>0</th>\n",
              "      <td>4e732ced3463d06de0ca9a15b6153677</td>\n",
              "      <td>2019-01-09 09:38:51</td>\n",
              "      <td>0</td>\n",
              "    </tr>\n",
              "    <tr>\n",
              "      <th>1</th>\n",
              "      <td>5c45a86277b8bf17bff6011be5cfb1b9</td>\n",
              "      <td>2019-01-09 09:12:45</td>\n",
              "      <td>0</td>\n",
              "    </tr>\n",
              "    <tr>\n",
              "      <th>2</th>\n",
              "      <td>fb339ad311d50a229e497085aad219c7</td>\n",
              "      <td>2019-01-03 08:58:18</td>\n",
              "      <td>1</td>\n",
              "    </tr>\n",
              "    <tr>\n",
              "      <th>3</th>\n",
              "      <td>182be0c5cdcd5072bb1864cdee4d3d6e</td>\n",
              "      <td>2019-01-14 05:33:39</td>\n",
              "      <td>0</td>\n",
              "    </tr>\n",
              "    <tr>\n",
              "      <th>4</th>\n",
              "      <td>e369853df766fa44e1ed0ff613f563bd</td>\n",
              "      <td>2019-03-02 15:10:16</td>\n",
              "      <td>0</td>\n",
              "    </tr>\n",
              "    <tr>\n",
              "      <th>...</th>\n",
              "      <td>...</td>\n",
              "      <td>...</td>\n",
              "      <td>...</td>\n",
              "    </tr>\n",
              "    <tr>\n",
              "      <th>7393309</th>\n",
              "      <td>7bc3a33568d00773d5b58d6c7348bf3e</td>\n",
              "      <td>2019-05-23 14:07:00</td>\n",
              "      <td>0</td>\n",
              "    </tr>\n",
              "    <tr>\n",
              "      <th>7393310</th>\n",
              "      <td>f236830bcbb2d279c0c7c3d7f5d3a970</td>\n",
              "      <td>2019-05-28 08:10:20</td>\n",
              "      <td>0</td>\n",
              "    </tr>\n",
              "    <tr>\n",
              "      <th>7393311</th>\n",
              "      <td>4fc14437e418f19200e71acf4f34b3ba</td>\n",
              "      <td>2019-05-20 09:20:50</td>\n",
              "      <td>0</td>\n",
              "    </tr>\n",
              "    <tr>\n",
              "      <th>7393312</th>\n",
              "      <td>c6a3e7758b9c0a43417c4a2c1a4504dd</td>\n",
              "      <td>2019-05-28 19:25:42</td>\n",
              "      <td>0</td>\n",
              "    </tr>\n",
              "    <tr>\n",
              "      <th>7393313</th>\n",
              "      <td>fa337cd9c198d70261019940f06bf7fb</td>\n",
              "      <td>2019-05-31 09:18:24</td>\n",
              "      <td>0</td>\n",
              "    </tr>\n",
              "  </tbody>\n",
              "</table>\n",
              "<p>7393314 rows × 3 columns</p>\n",
              "</div>\n",
              "      <button class=\"colab-df-convert\" onclick=\"convertToInteractive('df-4b1befb5-2c26-4434-a712-917e9f140a0c')\"\n",
              "              title=\"Convert this dataframe to an interactive table.\"\n",
              "              style=\"display:none;\">\n",
              "        \n",
              "  <svg xmlns=\"http://www.w3.org/2000/svg\" height=\"24px\"viewBox=\"0 0 24 24\"\n",
              "       width=\"24px\">\n",
              "    <path d=\"M0 0h24v24H0V0z\" fill=\"none\"/>\n",
              "    <path d=\"M18.56 5.44l.94 2.06.94-2.06 2.06-.94-2.06-.94-.94-2.06-.94 2.06-2.06.94zm-11 1L8.5 8.5l.94-2.06 2.06-.94-2.06-.94L8.5 2.5l-.94 2.06-2.06.94zm10 10l.94 2.06.94-2.06 2.06-.94-2.06-.94-.94-2.06-.94 2.06-2.06.94z\"/><path d=\"M17.41 7.96l-1.37-1.37c-.4-.4-.92-.59-1.43-.59-.52 0-1.04.2-1.43.59L10.3 9.45l-7.72 7.72c-.78.78-.78 2.05 0 2.83L4 21.41c.39.39.9.59 1.41.59.51 0 1.02-.2 1.41-.59l7.78-7.78 2.81-2.81c.8-.78.8-2.07 0-2.86zM5.41 20L4 18.59l7.72-7.72 1.47 1.35L5.41 20z\"/>\n",
              "  </svg>\n",
              "      </button>\n",
              "      \n",
              "  <style>\n",
              "    .colab-df-container {\n",
              "      display:flex;\n",
              "      flex-wrap:wrap;\n",
              "      gap: 12px;\n",
              "    }\n",
              "\n",
              "    .colab-df-convert {\n",
              "      background-color: #E8F0FE;\n",
              "      border: none;\n",
              "      border-radius: 50%;\n",
              "      cursor: pointer;\n",
              "      display: none;\n",
              "      fill: #1967D2;\n",
              "      height: 32px;\n",
              "      padding: 0 0 0 0;\n",
              "      width: 32px;\n",
              "    }\n",
              "\n",
              "    .colab-df-convert:hover {\n",
              "      background-color: #E2EBFA;\n",
              "      box-shadow: 0px 1px 2px rgba(60, 64, 67, 0.3), 0px 1px 3px 1px rgba(60, 64, 67, 0.15);\n",
              "      fill: #174EA6;\n",
              "    }\n",
              "\n",
              "    [theme=dark] .colab-df-convert {\n",
              "      background-color: #3B4455;\n",
              "      fill: #D2E3FC;\n",
              "    }\n",
              "\n",
              "    [theme=dark] .colab-df-convert:hover {\n",
              "      background-color: #434B5C;\n",
              "      box-shadow: 0px 1px 3px 1px rgba(0, 0, 0, 0.15);\n",
              "      filter: drop-shadow(0px 1px 2px rgba(0, 0, 0, 0.3));\n",
              "      fill: #FFFFFF;\n",
              "    }\n",
              "  </style>\n",
              "\n",
              "      <script>\n",
              "        const buttonEl =\n",
              "          document.querySelector('#df-4b1befb5-2c26-4434-a712-917e9f140a0c button.colab-df-convert');\n",
              "        buttonEl.style.display =\n",
              "          google.colab.kernel.accessAllowed ? 'block' : 'none';\n",
              "\n",
              "        async function convertToInteractive(key) {\n",
              "          const element = document.querySelector('#df-4b1befb5-2c26-4434-a712-917e9f140a0c');\n",
              "          const dataTable =\n",
              "            await google.colab.kernel.invokeFunction('convertToInteractive',\n",
              "                                                     [key], {});\n",
              "          if (!dataTable) return;\n",
              "\n",
              "          const docLinkHtml = 'Like what you see? Visit the ' +\n",
              "            '<a target=\"_blank\" href=https://colab.research.google.com/notebooks/data_table.ipynb>data table notebook</a>'\n",
              "            + ' to learn more about interactive tables.';\n",
              "          element.innerHTML = '';\n",
              "          dataTable['output_type'] = 'display_data';\n",
              "          await google.colab.output.renderOutput(dataTable, element);\n",
              "          const docLink = document.createElement('div');\n",
              "          docLink.innerHTML = docLinkHtml;\n",
              "          element.appendChild(docLink);\n",
              "        }\n",
              "      </script>\n",
              "    </div>\n",
              "  </div>\n",
              "  "
            ]
          },
          "metadata": {},
          "execution_count": 148
        }
      ]
    },
    {
      "cell_type": "code",
      "source": [
        "show_click['time'] = pd.to_datetime(show_click['time'])  # extract days\n",
        "show_click['days'] = show_click['time'].dt.to_period('d')\n",
        "show_click = show_click.drop('time', axis = 1)\n",
        "show_click"
      ],
      "metadata": {
        "colab": {
          "base_uri": "https://localhost:8080/",
          "height": 424
        },
        "id": "FWagsfelZ4-w",
        "outputId": "2c627a8a-3fc5-48c1-c526-a85767b2cc52"
      },
      "execution_count": 149,
      "outputs": [
        {
          "output_type": "execute_result",
          "data": {
            "text/plain": [
              "                                  page_id  title_click        days\n",
              "0        4e732ced3463d06de0ca9a15b6153677            0  2019-01-09\n",
              "1        5c45a86277b8bf17bff6011be5cfb1b9            0  2019-01-09\n",
              "2        fb339ad311d50a229e497085aad219c7            1  2019-01-03\n",
              "3        182be0c5cdcd5072bb1864cdee4d3d6e            0  2019-01-14\n",
              "4        e369853df766fa44e1ed0ff613f563bd            0  2019-03-02\n",
              "...                                   ...          ...         ...\n",
              "7393309  7bc3a33568d00773d5b58d6c7348bf3e            0  2019-05-23\n",
              "7393310  f236830bcbb2d279c0c7c3d7f5d3a970            0  2019-05-28\n",
              "7393311  4fc14437e418f19200e71acf4f34b3ba            0  2019-05-20\n",
              "7393312  c6a3e7758b9c0a43417c4a2c1a4504dd            0  2019-05-28\n",
              "7393313  fa337cd9c198d70261019940f06bf7fb            0  2019-05-31\n",
              "\n",
              "[7393314 rows x 3 columns]"
            ],
            "text/html": [
              "\n",
              "  <div id=\"df-d20d2f4b-8c0d-40a5-8d97-b6ea9c7c02eb\">\n",
              "    <div class=\"colab-df-container\">\n",
              "      <div>\n",
              "<style scoped>\n",
              "    .dataframe tbody tr th:only-of-type {\n",
              "        vertical-align: middle;\n",
              "    }\n",
              "\n",
              "    .dataframe tbody tr th {\n",
              "        vertical-align: top;\n",
              "    }\n",
              "\n",
              "    .dataframe thead th {\n",
              "        text-align: right;\n",
              "    }\n",
              "</style>\n",
              "<table border=\"1\" class=\"dataframe\">\n",
              "  <thead>\n",
              "    <tr style=\"text-align: right;\">\n",
              "      <th></th>\n",
              "      <th>page_id</th>\n",
              "      <th>title_click</th>\n",
              "      <th>days</th>\n",
              "    </tr>\n",
              "  </thead>\n",
              "  <tbody>\n",
              "    <tr>\n",
              "      <th>0</th>\n",
              "      <td>4e732ced3463d06de0ca9a15b6153677</td>\n",
              "      <td>0</td>\n",
              "      <td>2019-01-09</td>\n",
              "    </tr>\n",
              "    <tr>\n",
              "      <th>1</th>\n",
              "      <td>5c45a86277b8bf17bff6011be5cfb1b9</td>\n",
              "      <td>0</td>\n",
              "      <td>2019-01-09</td>\n",
              "    </tr>\n",
              "    <tr>\n",
              "      <th>2</th>\n",
              "      <td>fb339ad311d50a229e497085aad219c7</td>\n",
              "      <td>1</td>\n",
              "      <td>2019-01-03</td>\n",
              "    </tr>\n",
              "    <tr>\n",
              "      <th>3</th>\n",
              "      <td>182be0c5cdcd5072bb1864cdee4d3d6e</td>\n",
              "      <td>0</td>\n",
              "      <td>2019-01-14</td>\n",
              "    </tr>\n",
              "    <tr>\n",
              "      <th>4</th>\n",
              "      <td>e369853df766fa44e1ed0ff613f563bd</td>\n",
              "      <td>0</td>\n",
              "      <td>2019-03-02</td>\n",
              "    </tr>\n",
              "    <tr>\n",
              "      <th>...</th>\n",
              "      <td>...</td>\n",
              "      <td>...</td>\n",
              "      <td>...</td>\n",
              "    </tr>\n",
              "    <tr>\n",
              "      <th>7393309</th>\n",
              "      <td>7bc3a33568d00773d5b58d6c7348bf3e</td>\n",
              "      <td>0</td>\n",
              "      <td>2019-05-23</td>\n",
              "    </tr>\n",
              "    <tr>\n",
              "      <th>7393310</th>\n",
              "      <td>f236830bcbb2d279c0c7c3d7f5d3a970</td>\n",
              "      <td>0</td>\n",
              "      <td>2019-05-28</td>\n",
              "    </tr>\n",
              "    <tr>\n",
              "      <th>7393311</th>\n",
              "      <td>4fc14437e418f19200e71acf4f34b3ba</td>\n",
              "      <td>0</td>\n",
              "      <td>2019-05-20</td>\n",
              "    </tr>\n",
              "    <tr>\n",
              "      <th>7393312</th>\n",
              "      <td>c6a3e7758b9c0a43417c4a2c1a4504dd</td>\n",
              "      <td>0</td>\n",
              "      <td>2019-05-28</td>\n",
              "    </tr>\n",
              "    <tr>\n",
              "      <th>7393313</th>\n",
              "      <td>fa337cd9c198d70261019940f06bf7fb</td>\n",
              "      <td>0</td>\n",
              "      <td>2019-05-31</td>\n",
              "    </tr>\n",
              "  </tbody>\n",
              "</table>\n",
              "<p>7393314 rows × 3 columns</p>\n",
              "</div>\n",
              "      <button class=\"colab-df-convert\" onclick=\"convertToInteractive('df-d20d2f4b-8c0d-40a5-8d97-b6ea9c7c02eb')\"\n",
              "              title=\"Convert this dataframe to an interactive table.\"\n",
              "              style=\"display:none;\">\n",
              "        \n",
              "  <svg xmlns=\"http://www.w3.org/2000/svg\" height=\"24px\"viewBox=\"0 0 24 24\"\n",
              "       width=\"24px\">\n",
              "    <path d=\"M0 0h24v24H0V0z\" fill=\"none\"/>\n",
              "    <path d=\"M18.56 5.44l.94 2.06.94-2.06 2.06-.94-2.06-.94-.94-2.06-.94 2.06-2.06.94zm-11 1L8.5 8.5l.94-2.06 2.06-.94-2.06-.94L8.5 2.5l-.94 2.06-2.06.94zm10 10l.94 2.06.94-2.06 2.06-.94-2.06-.94-.94-2.06-.94 2.06-2.06.94z\"/><path d=\"M17.41 7.96l-1.37-1.37c-.4-.4-.92-.59-1.43-.59-.52 0-1.04.2-1.43.59L10.3 9.45l-7.72 7.72c-.78.78-.78 2.05 0 2.83L4 21.41c.39.39.9.59 1.41.59.51 0 1.02-.2 1.41-.59l7.78-7.78 2.81-2.81c.8-.78.8-2.07 0-2.86zM5.41 20L4 18.59l7.72-7.72 1.47 1.35L5.41 20z\"/>\n",
              "  </svg>\n",
              "      </button>\n",
              "      \n",
              "  <style>\n",
              "    .colab-df-container {\n",
              "      display:flex;\n",
              "      flex-wrap:wrap;\n",
              "      gap: 12px;\n",
              "    }\n",
              "\n",
              "    .colab-df-convert {\n",
              "      background-color: #E8F0FE;\n",
              "      border: none;\n",
              "      border-radius: 50%;\n",
              "      cursor: pointer;\n",
              "      display: none;\n",
              "      fill: #1967D2;\n",
              "      height: 32px;\n",
              "      padding: 0 0 0 0;\n",
              "      width: 32px;\n",
              "    }\n",
              "\n",
              "    .colab-df-convert:hover {\n",
              "      background-color: #E2EBFA;\n",
              "      box-shadow: 0px 1px 2px rgba(60, 64, 67, 0.3), 0px 1px 3px 1px rgba(60, 64, 67, 0.15);\n",
              "      fill: #174EA6;\n",
              "    }\n",
              "\n",
              "    [theme=dark] .colab-df-convert {\n",
              "      background-color: #3B4455;\n",
              "      fill: #D2E3FC;\n",
              "    }\n",
              "\n",
              "    [theme=dark] .colab-df-convert:hover {\n",
              "      background-color: #434B5C;\n",
              "      box-shadow: 0px 1px 3px 1px rgba(0, 0, 0, 0.15);\n",
              "      filter: drop-shadow(0px 1px 2px rgba(0, 0, 0, 0.3));\n",
              "      fill: #FFFFFF;\n",
              "    }\n",
              "  </style>\n",
              "\n",
              "      <script>\n",
              "        const buttonEl =\n",
              "          document.querySelector('#df-d20d2f4b-8c0d-40a5-8d97-b6ea9c7c02eb button.colab-df-convert');\n",
              "        buttonEl.style.display =\n",
              "          google.colab.kernel.accessAllowed ? 'block' : 'none';\n",
              "\n",
              "        async function convertToInteractive(key) {\n",
              "          const element = document.querySelector('#df-d20d2f4b-8c0d-40a5-8d97-b6ea9c7c02eb');\n",
              "          const dataTable =\n",
              "            await google.colab.kernel.invokeFunction('convertToInteractive',\n",
              "                                                     [key], {});\n",
              "          if (!dataTable) return;\n",
              "\n",
              "          const docLinkHtml = 'Like what you see? Visit the ' +\n",
              "            '<a target=\"_blank\" href=https://colab.research.google.com/notebooks/data_table.ipynb>data table notebook</a>'\n",
              "            + ' to learn more about interactive tables.';\n",
              "          element.innerHTML = '';\n",
              "          dataTable['output_type'] = 'display_data';\n",
              "          await google.colab.output.renderOutput(dataTable, element);\n",
              "          const docLink = document.createElement('div');\n",
              "          docLink.innerHTML = docLinkHtml;\n",
              "          element.appendChild(docLink);\n",
              "        }\n",
              "      </script>\n",
              "    </div>\n",
              "  </div>\n",
              "  "
            ]
          },
          "metadata": {},
          "execution_count": 149
        }
      ]
    },
    {
      "cell_type": "code",
      "source": [
        "count_days = show_click.groupby('days')['title_click'].count()  #  count banner show per days\n",
        "count_days"
      ],
      "metadata": {
        "colab": {
          "base_uri": "https://localhost:8080/"
        },
        "id": "vJXiDwiNa61d",
        "outputId": "c595747c-7a57-4238-a81c-008d4dd51f3c"
      },
      "execution_count": 150,
      "outputs": [
        {
          "output_type": "execute_result",
          "data": {
            "text/plain": [
              "days\n",
              "2019-01-01    28993\n",
              "2019-01-02    31338\n",
              "2019-01-03    33576\n",
              "2019-01-04    35702\n",
              "2019-01-05    37623\n",
              "              ...  \n",
              "2019-05-27    47090\n",
              "2019-05-28    43719\n",
              "2019-05-29    41196\n",
              "2019-05-30    37585\n",
              "2019-05-31    35024\n",
              "Freq: D, Name: title_click, Length: 151, dtype: int64"
            ]
          },
          "metadata": {},
          "execution_count": 150
        }
      ]
    },
    {
      "cell_type": "code",
      "source": [
        "click_per_day = show_click.groupby('days')['title_click'].sum()  #  count banner click per days\n",
        "click_per_day"
      ],
      "metadata": {
        "colab": {
          "base_uri": "https://localhost:8080/"
        },
        "id": "Ic3j6l49vq18",
        "outputId": "01f3b614-e483-42f1-ad4a-eb7f290464db"
      },
      "execution_count": 152,
      "outputs": [
        {
          "output_type": "execute_result",
          "data": {
            "text/plain": [
              "days\n",
              "2019-01-01    3360\n",
              "2019-01-02    3541\n",
              "2019-01-03    3813\n",
              "2019-01-04    4060\n",
              "2019-01-05    4264\n",
              "              ... \n",
              "2019-05-27    5325\n",
              "2019-05-28    5030\n",
              "2019-05-29    4606\n",
              "2019-05-30    4279\n",
              "2019-05-31    3993\n",
              "Freq: D, Name: title_click, Length: 151, dtype: int64"
            ]
          },
          "metadata": {},
          "execution_count": 152
        }
      ]
    },
    {
      "cell_type": "code",
      "source": [
        "conversion_rate_per_day = click_per_day / count_days  * 100 # click throught rate per days\n",
        "conversion_rate_per_day"
      ],
      "metadata": {
        "colab": {
          "base_uri": "https://localhost:8080/"
        },
        "id": "kAFBhi27a-0-",
        "outputId": "fd21818d-6f18-4a78-e9ab-86c9650ae87a"
      },
      "execution_count": 158,
      "outputs": [
        {
          "output_type": "execute_result",
          "data": {
            "text/plain": [
              "days\n",
              "2019-01-01    11.589004\n",
              "2019-01-02    11.299381\n",
              "2019-01-03    11.356326\n",
              "2019-01-04    11.371912\n",
              "2019-01-05    11.333493\n",
              "                ...    \n",
              "2019-05-27    11.308133\n",
              "2019-05-28    11.505295\n",
              "2019-05-29    11.180697\n",
              "2019-05-30    11.384861\n",
              "2019-05-31    11.400754\n",
              "Freq: D, Name: title_click, Length: 151, dtype: float64"
            ]
          },
          "metadata": {},
          "execution_count": 158
        }
      ]
    },
    {
      "cell_type": "code",
      "source": [
        "all_cr = conversion_rate_per_day.values.tolist()"
      ],
      "metadata": {
        "id": "iFTvmb6Kxj88"
      },
      "execution_count": 163,
      "outputs": []
    },
    {
      "cell_type": "code",
      "source": [
        "import matplotlib.pyplot as plt\n",
        "import seaborn as sns\n",
        "plt.style.use('ggplot')"
      ],
      "metadata": {
        "id": "mNbQ0q9YhuuP"
      },
      "execution_count": 110,
      "outputs": []
    },
    {
      "cell_type": "code",
      "source": [
        "plt.figure(figsize = (15,5))\n",
        "plt.hist(all_cr)\n",
        "plt.title('Click throught rate per day distribution')"
      ],
      "metadata": {
        "colab": {
          "base_uri": "https://localhost:8080/",
          "height": 354
        },
        "id": "wD5kXqDUhfnC",
        "outputId": "4887fc5c-81b1-48f9-b578-e7ae56b890a6"
      },
      "execution_count": 177,
      "outputs": [
        {
          "output_type": "execute_result",
          "data": {
            "text/plain": [
              "Text(0.5, 1.0, 'Click throught rate per day distribution')"
            ]
          },
          "metadata": {},
          "execution_count": 177
        },
        {
          "output_type": "display_data",
          "data": {
            "text/plain": [
              "<Figure size 1080x360 with 1 Axes>"
            ],
            "image/png": "[encoded data removed]"
          },
          "metadata": {}
        }
      ]
    },
    {
      "cell_type": "markdown",
      "source": [
        "Suppose we have to improve the conversion rate efficient by 2%"
      ],
      "metadata": {
        "id": "ZvUYzJsQ1JNd"
      }
    },
    {
      "cell_type": "code",
      "source": [
        "np.mean(show_click['title_click'].values)  #  mean of click throught rate"
      ],
      "metadata": {
        "colab": {
          "base_uri": "https://localhost:8080/"
        },
        "id": "i3eEdPNt0IHt",
        "outputId": "23813a95-8856-472b-f668-178cb2d7bffb"
      },
      "execution_count": 181,
      "outputs": [
        {
          "output_type": "execute_result",
          "data": {
            "text/plain": [
              "0.11215308858787819"
            ]
          },
          "metadata": {},
          "execution_count": 181
        }
      ]
    },
    {
      "cell_type": "code",
      "source": [
        "np.std(show_click['title_click'].values)  #  std of click throught rate"
      ],
      "metadata": {
        "colab": {
          "base_uri": "https://localhost:8080/"
        },
        "id": "1cO8luWah8Mo",
        "outputId": "b13cd5a5-0fba-4688-92a6-66b94fc05cb5"
      },
      "execution_count": 182,
      "outputs": [
        {
          "output_type": "execute_result",
          "data": {
            "text/plain": [
              "0.315554707314085"
            ]
          },
          "metadata": {},
          "execution_count": 182
        }
      ]
    },
    {
      "cell_type": "code",
      "source": [
        "(np.mean(show_click['title_click'].values)) + (np.mean(show_click['title_click'].values) * 0.02)  # the result of click throught rate per days improve by 2%"
      ],
      "metadata": {
        "colab": {
          "base_uri": "https://localhost:8080/"
        },
        "id": "OXZwLn3ciOdL",
        "outputId": "a0dbb7d5-94db-41f4-f628-7b18766e7234"
      },
      "execution_count": 183,
      "outputs": [
        {
          "output_type": "execute_result",
          "data": {
            "text/plain": [
              "0.11439615035963575"
            ]
          },
          "metadata": {},
          "execution_count": 183
        }
      ]
    },
    {
      "cell_type": "markdown",
      "source": [
        "# Conclusion"
      ],
      "metadata": {
        "id": "lPH9nefq4Kac"
      }
    },
    {
      "cell_type": "markdown",
      "source": [
        "Calculator for AB test sample size\n",
        "[link text](https://clincalc.com/stats/samplesize.aspx)"
      ],
      "metadata": {
        "id": "KDqc98Uk4Svi"
      }
    },
    {
      "cell_type": "markdown",
      "source": [
        "By Calculator above with 95% confident\n",
        "\n",
        "and statistic power 80%\n",
        "\n",
        "the approximation of sample size for perform A/B test is 621364\n",
        "\n",
        "by traffic around 50k banner shown per days\n",
        "\n",
        "this experiment will took 12 day long."
      ],
      "metadata": {
        "id": "5IgnUgC-2kuO"
      }
    }
  ]
}