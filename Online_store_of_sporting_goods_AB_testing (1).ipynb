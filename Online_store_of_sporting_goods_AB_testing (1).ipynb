{
  "nbformat": 4,
  "nbformat_minor": 0,
  "metadata": {
    "colab": {
      "name": "Online store of sporting goods AB_testing.ipynb",
      "provenance": []
    },
    "kernelspec": {
      "name": "python3",
      "display_name": "Python 3"
    },
    "language_info": {
      "name": "python"
    }
  },
  "cells": [
    {
      "cell_type": "markdown",
      "source": [
        "# Online store of sporting goods"
      ],
      "metadata": {
        "id": "8v2jqi7To4m9"
      }
    },
    {
      "cell_type": "markdown",
      "source": [
        "Content\n",
        "\n",
        "On the main page of the store they show users banners in order to stimulate their sales. Now one of 5 banners is randomly displayed there. Each banner advertises a specific product or the entire company. Our marketers believe that the experience with banners can vary by segment, and their effectiveness may depend on the characteristics of user behavior.\n",
        "\n",
        "Inspiration\n",
        "\n",
        "Help the manager make a decision."
      ],
      "metadata": {
        "id": "JwB9-koeoWwV"
      }
    },
    {
      "cell_type": "code",
      "execution_count": 1,
      "metadata": {
        "colab": {
          "base_uri": "https://localhost:8080/"
        },
        "id": "3Xo8n4kExawi",
        "outputId": "79c55bec-6460-45e3-9998-b2465f22f362"
      },
      "outputs": [
        {
          "output_type": "stream",
          "name": "stdout",
          "text": [
            "Requirement already satisfied: kaggle in /usr/local/lib/python3.7/dist-packages (1.5.12)\n",
            "Requirement already satisfied: requests in /usr/local/lib/python3.7/dist-packages (from kaggle) (2.23.0)\n",
            "Requirement already satisfied: tqdm in /usr/local/lib/python3.7/dist-packages (from kaggle) (4.63.0)\n",
            "Requirement already satisfied: urllib3 in /usr/local/lib/python3.7/dist-packages (from kaggle) (1.24.3)\n",
            "Requirement already satisfied: python-slugify in /usr/local/lib/python3.7/dist-packages (from kaggle) (6.1.1)\n",
            "Requirement already satisfied: python-dateutil in /usr/local/lib/python3.7/dist-packages (from kaggle) (2.8.2)\n",
            "Requirement already satisfied: six>=1.10 in /usr/local/lib/python3.7/dist-packages (from kaggle) (1.15.0)\n",
            "Requirement already satisfied: certifi in /usr/local/lib/python3.7/dist-packages (from kaggle) (2021.10.8)\n",
            "Requirement already satisfied: text-unidecode>=1.3 in /usr/local/lib/python3.7/dist-packages (from python-slugify->kaggle) (1.3)\n",
            "Requirement already satisfied: chardet<4,>=3.0.2 in /usr/local/lib/python3.7/dist-packages (from requests->kaggle) (3.0.4)\n",
            "Requirement already satisfied: idna<3,>=2.5 in /usr/local/lib/python3.7/dist-packages (from requests->kaggle) (2.10)\n",
            "Downloading how-to-do-product-analytics.zip to /content\n",
            " 97% 448M/462M [00:03<00:00, 111MB/s]\n",
            "100% 462M/462M [00:03<00:00, 132MB/s]\n",
            "Archive:  how-to-do-product-analytics.zip\n",
            "  inflating: product.csv             \n"
          ]
        }
      ],
      "source": [
        "! pip install kaggle  #  upload dataset from kaggle by kaggle api\n",
        "\n",
        "! mkdir ~/.kaggle\n",
        "\n",
        "! cp kaggle.json ~/.kaggle/\n",
        "\n",
        "! chmod 600 ~/.kaggle/kaggle.json\n",
        "\n",
        "! kaggle datasets download podsyp/how-to-do-product-analytics\n",
        "\n",
        "! unzip how-to-do-product-analytics.zip"
      ]
    },
    {
      "cell_type": "code",
      "source": [
        "import pandas as pd  #  import library\n",
        "import numpy as np\n",
        "\n",
        "import matplotlib.pyplot as plt\n",
        "import seaborn as sns\n",
        "plt.style.use('ggplot')\n",
        "\n"
      ],
      "metadata": {
        "id": "CxJa6DrZADRl"
      },
      "execution_count": 34,
      "outputs": []
    },
    {
      "cell_type": "code",
      "source": [
        "df_pd = pd.read_csv('product.csv')"
      ],
      "metadata": {
        "id": "pHOUMoMvDtFh"
      },
      "execution_count": null,
      "outputs": []
    },
    {
      "cell_type": "code",
      "source": [
        "df_pd.head(10)"
      ],
      "metadata": {
        "colab": {
          "base_uri": "https://localhost:8080/",
          "height": 362
        },
        "id": "xk4ohtN_AxFx",
        "outputId": "04f8d7fb-bd66-4013-e024-69442653c784"
      },
      "execution_count": 4,
      "outputs": [
        {
          "output_type": "execute_result",
          "data": {
            "text/plain": [
              "                           order_id                           user_id  \\\n",
              "0  cfcd208495d565ef66e7dff9f98764da  c81e728d9d4c2f636f067f89cc14862c   \n",
              "1  c4ca4238a0b923820dcc509a6f75849b  eccbc87e4b5ce2fe28308fd9f2a7baf3   \n",
              "2  c81e728d9d4c2f636f067f89cc14862c  eccbc87e4b5ce2fe28308fd9f2a7baf3   \n",
              "3  eccbc87e4b5ce2fe28308fd9f2a7baf3  eccbc87e4b5ce2fe28308fd9f2a7baf3   \n",
              "4  a87ff679a2f3e71d9181a67b7542122c  eccbc87e4b5ce2fe28308fd9f2a7baf3   \n",
              "5  e4da3b7fbbce2345d7772b0674a318d5  a87ff679a2f3e71d9181a67b7542122c   \n",
              "6  1679091c5a880faf6fb5e6087eb1b2dc  e4da3b7fbbce2345d7772b0674a318d5   \n",
              "7  8f14e45fceea167a5a36dedd4bea2543  1679091c5a880faf6fb5e6087eb1b2dc   \n",
              "8  c9f0f895fb98ab9159f51fd0297e236d  8f14e45fceea167a5a36dedd4bea2543   \n",
              "9  45c48cce2e2d7fbdea1afc51c7c6ad26  8f14e45fceea167a5a36dedd4bea2543   \n",
              "\n",
              "                            page_id           product site_version  \\\n",
              "0  6f4922f45568161a8cdf4ad2299f6d23          sneakers      desktop   \n",
              "1  4e732ced3463d06de0ca9a15b6153677          sneakers      desktop   \n",
              "2  5c45a86277b8bf17bff6011be5cfb1b9  sports_nutrition      desktop   \n",
              "3  fb339ad311d50a229e497085aad219c7           company      desktop   \n",
              "4  fb339ad311d50a229e497085aad219c7           company      desktop   \n",
              "5  182be0c5cdcd5072bb1864cdee4d3d6e  sports_nutrition       mobile   \n",
              "6  e369853df766fa44e1ed0ff613f563bd          sneakers       mobile   \n",
              "7  1c383cd30b7c298ab50293adfecb7b18          sneakers      desktop   \n",
              "8  17e62166fc8586dfa4d1bc0e1742c08b       accessories      desktop   \n",
              "9  2ff279ece91cd2eaae06e449f5a20a0c           clothes      desktop   \n",
              "\n",
              "                  time         title  target  \n",
              "0  2019-01-11 09:24:43  banner_click       0  \n",
              "1  2019-01-09 09:38:51   banner_show       0  \n",
              "2  2019-01-09 09:12:45   banner_show       0  \n",
              "3  2019-01-03 08:58:18   banner_show       0  \n",
              "4  2019-01-03 08:59:15  banner_click       0  \n",
              "5  2019-01-14 05:33:39   banner_show       0  \n",
              "6  2019-03-02 15:10:16   banner_show       0  \n",
              "7  2019-02-10 12:19:30   banner_show       0  \n",
              "8  2019-02-06 05:21:08   banner_show       0  \n",
              "9  2019-01-24 10:36:13   banner_show       0  "
            ],
            "text/html": [
              "\n",
              "  <div id=\"df-40535d52-bcb1-4a85-89e0-ae2ea6f95aaa\">\n",
              "    <div class=\"colab-df-container\">\n",
              "      <div>\n",
              "<style scoped>\n",
              "    .dataframe tbody tr th:only-of-type {\n",
              "        vertical-align: middle;\n",
              "    }\n",
              "\n",
              "    .dataframe tbody tr th {\n",
              "        vertical-align: top;\n",
              "    }\n",
              "\n",
              "    .dataframe thead th {\n",
              "        text-align: right;\n",
              "    }\n",
              "</style>\n",
              "<table border=\"1\" class=\"dataframe\">\n",
              "  <thead>\n",
              "    <tr style=\"text-align: right;\">\n",
              "      <th></th>\n",
              "      <th>order_id</th>\n",
              "      <th>user_id</th>\n",
              "      <th>page_id</th>\n",
              "      <th>product</th>\n",
              "      <th>site_version</th>\n",
              "      <th>time</th>\n",
              "      <th>title</th>\n",
              "      <th>target</th>\n",
              "    </tr>\n",
              "  </thead>\n",
              "  <tbody>\n",
              "    <tr>\n",
              "      <th>0</th>\n",
              "      <td>cfcd208495d565ef66e7dff9f98764da</td>\n",
              "      <td>c81e728d9d4c2f636f067f89cc14862c</td>\n",
              "      <td>6f4922f45568161a8cdf4ad2299f6d23</td>\n",
              "      <td>sneakers</td>\n",
              "      <td>desktop</td>\n",
              "      <td>2019-01-11 09:24:43</td>\n",
              "      <td>banner_click</td>\n",
              "      <td>0</td>\n",
              "    </tr>\n",
              "    <tr>\n",
              "      <th>1</th>\n",
              "      <td>c4ca4238a0b923820dcc509a6f75849b</td>\n",
              "      <td>eccbc87e4b5ce2fe28308fd9f2a7baf3</td>\n",
              "      <td>4e732ced3463d06de0ca9a15b6153677</td>\n",
              "      <td>sneakers</td>\n",
              "      <td>desktop</td>\n",
              "      <td>2019-01-09 09:38:51</td>\n",
              "      <td>banner_show</td>\n",
              "      <td>0</td>\n",
              "    </tr>\n",
              "    <tr>\n",
              "      <th>2</th>\n",
              "      <td>c81e728d9d4c2f636f067f89cc14862c</td>\n",
              "      <td>eccbc87e4b5ce2fe28308fd9f2a7baf3</td>\n",
              "      <td>5c45a86277b8bf17bff6011be5cfb1b9</td>\n",
              "      <td>sports_nutrition</td>\n",
              "      <td>desktop</td>\n",
              "      <td>2019-01-09 09:12:45</td>\n",
              "      <td>banner_show</td>\n",
              "      <td>0</td>\n",
              "    </tr>\n",
              "    <tr>\n",
              "      <th>3</th>\n",
              "      <td>eccbc87e4b5ce2fe28308fd9f2a7baf3</td>\n",
              "      <td>eccbc87e4b5ce2fe28308fd9f2a7baf3</td>\n",
              "      <td>fb339ad311d50a229e497085aad219c7</td>\n",
              "      <td>company</td>\n",
              "      <td>desktop</td>\n",
              "      <td>2019-01-03 08:58:18</td>\n",
              "      <td>banner_show</td>\n",
              "      <td>0</td>\n",
              "    </tr>\n",
              "    <tr>\n",
              "      <th>4</th>\n",
              "      <td>a87ff679a2f3e71d9181a67b7542122c</td>\n",
              "      <td>eccbc87e4b5ce2fe28308fd9f2a7baf3</td>\n",
              "      <td>fb339ad311d50a229e497085aad219c7</td>\n",
              "      <td>company</td>\n",
              "      <td>desktop</td>\n",
              "      <td>2019-01-03 08:59:15</td>\n",
              "      <td>banner_click</td>\n",
              "      <td>0</td>\n",
              "    </tr>\n",
              "    <tr>\n",
              "      <th>5</th>\n",
              "      <td>e4da3b7fbbce2345d7772b0674a318d5</td>\n",
              "      <td>a87ff679a2f3e71d9181a67b7542122c</td>\n",
              "      <td>182be0c5cdcd5072bb1864cdee4d3d6e</td>\n",
              "      <td>sports_nutrition</td>\n",
              "      <td>mobile</td>\n",
              "      <td>2019-01-14 05:33:39</td>\n",
              "      <td>banner_show</td>\n",
              "      <td>0</td>\n",
              "    </tr>\n",
              "    <tr>\n",
              "      <th>6</th>\n",
              "      <td>1679091c5a880faf6fb5e6087eb1b2dc</td>\n",
              "      <td>e4da3b7fbbce2345d7772b0674a318d5</td>\n",
              "      <td>e369853df766fa44e1ed0ff613f563bd</td>\n",
              "      <td>sneakers</td>\n",
              "      <td>mobile</td>\n",
              "      <td>2019-03-02 15:10:16</td>\n",
              "      <td>banner_show</td>\n",
              "      <td>0</td>\n",
              "    </tr>\n",
              "    <tr>\n",
              "      <th>7</th>\n",
              "      <td>8f14e45fceea167a5a36dedd4bea2543</td>\n",
              "      <td>1679091c5a880faf6fb5e6087eb1b2dc</td>\n",
              "      <td>1c383cd30b7c298ab50293adfecb7b18</td>\n",
              "      <td>sneakers</td>\n",
              "      <td>desktop</td>\n",
              "      <td>2019-02-10 12:19:30</td>\n",
              "      <td>banner_show</td>\n",
              "      <td>0</td>\n",
              "    </tr>\n",
              "    <tr>\n",
              "      <th>8</th>\n",
              "      <td>c9f0f895fb98ab9159f51fd0297e236d</td>\n",
              "      <td>8f14e45fceea167a5a36dedd4bea2543</td>\n",
              "      <td>17e62166fc8586dfa4d1bc0e1742c08b</td>\n",
              "      <td>accessories</td>\n",
              "      <td>desktop</td>\n",
              "      <td>2019-02-06 05:21:08</td>\n",
              "      <td>banner_show</td>\n",
              "      <td>0</td>\n",
              "    </tr>\n",
              "    <tr>\n",
              "      <th>9</th>\n",
              "      <td>45c48cce2e2d7fbdea1afc51c7c6ad26</td>\n",
              "      <td>8f14e45fceea167a5a36dedd4bea2543</td>\n",
              "      <td>2ff279ece91cd2eaae06e449f5a20a0c</td>\n",
              "      <td>clothes</td>\n",
              "      <td>desktop</td>\n",
              "      <td>2019-01-24 10:36:13</td>\n",
              "      <td>banner_show</td>\n",
              "      <td>0</td>\n",
              "    </tr>\n",
              "  </tbody>\n",
              "</table>\n",
              "</div>\n",
              "      <button class=\"colab-df-convert\" onclick=\"convertToInteractive('df-40535d52-bcb1-4a85-89e0-ae2ea6f95aaa')\"\n",
              "              title=\"Convert this dataframe to an interactive table.\"\n",
              "              style=\"display:none;\">\n",
              "        \n",
              "  <svg xmlns=\"http://www.w3.org/2000/svg\" height=\"24px\"viewBox=\"0 0 24 24\"\n",
              "       width=\"24px\">\n",
              "    <path d=\"M0 0h24v24H0V0z\" fill=\"none\"/>\n",
              "    <path d=\"M18.56 5.44l.94 2.06.94-2.06 2.06-.94-2.06-.94-.94-2.06-.94 2.06-2.06.94zm-11 1L8.5 8.5l.94-2.06 2.06-.94-2.06-.94L8.5 2.5l-.94 2.06-2.06.94zm10 10l.94 2.06.94-2.06 2.06-.94-2.06-.94-.94-2.06-.94 2.06-2.06.94z\"/><path d=\"M17.41 7.96l-1.37-1.37c-.4-.4-.92-.59-1.43-.59-.52 0-1.04.2-1.43.59L10.3 9.45l-7.72 7.72c-.78.78-.78 2.05 0 2.83L4 21.41c.39.39.9.59 1.41.59.51 0 1.02-.2 1.41-.59l7.78-7.78 2.81-2.81c.8-.78.8-2.07 0-2.86zM5.41 20L4 18.59l7.72-7.72 1.47 1.35L5.41 20z\"/>\n",
              "  </svg>\n",
              "      </button>\n",
              "      \n",
              "  <style>\n",
              "    .colab-df-container {\n",
              "      display:flex;\n",
              "      flex-wrap:wrap;\n",
              "      gap: 12px;\n",
              "    }\n",
              "\n",
              "    .colab-df-convert {\n",
              "      background-color: #E8F0FE;\n",
              "      border: none;\n",
              "      border-radius: 50%;\n",
              "      cursor: pointer;\n",
              "      display: none;\n",
              "      fill: #1967D2;\n",
              "      height: 32px;\n",
              "      padding: 0 0 0 0;\n",
              "      width: 32px;\n",
              "    }\n",
              "\n",
              "    .colab-df-convert:hover {\n",
              "      background-color: #E2EBFA;\n",
              "      box-shadow: 0px 1px 2px rgba(60, 64, 67, 0.3), 0px 1px 3px 1px rgba(60, 64, 67, 0.15);\n",
              "      fill: #174EA6;\n",
              "    }\n",
              "\n",
              "    [theme=dark] .colab-df-convert {\n",
              "      background-color: #3B4455;\n",
              "      fill: #D2E3FC;\n",
              "    }\n",
              "\n",
              "    [theme=dark] .colab-df-convert:hover {\n",
              "      background-color: #434B5C;\n",
              "      box-shadow: 0px 1px 3px 1px rgba(0, 0, 0, 0.15);\n",
              "      filter: drop-shadow(0px 1px 2px rgba(0, 0, 0, 0.3));\n",
              "      fill: #FFFFFF;\n",
              "    }\n",
              "  </style>\n",
              "\n",
              "      <script>\n",
              "        const buttonEl =\n",
              "          document.querySelector('#df-40535d52-bcb1-4a85-89e0-ae2ea6f95aaa button.colab-df-convert');\n",
              "        buttonEl.style.display =\n",
              "          google.colab.kernel.accessAllowed ? 'block' : 'none';\n",
              "\n",
              "        async function convertToInteractive(key) {\n",
              "          const element = document.querySelector('#df-40535d52-bcb1-4a85-89e0-ae2ea6f95aaa');\n",
              "          const dataTable =\n",
              "            await google.colab.kernel.invokeFunction('convertToInteractive',\n",
              "                                                     [key], {});\n",
              "          if (!dataTable) return;\n",
              "\n",
              "          const docLinkHtml = 'Like what you see? Visit the ' +\n",
              "            '<a target=\"_blank\" href=https://colab.research.google.com/notebooks/data_table.ipynb>data table notebook</a>'\n",
              "            + ' to learn more about interactive tables.';\n",
              "          element.innerHTML = '';\n",
              "          dataTable['output_type'] = 'display_data';\n",
              "          await google.colab.output.renderOutput(dataTable, element);\n",
              "          const docLink = document.createElement('div');\n",
              "          docLink.innerHTML = docLinkHtml;\n",
              "          element.appendChild(docLink);\n",
              "        }\n",
              "      </script>\n",
              "    </div>\n",
              "  </div>\n",
              "  "
            ]
          },
          "metadata": {},
          "execution_count": 4
        }
      ]
    },
    {
      "cell_type": "code",
      "source": [
        "df_pd.info()"
      ],
      "metadata": {
        "colab": {
          "base_uri": "https://localhost:8080/"
        },
        "id": "o3Mlen32BMg6",
        "outputId": "2d52e479-1d29-47a2-9dfa-22ddc1abf534"
      },
      "execution_count": 5,
      "outputs": [
        {
          "output_type": "stream",
          "name": "stdout",
          "text": [
            "<class 'pandas.core.frame.DataFrame'>\n",
            "RangeIndex: 8471220 entries, 0 to 8471219\n",
            "Data columns (total 8 columns):\n",
            " #   Column        Dtype \n",
            "---  ------        ----- \n",
            " 0   order_id      object\n",
            " 1   user_id       object\n",
            " 2   page_id       object\n",
            " 3   product       object\n",
            " 4   site_version  object\n",
            " 5   time          object\n",
            " 6   title         object\n",
            " 7   target        int64 \n",
            "dtypes: int64(1), object(7)\n",
            "memory usage: 517.0+ MB\n"
          ]
        }
      ]
    },
    {
      "cell_type": "code",
      "source": [
        "df_pd.isna().sum()"
      ],
      "metadata": {
        "colab": {
          "base_uri": "https://localhost:8080/"
        },
        "id": "hpnyxLHiB8iE",
        "outputId": "25d731ec-23e1-4260-c978-52a9e9ac57ff"
      },
      "execution_count": 6,
      "outputs": [
        {
          "output_type": "execute_result",
          "data": {
            "text/plain": [
              "order_id        0\n",
              "user_id         0\n",
              "page_id         0\n",
              "product         0\n",
              "site_version    0\n",
              "time            0\n",
              "title           0\n",
              "target          0\n",
              "dtype: int64"
            ]
          },
          "metadata": {},
          "execution_count": 6
        }
      ]
    },
    {
      "cell_type": "code",
      "source": [
        "{i : df_pd[i].nunique() for i in df_pd.columns}  #  observe attribute of data"
      ],
      "metadata": {
        "colab": {
          "base_uri": "https://localhost:8080/"
        },
        "id": "XXkHLDUkptEK",
        "outputId": "878b80ff-2613-4763-acb8-c1a68381ea12"
      },
      "execution_count": 7,
      "outputs": [
        {
          "output_type": "execute_result",
          "data": {
            "text/plain": [
              "{'order_id': 8471220,\n",
              " 'page_id': 7393316,\n",
              " 'product': 5,\n",
              " 'site_version': 2,\n",
              " 'target': 2,\n",
              " 'time': 5799549,\n",
              " 'title': 3,\n",
              " 'user_id': 4254619}"
            ]
          },
          "metadata": {},
          "execution_count": 7
        }
      ]
    },
    {
      "cell_type": "code",
      "source": [
        "df_pd.title.unique()  #  data are distinct in page_id show & duplicate by title method"
      ],
      "metadata": {
        "colab": {
          "base_uri": "https://localhost:8080/"
        },
        "id": "pE4kMtdwpuHj",
        "outputId": "5e79189a-d929-4a1c-c350-8eaba9fd9300"
      },
      "execution_count": 8,
      "outputs": [
        {
          "output_type": "execute_result",
          "data": {
            "text/plain": [
              "array(['banner_click', 'banner_show', 'order'], dtype=object)"
            ]
          },
          "metadata": {},
          "execution_count": 8
        }
      ]
    },
    {
      "cell_type": "code",
      "source": [
        "df_show = df_pd[df_pd.title == 'banner_show']  # split data to each title\n",
        "df_show"
      ],
      "metadata": {
        "colab": {
          "base_uri": "https://localhost:8080/",
          "height": 423
        },
        "id": "Ll6PhckxMh6B",
        "outputId": "ed982cdb-6963-4922-962d-571325fe0db5"
      },
      "execution_count": 9,
      "outputs": [
        {
          "output_type": "execute_result",
          "data": {
            "text/plain": [
              "                                 order_id                           user_id  \\\n",
              "1        c4ca4238a0b923820dcc509a6f75849b  eccbc87e4b5ce2fe28308fd9f2a7baf3   \n",
              "2        c81e728d9d4c2f636f067f89cc14862c  eccbc87e4b5ce2fe28308fd9f2a7baf3   \n",
              "3        eccbc87e4b5ce2fe28308fd9f2a7baf3  eccbc87e4b5ce2fe28308fd9f2a7baf3   \n",
              "5        e4da3b7fbbce2345d7772b0674a318d5  a87ff679a2f3e71d9181a67b7542122c   \n",
              "6        1679091c5a880faf6fb5e6087eb1b2dc  e4da3b7fbbce2345d7772b0674a318d5   \n",
              "...                                   ...                               ...   \n",
              "8471215  70c275428b8d53eef294d0529253b694  59e736f90b5f8003072bf0eb271ddb86   \n",
              "8471216  94c9a2a0c11c2b88e49c13e401608c86  69d73bfcaaa83217c903627e602ae01c   \n",
              "8471217  862568e6013bc378b06f43c3e466521a  61728d26a9c9feb9e128c17b400062c8   \n",
              "8471218  7c70b42806372ba85f47a3956f23a114  f90e8c3bcf3867e65d62a2a08189a35a   \n",
              "8471219  523a4286c51e560121455fc040096ef3  4c242cc2c01c9a6cb4b6659e5263c8aa   \n",
              "\n",
              "                                  page_id           product site_version  \\\n",
              "1        4e732ced3463d06de0ca9a15b6153677          sneakers      desktop   \n",
              "2        5c45a86277b8bf17bff6011be5cfb1b9  sports_nutrition      desktop   \n",
              "3        fb339ad311d50a229e497085aad219c7           company      desktop   \n",
              "5        182be0c5cdcd5072bb1864cdee4d3d6e  sports_nutrition       mobile   \n",
              "6        e369853df766fa44e1ed0ff613f563bd          sneakers       mobile   \n",
              "...                                   ...               ...          ...   \n",
              "8471215  7bc3a33568d00773d5b58d6c7348bf3e       accessories      desktop   \n",
              "8471216  f236830bcbb2d279c0c7c3d7f5d3a970           clothes       mobile   \n",
              "8471217  4fc14437e418f19200e71acf4f34b3ba  sports_nutrition       mobile   \n",
              "8471218  c6a3e7758b9c0a43417c4a2c1a4504dd          sneakers       mobile   \n",
              "8471219  fa337cd9c198d70261019940f06bf7fb       accessories       mobile   \n",
              "\n",
              "                        time        title  target  \n",
              "1        2019-01-09 09:38:51  banner_show       0  \n",
              "2        2019-01-09 09:12:45  banner_show       0  \n",
              "3        2019-01-03 08:58:18  banner_show       0  \n",
              "5        2019-01-14 05:33:39  banner_show       0  \n",
              "6        2019-03-02 15:10:16  banner_show       0  \n",
              "...                      ...          ...     ...  \n",
              "8471215  2019-05-23 14:07:00  banner_show       0  \n",
              "8471216  2019-05-28 08:10:20  banner_show       0  \n",
              "8471217  2019-05-20 09:20:50  banner_show       0  \n",
              "8471218  2019-05-28 19:25:42  banner_show       0  \n",
              "8471219  2019-05-31 09:18:24  banner_show       0  \n",
              "\n",
              "[7393314 rows x 8 columns]"
            ],
            "text/html": [
              "\n",
              "  <div id=\"df-e571f332-ce96-42a9-b693-052f3e37fdd2\">\n",
              "    <div class=\"colab-df-container\">\n",
              "      <div>\n",
              "<style scoped>\n",
              "    .dataframe tbody tr th:only-of-type {\n",
              "        vertical-align: middle;\n",
              "    }\n",
              "\n",
              "    .dataframe tbody tr th {\n",
              "        vertical-align: top;\n",
              "    }\n",
              "\n",
              "    .dataframe thead th {\n",
              "        text-align: right;\n",
              "    }\n",
              "</style>\n",
              "<table border=\"1\" class=\"dataframe\">\n",
              "  <thead>\n",
              "    <tr style=\"text-align: right;\">\n",
              "      <th></th>\n",
              "      <th>order_id</th>\n",
              "      <th>user_id</th>\n",
              "      <th>page_id</th>\n",
              "      <th>product</th>\n",
              "      <th>site_version</th>\n",
              "      <th>time</th>\n",
              "      <th>title</th>\n",
              "      <th>target</th>\n",
              "    </tr>\n",
              "  </thead>\n",
              "  <tbody>\n",
              "    <tr>\n",
              "      <th>1</th>\n",
              "      <td>c4ca4238a0b923820dcc509a6f75849b</td>\n",
              "      <td>eccbc87e4b5ce2fe28308fd9f2a7baf3</td>\n",
              "      <td>4e732ced3463d06de0ca9a15b6153677</td>\n",
              "      <td>sneakers</td>\n",
              "      <td>desktop</td>\n",
              "      <td>2019-01-09 09:38:51</td>\n",
              "      <td>banner_show</td>\n",
              "      <td>0</td>\n",
              "    </tr>\n",
              "    <tr>\n",
              "      <th>2</th>\n",
              "      <td>c81e728d9d4c2f636f067f89cc14862c</td>\n",
              "      <td>eccbc87e4b5ce2fe28308fd9f2a7baf3</td>\n",
              "      <td>5c45a86277b8bf17bff6011be5cfb1b9</td>\n",
              "      <td>sports_nutrition</td>\n",
              "      <td>desktop</td>\n",
              "      <td>2019-01-09 09:12:45</td>\n",
              "      <td>banner_show</td>\n",
              "      <td>0</td>\n",
              "    </tr>\n",
              "    <tr>\n",
              "      <th>3</th>\n",
              "      <td>eccbc87e4b5ce2fe28308fd9f2a7baf3</td>\n",
              "      <td>eccbc87e4b5ce2fe28308fd9f2a7baf3</td>\n",
              "      <td>fb339ad311d50a229e497085aad219c7</td>\n",
              "      <td>company</td>\n",
              "      <td>desktop</td>\n",
              "      <td>2019-01-03 08:58:18</td>\n",
              "      <td>banner_show</td>\n",
              "      <td>0</td>\n",
              "    </tr>\n",
              "    <tr>\n",
              "      <th>5</th>\n",
              "      <td>e4da3b7fbbce2345d7772b0674a318d5</td>\n",
              "      <td>a87ff679a2f3e71d9181a67b7542122c</td>\n",
              "      <td>182be0c5cdcd5072bb1864cdee4d3d6e</td>\n",
              "      <td>sports_nutrition</td>\n",
              "      <td>mobile</td>\n",
              "      <td>2019-01-14 05:33:39</td>\n",
              "      <td>banner_show</td>\n",
              "      <td>0</td>\n",
              "    </tr>\n",
              "    <tr>\n",
              "      <th>6</th>\n",
              "      <td>1679091c5a880faf6fb5e6087eb1b2dc</td>\n",
              "      <td>e4da3b7fbbce2345d7772b0674a318d5</td>\n",
              "      <td>e369853df766fa44e1ed0ff613f563bd</td>\n",
              "      <td>sneakers</td>\n",
              "      <td>mobile</td>\n",
              "      <td>2019-03-02 15:10:16</td>\n",
              "      <td>banner_show</td>\n",
              "      <td>0</td>\n",
              "    </tr>\n",
              "    <tr>\n",
              "      <th>...</th>\n",
              "      <td>...</td>\n",
              "      <td>...</td>\n",
              "      <td>...</td>\n",
              "      <td>...</td>\n",
              "      <td>...</td>\n",
              "      <td>...</td>\n",
              "      <td>...</td>\n",
              "      <td>...</td>\n",
              "    </tr>\n",
              "    <tr>\n",
              "      <th>8471215</th>\n",
              "      <td>70c275428b8d53eef294d0529253b694</td>\n",
              "      <td>59e736f90b5f8003072bf0eb271ddb86</td>\n",
              "      <td>7bc3a33568d00773d5b58d6c7348bf3e</td>\n",
              "      <td>accessories</td>\n",
              "      <td>desktop</td>\n",
              "      <td>2019-05-23 14:07:00</td>\n",
              "      <td>banner_show</td>\n",
              "      <td>0</td>\n",
              "    </tr>\n",
              "    <tr>\n",
              "      <th>8471216</th>\n",
              "      <td>94c9a2a0c11c2b88e49c13e401608c86</td>\n",
              "      <td>69d73bfcaaa83217c903627e602ae01c</td>\n",
              "      <td>f236830bcbb2d279c0c7c3d7f5d3a970</td>\n",
              "      <td>clothes</td>\n",
              "      <td>mobile</td>\n",
              "      <td>2019-05-28 08:10:20</td>\n",
              "      <td>banner_show</td>\n",
              "      <td>0</td>\n",
              "    </tr>\n",
              "    <tr>\n",
              "      <th>8471217</th>\n",
              "      <td>862568e6013bc378b06f43c3e466521a</td>\n",
              "      <td>61728d26a9c9feb9e128c17b400062c8</td>\n",
              "      <td>4fc14437e418f19200e71acf4f34b3ba</td>\n",
              "      <td>sports_nutrition</td>\n",
              "      <td>mobile</td>\n",
              "      <td>2019-05-20 09:20:50</td>\n",
              "      <td>banner_show</td>\n",
              "      <td>0</td>\n",
              "    </tr>\n",
              "    <tr>\n",
              "      <th>8471218</th>\n",
              "      <td>7c70b42806372ba85f47a3956f23a114</td>\n",
              "      <td>f90e8c3bcf3867e65d62a2a08189a35a</td>\n",
              "      <td>c6a3e7758b9c0a43417c4a2c1a4504dd</td>\n",
              "      <td>sneakers</td>\n",
              "      <td>mobile</td>\n",
              "      <td>2019-05-28 19:25:42</td>\n",
              "      <td>banner_show</td>\n",
              "      <td>0</td>\n",
              "    </tr>\n",
              "    <tr>\n",
              "      <th>8471219</th>\n",
              "      <td>523a4286c51e560121455fc040096ef3</td>\n",
              "      <td>4c242cc2c01c9a6cb4b6659e5263c8aa</td>\n",
              "      <td>fa337cd9c198d70261019940f06bf7fb</td>\n",
              "      <td>accessories</td>\n",
              "      <td>mobile</td>\n",
              "      <td>2019-05-31 09:18:24</td>\n",
              "      <td>banner_show</td>\n",
              "      <td>0</td>\n",
              "    </tr>\n",
              "  </tbody>\n",
              "</table>\n",
              "<p>7393314 rows × 8 columns</p>\n",
              "</div>\n",
              "      <button class=\"colab-df-convert\" onclick=\"convertToInteractive('df-e571f332-ce96-42a9-b693-052f3e37fdd2')\"\n",
              "              title=\"Convert this dataframe to an interactive table.\"\n",
              "              style=\"display:none;\">\n",
              "        \n",
              "  <svg xmlns=\"http://www.w3.org/2000/svg\" height=\"24px\"viewBox=\"0 0 24 24\"\n",
              "       width=\"24px\">\n",
              "    <path d=\"M0 0h24v24H0V0z\" fill=\"none\"/>\n",
              "    <path d=\"M18.56 5.44l.94 2.06.94-2.06 2.06-.94-2.06-.94-.94-2.06-.94 2.06-2.06.94zm-11 1L8.5 8.5l.94-2.06 2.06-.94-2.06-.94L8.5 2.5l-.94 2.06-2.06.94zm10 10l.94 2.06.94-2.06 2.06-.94-2.06-.94-.94-2.06-.94 2.06-2.06.94z\"/><path d=\"M17.41 7.96l-1.37-1.37c-.4-.4-.92-.59-1.43-.59-.52 0-1.04.2-1.43.59L10.3 9.45l-7.72 7.72c-.78.78-.78 2.05 0 2.83L4 21.41c.39.39.9.59 1.41.59.51 0 1.02-.2 1.41-.59l7.78-7.78 2.81-2.81c.8-.78.8-2.07 0-2.86zM5.41 20L4 18.59l7.72-7.72 1.47 1.35L5.41 20z\"/>\n",
              "  </svg>\n",
              "      </button>\n",
              "      \n",
              "  <style>\n",
              "    .colab-df-container {\n",
              "      display:flex;\n",
              "      flex-wrap:wrap;\n",
              "      gap: 12px;\n",
              "    }\n",
              "\n",
              "    .colab-df-convert {\n",
              "      background-color: #E8F0FE;\n",
              "      border: none;\n",
              "      border-radius: 50%;\n",
              "      cursor: pointer;\n",
              "      display: none;\n",
              "      fill: #1967D2;\n",
              "      height: 32px;\n",
              "      padding: 0 0 0 0;\n",
              "      width: 32px;\n",
              "    }\n",
              "\n",
              "    .colab-df-convert:hover {\n",
              "      background-color: #E2EBFA;\n",
              "      box-shadow: 0px 1px 2px rgba(60, 64, 67, 0.3), 0px 1px 3px 1px rgba(60, 64, 67, 0.15);\n",
              "      fill: #174EA6;\n",
              "    }\n",
              "\n",
              "    [theme=dark] .colab-df-convert {\n",
              "      background-color: #3B4455;\n",
              "      fill: #D2E3FC;\n",
              "    }\n",
              "\n",
              "    [theme=dark] .colab-df-convert:hover {\n",
              "      background-color: #434B5C;\n",
              "      box-shadow: 0px 1px 3px 1px rgba(0, 0, 0, 0.15);\n",
              "      filter: drop-shadow(0px 1px 2px rgba(0, 0, 0, 0.3));\n",
              "      fill: #FFFFFF;\n",
              "    }\n",
              "  </style>\n",
              "\n",
              "      <script>\n",
              "        const buttonEl =\n",
              "          document.querySelector('#df-e571f332-ce96-42a9-b693-052f3e37fdd2 button.colab-df-convert');\n",
              "        buttonEl.style.display =\n",
              "          google.colab.kernel.accessAllowed ? 'block' : 'none';\n",
              "\n",
              "        async function convertToInteractive(key) {\n",
              "          const element = document.querySelector('#df-e571f332-ce96-42a9-b693-052f3e37fdd2');\n",
              "          const dataTable =\n",
              "            await google.colab.kernel.invokeFunction('convertToInteractive',\n",
              "                                                     [key], {});\n",
              "          if (!dataTable) return;\n",
              "\n",
              "          const docLinkHtml = 'Like what you see? Visit the ' +\n",
              "            '<a target=\"_blank\" href=https://colab.research.google.com/notebooks/data_table.ipynb>data table notebook</a>'\n",
              "            + ' to learn more about interactive tables.';\n",
              "          element.innerHTML = '';\n",
              "          dataTable['output_type'] = 'display_data';\n",
              "          await google.colab.output.renderOutput(dataTable, element);\n",
              "          const docLink = document.createElement('div');\n",
              "          docLink.innerHTML = docLinkHtml;\n",
              "          element.appendChild(docLink);\n",
              "        }\n",
              "      </script>\n",
              "    </div>\n",
              "  </div>\n",
              "  "
            ]
          },
          "metadata": {},
          "execution_count": 9
        }
      ]
    },
    {
      "cell_type": "code",
      "source": [
        "len(df_show)  #  Amount of all banner shown to user"
      ],
      "metadata": {
        "colab": {
          "base_uri": "https://localhost:8080/"
        },
        "id": "fgHcYpurqzey",
        "outputId": "272f6a29-4e95-40dd-b134-2f04b68f463f"
      },
      "execution_count": 10,
      "outputs": [
        {
          "output_type": "execute_result",
          "data": {
            "text/plain": [
              "7393314"
            ]
          },
          "metadata": {},
          "execution_count": 10
        }
      ]
    },
    {
      "cell_type": "code",
      "source": [
        "df_show['time'] = pd.to_datetime(df_show['time'])  # set datetime to time columns\n",
        "df_show.info()"
      ],
      "metadata": {
        "colab": {
          "base_uri": "https://localhost:8080/"
        },
        "id": "rAyW79rwMh3y",
        "outputId": "5ef56cf0-addf-4c3c-e374-69ba67a81586"
      },
      "execution_count": 11,
      "outputs": [
        {
          "output_type": "stream",
          "name": "stdout",
          "text": [
            "<class 'pandas.core.frame.DataFrame'>\n",
            "Int64Index: 7393314 entries, 1 to 8471219\n",
            "Data columns (total 8 columns):\n",
            " #   Column        Dtype         \n",
            "---  ------        -----         \n",
            " 0   order_id      object        \n",
            " 1   user_id       object        \n",
            " 2   page_id       object        \n",
            " 3   product       object        \n",
            " 4   site_version  object        \n",
            " 5   time          datetime64[ns]\n",
            " 6   title         object        \n",
            " 7   target        int64         \n",
            "dtypes: datetime64[ns](1), int64(1), object(6)\n",
            "memory usage: 507.7+ MB\n"
          ]
        },
        {
          "output_type": "stream",
          "name": "stderr",
          "text": [
            "/usr/local/lib/python3.7/dist-packages/ipykernel_launcher.py:1: SettingWithCopyWarning: \n",
            "A value is trying to be set on a copy of a slice from a DataFrame.\n",
            "Try using .loc[row_indexer,col_indexer] = value instead\n",
            "\n",
            "See the caveats in the documentation: https://pandas.pydata.org/pandas-docs/stable/user_guide/indexing.html#returning-a-view-versus-a-copy\n",
            "  \"\"\"Entry point for launching an IPython kernel.\n"
          ]
        }
      ]
    },
    {
      "cell_type": "code",
      "source": [
        "df_show['days'] = df_show['time'].dt.to_period(\"d\")  #  extract date of data"
      ],
      "metadata": {
        "colab": {
          "base_uri": "https://localhost:8080/"
        },
        "id": "FK2kfEsyMh11",
        "outputId": "47a367d3-e839-4636-a673-ad4cdb7dba4e"
      },
      "execution_count": 12,
      "outputs": [
        {
          "output_type": "stream",
          "name": "stderr",
          "text": [
            "/usr/local/lib/python3.7/dist-packages/ipykernel_launcher.py:1: SettingWithCopyWarning: \n",
            "A value is trying to be set on a copy of a slice from a DataFrame.\n",
            "Try using .loc[row_indexer,col_indexer] = value instead\n",
            "\n",
            "See the caveats in the documentation: https://pandas.pydata.org/pandas-docs/stable/user_guide/indexing.html#returning-a-view-versus-a-copy\n",
            "  \"\"\"Entry point for launching an IPython kernel.\n"
          ]
        }
      ]
    },
    {
      "cell_type": "code",
      "source": [
        "df_show.days.nunique()  #  days observation"
      ],
      "metadata": {
        "colab": {
          "base_uri": "https://localhost:8080/"
        },
        "id": "9KWAxFmWMhzx",
        "outputId": "e1b46e7d-0c4f-4f04-ae05-a3c0f560ac2e"
      },
      "execution_count": 13,
      "outputs": [
        {
          "output_type": "execute_result",
          "data": {
            "text/plain": [
              "151"
            ]
          },
          "metadata": {},
          "execution_count": 13
        }
      ]
    },
    {
      "cell_type": "code",
      "source": [
        "df_show.days.min()  #  start day observation"
      ],
      "metadata": {
        "colab": {
          "base_uri": "https://localhost:8080/"
        },
        "id": "ZSnoPrxiMhxo",
        "outputId": "61cabbc1-6eba-4672-8787-05b7371ffbd3"
      },
      "execution_count": 14,
      "outputs": [
        {
          "output_type": "execute_result",
          "data": {
            "text/plain": [
              "Period('2019-01-01', 'D')"
            ]
          },
          "metadata": {},
          "execution_count": 14
        }
      ]
    },
    {
      "cell_type": "code",
      "source": [
        "df_show.days.max()  #  end day observation"
      ],
      "metadata": {
        "colab": {
          "base_uri": "https://localhost:8080/"
        },
        "id": "vC5-VRpJMhvn",
        "outputId": "91c67e6b-bba0-4bca-d714-d93bbdb6a00c"
      },
      "execution_count": 15,
      "outputs": [
        {
          "output_type": "execute_result",
          "data": {
            "text/plain": [
              "Period('2019-05-31', 'D')"
            ]
          },
          "metadata": {},
          "execution_count": 15
        }
      ]
    },
    {
      "cell_type": "code",
      "source": [
        "banner_show_days = len(df_show) / 151  #  average banner show per days\n",
        "banner_show_days"
      ],
      "metadata": {
        "colab": {
          "base_uri": "https://localhost:8080/"
        },
        "id": "Dn-_XE18N0-B",
        "outputId": "0c26145b-69eb-4004-df6d-061e78d950e4"
      },
      "execution_count": 16,
      "outputs": [
        {
          "output_type": "execute_result",
          "data": {
            "text/plain": [
              "48962.34437086093"
            ]
          },
          "metadata": {},
          "execution_count": 16
        }
      ]
    },
    {
      "cell_type": "code",
      "source": [
        "df_click = df_pd[df_pd.title == 'banner_click']  #  split by click method\n",
        "df_click"
      ],
      "metadata": {
        "colab": {
          "base_uri": "https://localhost:8080/",
          "height": 423
        },
        "id": "aRxJcly6CB58",
        "outputId": "45db9f7f-dd70-491c-9386-2d81970b550a"
      },
      "execution_count": 17,
      "outputs": [
        {
          "output_type": "execute_result",
          "data": {
            "text/plain": [
              "                                 order_id                           user_id  \\\n",
              "0        cfcd208495d565ef66e7dff9f98764da  c81e728d9d4c2f636f067f89cc14862c   \n",
              "4        a87ff679a2f3e71d9181a67b7542122c  eccbc87e4b5ce2fe28308fd9f2a7baf3   \n",
              "30       34173cb38f07f89ddbebc2ac9128303f  45c48cce2e2d7fbdea1afc51c7c6ad26   \n",
              "31       c16a5320fa475530d9583c34fd356ef5  45c48cce2e2d7fbdea1afc51c7c6ad26   \n",
              "32       6364d3f0f495b6ab9dcf8d3b5c6e0b01  45c48cce2e2d7fbdea1afc51c7c6ad26   \n",
              "...                                   ...                               ...   \n",
              "8471172  0ba33d5ca5ff41d122d7b5a476883e3d  3d8ffc8abe80a8d2260aea6ab27f44df   \n",
              "8471183  78ce19b90566f0a1d6c888c61945721d  16d61c8453b64f7e69f56efe992b782a   \n",
              "8471187  6209f3f8c301622ec7fd3374ea73f5f2  74d1486d5f87ac1a0d2e916b2fea9282   \n",
              "8471197  90e4e2454f09da77d887572fa2e3276f  1944f7ee00bf0957536286e1b3ba0298   \n",
              "8471214  434f6abfee98a50394d1e210ebfddab8  065956e2a6874f2dcafd4326fc553aed   \n",
              "\n",
              "                                  page_id           product site_version  \\\n",
              "0        6f4922f45568161a8cdf4ad2299f6d23          sneakers      desktop   \n",
              "4        fb339ad311d50a229e497085aad219c7           company      desktop   \n",
              "30       67c6a1e7ce56d3d6fa748ab6d9af3fd7  sports_nutrition       mobile   \n",
              "31       6c38fc1f2e3a4ae55b58a6c10cfda2ee          sneakers       mobile   \n",
              "32       2294a7913d5696d1793f852faa4b0f51  sports_nutrition       mobile   \n",
              "...                                   ...               ...          ...   \n",
              "8471172  66a3a81472c816e4d4ce345207ec0c29           company       mobile   \n",
              "8471183  7ef7b4cd26152e2f9ee17350983232dd           clothes       mobile   \n",
              "8471187  32b18075827f7b0cf3e522ccb9c250ce           clothes       mobile   \n",
              "8471197  00d7a3c222170c404903e9d6b05efc78       accessories       mobile   \n",
              "8471214  d93ec2e79b2163ece465c65b838c1c7c       accessories       mobile   \n",
              "\n",
              "                        time         title  target  \n",
              "0        2019-01-11 09:24:43  banner_click       0  \n",
              "4        2019-01-03 08:59:15  banner_click       0  \n",
              "30       2019-02-04 03:18:45  banner_click       0  \n",
              "31       2019-01-21 21:00:42  banner_click       0  \n",
              "32       2019-03-20 19:37:24  banner_click       0  \n",
              "...                      ...           ...     ...  \n",
              "8471172  2019-05-20 19:02:48  banner_click       0  \n",
              "8471183  2019-05-25 19:27:05  banner_click       0  \n",
              "8471187  2019-05-25 04:29:01  banner_click       0  \n",
              "8471197  2019-05-29 08:33:55  banner_click       0  \n",
              "8471214  2019-05-26 13:21:04  banner_click       0  \n",
              "\n",
              "[829184 rows x 8 columns]"
            ],
            "text/html": [
              "\n",
              "  <div id=\"df-b2222c7d-267f-4ed3-b69a-1e228e53e083\">\n",
              "    <div class=\"colab-df-container\">\n",
              "      <div>\n",
              "<style scoped>\n",
              "    .dataframe tbody tr th:only-of-type {\n",
              "        vertical-align: middle;\n",
              "    }\n",
              "\n",
              "    .dataframe tbody tr th {\n",
              "        vertical-align: top;\n",
              "    }\n",
              "\n",
              "    .dataframe thead th {\n",
              "        text-align: right;\n",
              "    }\n",
              "</style>\n",
              "<table border=\"1\" class=\"dataframe\">\n",
              "  <thead>\n",
              "    <tr style=\"text-align: right;\">\n",
              "      <th></th>\n",
              "      <th>order_id</th>\n",
              "      <th>user_id</th>\n",
              "      <th>page_id</th>\n",
              "      <th>product</th>\n",
              "      <th>site_version</th>\n",
              "      <th>time</th>\n",
              "      <th>title</th>\n",
              "      <th>target</th>\n",
              "    </tr>\n",
              "  </thead>\n",
              "  <tbody>\n",
              "    <tr>\n",
              "      <th>0</th>\n",
              "      <td>cfcd208495d565ef66e7dff9f98764da</td>\n",
              "      <td>c81e728d9d4c2f636f067f89cc14862c</td>\n",
              "      <td>6f4922f45568161a8cdf4ad2299f6d23</td>\n",
              "      <td>sneakers</td>\n",
              "      <td>desktop</td>\n",
              "      <td>2019-01-11 09:24:43</td>\n",
              "      <td>banner_click</td>\n",
              "      <td>0</td>\n",
              "    </tr>\n",
              "    <tr>\n",
              "      <th>4</th>\n",
              "      <td>a87ff679a2f3e71d9181a67b7542122c</td>\n",
              "      <td>eccbc87e4b5ce2fe28308fd9f2a7baf3</td>\n",
              "      <td>fb339ad311d50a229e497085aad219c7</td>\n",
              "      <td>company</td>\n",
              "      <td>desktop</td>\n",
              "      <td>2019-01-03 08:59:15</td>\n",
              "      <td>banner_click</td>\n",
              "      <td>0</td>\n",
              "    </tr>\n",
              "    <tr>\n",
              "      <th>30</th>\n",
              "      <td>34173cb38f07f89ddbebc2ac9128303f</td>\n",
              "      <td>45c48cce2e2d7fbdea1afc51c7c6ad26</td>\n",
              "      <td>67c6a1e7ce56d3d6fa748ab6d9af3fd7</td>\n",
              "      <td>sports_nutrition</td>\n",
              "      <td>mobile</td>\n",
              "      <td>2019-02-04 03:18:45</td>\n",
              "      <td>banner_click</td>\n",
              "      <td>0</td>\n",
              "    </tr>\n",
              "    <tr>\n",
              "      <th>31</th>\n",
              "      <td>c16a5320fa475530d9583c34fd356ef5</td>\n",
              "      <td>45c48cce2e2d7fbdea1afc51c7c6ad26</td>\n",
              "      <td>6c38fc1f2e3a4ae55b58a6c10cfda2ee</td>\n",
              "      <td>sneakers</td>\n",
              "      <td>mobile</td>\n",
              "      <td>2019-01-21 21:00:42</td>\n",
              "      <td>banner_click</td>\n",
              "      <td>0</td>\n",
              "    </tr>\n",
              "    <tr>\n",
              "      <th>32</th>\n",
              "      <td>6364d3f0f495b6ab9dcf8d3b5c6e0b01</td>\n",
              "      <td>45c48cce2e2d7fbdea1afc51c7c6ad26</td>\n",
              "      <td>2294a7913d5696d1793f852faa4b0f51</td>\n",
              "      <td>sports_nutrition</td>\n",
              "      <td>mobile</td>\n",
              "      <td>2019-03-20 19:37:24</td>\n",
              "      <td>banner_click</td>\n",
              "      <td>0</td>\n",
              "    </tr>\n",
              "    <tr>\n",
              "      <th>...</th>\n",
              "      <td>...</td>\n",
              "      <td>...</td>\n",
              "      <td>...</td>\n",
              "      <td>...</td>\n",
              "      <td>...</td>\n",
              "      <td>...</td>\n",
              "      <td>...</td>\n",
              "      <td>...</td>\n",
              "    </tr>\n",
              "    <tr>\n",
              "      <th>8471172</th>\n",
              "      <td>0ba33d5ca5ff41d122d7b5a476883e3d</td>\n",
              "      <td>3d8ffc8abe80a8d2260aea6ab27f44df</td>\n",
              "      <td>66a3a81472c816e4d4ce345207ec0c29</td>\n",
              "      <td>company</td>\n",
              "      <td>mobile</td>\n",
              "      <td>2019-05-20 19:02:48</td>\n",
              "      <td>banner_click</td>\n",
              "      <td>0</td>\n",
              "    </tr>\n",
              "    <tr>\n",
              "      <th>8471183</th>\n",
              "      <td>78ce19b90566f0a1d6c888c61945721d</td>\n",
              "      <td>16d61c8453b64f7e69f56efe992b782a</td>\n",
              "      <td>7ef7b4cd26152e2f9ee17350983232dd</td>\n",
              "      <td>clothes</td>\n",
              "      <td>mobile</td>\n",
              "      <td>2019-05-25 19:27:05</td>\n",
              "      <td>banner_click</td>\n",
              "      <td>0</td>\n",
              "    </tr>\n",
              "    <tr>\n",
              "      <th>8471187</th>\n",
              "      <td>6209f3f8c301622ec7fd3374ea73f5f2</td>\n",
              "      <td>74d1486d5f87ac1a0d2e916b2fea9282</td>\n",
              "      <td>32b18075827f7b0cf3e522ccb9c250ce</td>\n",
              "      <td>clothes</td>\n",
              "      <td>mobile</td>\n",
              "      <td>2019-05-25 04:29:01</td>\n",
              "      <td>banner_click</td>\n",
              "      <td>0</td>\n",
              "    </tr>\n",
              "    <tr>\n",
              "      <th>8471197</th>\n",
              "      <td>90e4e2454f09da77d887572fa2e3276f</td>\n",
              "      <td>1944f7ee00bf0957536286e1b3ba0298</td>\n",
              "      <td>00d7a3c222170c404903e9d6b05efc78</td>\n",
              "      <td>accessories</td>\n",
              "      <td>mobile</td>\n",
              "      <td>2019-05-29 08:33:55</td>\n",
              "      <td>banner_click</td>\n",
              "      <td>0</td>\n",
              "    </tr>\n",
              "    <tr>\n",
              "      <th>8471214</th>\n",
              "      <td>434f6abfee98a50394d1e210ebfddab8</td>\n",
              "      <td>065956e2a6874f2dcafd4326fc553aed</td>\n",
              "      <td>d93ec2e79b2163ece465c65b838c1c7c</td>\n",
              "      <td>accessories</td>\n",
              "      <td>mobile</td>\n",
              "      <td>2019-05-26 13:21:04</td>\n",
              "      <td>banner_click</td>\n",
              "      <td>0</td>\n",
              "    </tr>\n",
              "  </tbody>\n",
              "</table>\n",
              "<p>829184 rows × 8 columns</p>\n",
              "</div>\n",
              "      <button class=\"colab-df-convert\" onclick=\"convertToInteractive('df-b2222c7d-267f-4ed3-b69a-1e228e53e083')\"\n",
              "              title=\"Convert this dataframe to an interactive table.\"\n",
              "              style=\"display:none;\">\n",
              "        \n",
              "  <svg xmlns=\"http://www.w3.org/2000/svg\" height=\"24px\"viewBox=\"0 0 24 24\"\n",
              "       width=\"24px\">\n",
              "    <path d=\"M0 0h24v24H0V0z\" fill=\"none\"/>\n",
              "    <path d=\"M18.56 5.44l.94 2.06.94-2.06 2.06-.94-2.06-.94-.94-2.06-.94 2.06-2.06.94zm-11 1L8.5 8.5l.94-2.06 2.06-.94-2.06-.94L8.5 2.5l-.94 2.06-2.06.94zm10 10l.94 2.06.94-2.06 2.06-.94-2.06-.94-.94-2.06-.94 2.06-2.06.94z\"/><path d=\"M17.41 7.96l-1.37-1.37c-.4-.4-.92-.59-1.43-.59-.52 0-1.04.2-1.43.59L10.3 9.45l-7.72 7.72c-.78.78-.78 2.05 0 2.83L4 21.41c.39.39.9.59 1.41.59.51 0 1.02-.2 1.41-.59l7.78-7.78 2.81-2.81c.8-.78.8-2.07 0-2.86zM5.41 20L4 18.59l7.72-7.72 1.47 1.35L5.41 20z\"/>\n",
              "  </svg>\n",
              "      </button>\n",
              "      \n",
              "  <style>\n",
              "    .colab-df-container {\n",
              "      display:flex;\n",
              "      flex-wrap:wrap;\n",
              "      gap: 12px;\n",
              "    }\n",
              "\n",
              "    .colab-df-convert {\n",
              "      background-color: #E8F0FE;\n",
              "      border: none;\n",
              "      border-radius: 50%;\n",
              "      cursor: pointer;\n",
              "      display: none;\n",
              "      fill: #1967D2;\n",
              "      height: 32px;\n",
              "      padding: 0 0 0 0;\n",
              "      width: 32px;\n",
              "    }\n",
              "\n",
              "    .colab-df-convert:hover {\n",
              "      background-color: #E2EBFA;\n",
              "      box-shadow: 0px 1px 2px rgba(60, 64, 67, 0.3), 0px 1px 3px 1px rgba(60, 64, 67, 0.15);\n",
              "      fill: #174EA6;\n",
              "    }\n",
              "\n",
              "    [theme=dark] .colab-df-convert {\n",
              "      background-color: #3B4455;\n",
              "      fill: #D2E3FC;\n",
              "    }\n",
              "\n",
              "    [theme=dark] .colab-df-convert:hover {\n",
              "      background-color: #434B5C;\n",
              "      box-shadow: 0px 1px 3px 1px rgba(0, 0, 0, 0.15);\n",
              "      filter: drop-shadow(0px 1px 2px rgba(0, 0, 0, 0.3));\n",
              "      fill: #FFFFFF;\n",
              "    }\n",
              "  </style>\n",
              "\n",
              "      <script>\n",
              "        const buttonEl =\n",
              "          document.querySelector('#df-b2222c7d-267f-4ed3-b69a-1e228e53e083 button.colab-df-convert');\n",
              "        buttonEl.style.display =\n",
              "          google.colab.kernel.accessAllowed ? 'block' : 'none';\n",
              "\n",
              "        async function convertToInteractive(key) {\n",
              "          const element = document.querySelector('#df-b2222c7d-267f-4ed3-b69a-1e228e53e083');\n",
              "          const dataTable =\n",
              "            await google.colab.kernel.invokeFunction('convertToInteractive',\n",
              "                                                     [key], {});\n",
              "          if (!dataTable) return;\n",
              "\n",
              "          const docLinkHtml = 'Like what you see? Visit the ' +\n",
              "            '<a target=\"_blank\" href=https://colab.research.google.com/notebooks/data_table.ipynb>data table notebook</a>'\n",
              "            + ' to learn more about interactive tables.';\n",
              "          element.innerHTML = '';\n",
              "          dataTable['output_type'] = 'display_data';\n",
              "          await google.colab.output.renderOutput(dataTable, element);\n",
              "          const docLink = document.createElement('div');\n",
              "          docLink.innerHTML = docLinkHtml;\n",
              "          element.appendChild(docLink);\n",
              "        }\n",
              "      </script>\n",
              "    </div>\n",
              "  </div>\n",
              "  "
            ]
          },
          "metadata": {},
          "execution_count": 17
        }
      ]
    },
    {
      "cell_type": "code",
      "source": [
        "df_order = df_pd[df_pd.title == 'order']  #  split by order\n",
        "len(df_order)"
      ],
      "metadata": {
        "colab": {
          "base_uri": "https://localhost:8080/"
        },
        "id": "7CJcsudpDb-k",
        "outputId": "8a270636-fabf-4bd4-9af5-0a9911828837"
      },
      "execution_count": 18,
      "outputs": [
        {
          "output_type": "execute_result",
          "data": {
            "text/plain": [
              "248722"
            ]
          },
          "metadata": {},
          "execution_count": 18
        }
      ]
    },
    {
      "cell_type": "markdown",
      "source": [
        "Little EDA of data"
      ],
      "metadata": {
        "id": "foMOH4H8sUOE"
      }
    },
    {
      "cell_type": "code",
      "source": [
        "product_click = df_click.groupby('product')['page_id'].count()\n",
        "product_click"
      ],
      "metadata": {
        "colab": {
          "base_uri": "https://localhost:8080/"
        },
        "id": "Ukb0VaUPHvt3",
        "outputId": "aff1e619-e94b-4be7-acee-6507b9c00ba8"
      },
      "execution_count": 19,
      "outputs": [
        {
          "output_type": "execute_result",
          "data": {
            "text/plain": [
              "product\n",
              "accessories         136254\n",
              "clothes             220595\n",
              "company             144821\n",
              "sneakers            182596\n",
              "sports_nutrition    144918\n",
              "Name: page_id, dtype: int64"
            ]
          },
          "metadata": {},
          "execution_count": 19
        }
      ]
    },
    {
      "cell_type": "code",
      "source": [
        "product_show = df_show.groupby('product')['page_id'].count()\n",
        "product_show"
      ],
      "metadata": {
        "colab": {
          "base_uri": "https://localhost:8080/"
        },
        "id": "qcOTP-WrHwlR",
        "outputId": "55b0e95d-71dc-42f4-c907-18431880546c"
      },
      "execution_count": 20,
      "outputs": [
        {
          "output_type": "execute_result",
          "data": {
            "text/plain": [
              "product\n",
              "accessories         1440954\n",
              "clothes             1453128\n",
              "company             1580235\n",
              "sneakers            1453027\n",
              "sports_nutrition    1465970\n",
              "Name: page_id, dtype: int64"
            ]
          },
          "metadata": {},
          "execution_count": 20
        }
      ]
    },
    {
      "cell_type": "code",
      "source": [
        "product_click_perc = product_click / product_show * 100    #  rank of click rate of product banner\n",
        "product_click_perc.sort_values(ascending = False)"
      ],
      "metadata": {
        "colab": {
          "base_uri": "https://localhost:8080/"
        },
        "id": "vh7wVUk9Inoy",
        "outputId": "de58697e-0042-4a98-9fb2-dca5b4ff9915"
      },
      "execution_count": 21,
      "outputs": [
        {
          "output_type": "execute_result",
          "data": {
            "text/plain": [
              "product\n",
              "clothes             15.180700\n",
              "sneakers            12.566594\n",
              "sports_nutrition     9.885468\n",
              "accessories          9.455819\n",
              "company              9.164523\n",
              "Name: page_id, dtype: float64"
            ]
          },
          "metadata": {},
          "execution_count": 21
        }
      ]
    },
    {
      "cell_type": "code",
      "source": [
        "plt.figure(figsize = (15,5))\n",
        "plt.bar(x = product_click_perc.index, height = product_click_perc.values)\n",
        "plt.ylabel('Percentage %')\n",
        "plt.title('Product Click Through Rate')\n",
        "plt.show()"
      ],
      "metadata": {
        "colab": {
          "base_uri": "https://localhost:8080/",
          "height": 337
        },
        "id": "IzoGb4unDxrM",
        "outputId": "e7725127-3f42-4958-f496-79aca8fc8624"
      },
      "execution_count": 62,
      "outputs": [
        {
          "output_type": "display_data",
          "data": {
            "text/plain": [
              "<Figure size 1080x360 with 1 Axes>"
            ],
            "image/png": "[encoded data removed]"
          },
          "metadata": {}
        }
      ]
    },
    {
      "cell_type": "code",
      "source": [
        "show_click = df_show.merge(df_click, how = 'left', on = 'page_id',suffixes=('', '_click'))  #  merge data to specific the label for click and don't get click banner\n",
        "show_click"
      ],
      "metadata": {
        "colab": {
          "base_uri": "https://localhost:8080/",
          "height": 835
        },
        "id": "72WtoFG4Jt1E",
        "outputId": "dead8f60-f9bc-415a-edd5-9f099487f8c1"
      },
      "execution_count": 70,
      "outputs": [
        {
          "output_type": "execute_result",
          "data": {
            "text/plain": [
              "                                 order_id                           user_id  \\\n",
              "0        c4ca4238a0b923820dcc509a6f75849b  eccbc87e4b5ce2fe28308fd9f2a7baf3   \n",
              "1        c81e728d9d4c2f636f067f89cc14862c  eccbc87e4b5ce2fe28308fd9f2a7baf3   \n",
              "2        eccbc87e4b5ce2fe28308fd9f2a7baf3  eccbc87e4b5ce2fe28308fd9f2a7baf3   \n",
              "3        e4da3b7fbbce2345d7772b0674a318d5  a87ff679a2f3e71d9181a67b7542122c   \n",
              "4        1679091c5a880faf6fb5e6087eb1b2dc  e4da3b7fbbce2345d7772b0674a318d5   \n",
              "...                                   ...                               ...   \n",
              "7393309  70c275428b8d53eef294d0529253b694  59e736f90b5f8003072bf0eb271ddb86   \n",
              "7393310  94c9a2a0c11c2b88e49c13e401608c86  69d73bfcaaa83217c903627e602ae01c   \n",
              "7393311  862568e6013bc378b06f43c3e466521a  61728d26a9c9feb9e128c17b400062c8   \n",
              "7393312  7c70b42806372ba85f47a3956f23a114  f90e8c3bcf3867e65d62a2a08189a35a   \n",
              "7393313  523a4286c51e560121455fc040096ef3  4c242cc2c01c9a6cb4b6659e5263c8aa   \n",
              "\n",
              "                                  page_id           product site_version  \\\n",
              "0        4e732ced3463d06de0ca9a15b6153677          sneakers      desktop   \n",
              "1        5c45a86277b8bf17bff6011be5cfb1b9  sports_nutrition      desktop   \n",
              "2        fb339ad311d50a229e497085aad219c7           company      desktop   \n",
              "3        182be0c5cdcd5072bb1864cdee4d3d6e  sports_nutrition       mobile   \n",
              "4        e369853df766fa44e1ed0ff613f563bd          sneakers       mobile   \n",
              "...                                   ...               ...          ...   \n",
              "7393309  7bc3a33568d00773d5b58d6c7348bf3e       accessories      desktop   \n",
              "7393310  f236830bcbb2d279c0c7c3d7f5d3a970           clothes       mobile   \n",
              "7393311  4fc14437e418f19200e71acf4f34b3ba  sports_nutrition       mobile   \n",
              "7393312  c6a3e7758b9c0a43417c4a2c1a4504dd          sneakers       mobile   \n",
              "7393313  fa337cd9c198d70261019940f06bf7fb       accessories       mobile   \n",
              "\n",
              "                       time        title  target        days  \\\n",
              "0       2019-01-09 09:38:51  banner_show       0  2019-01-09   \n",
              "1       2019-01-09 09:12:45  banner_show       0  2019-01-09   \n",
              "2       2019-01-03 08:58:18  banner_show       0  2019-01-03   \n",
              "3       2019-01-14 05:33:39  banner_show       0  2019-01-14   \n",
              "4       2019-03-02 15:10:16  banner_show       0  2019-03-02   \n",
              "...                     ...          ...     ...         ...   \n",
              "7393309 2019-05-23 14:07:00  banner_show       0  2019-05-23   \n",
              "7393310 2019-05-28 08:10:20  banner_show       0  2019-05-28   \n",
              "7393311 2019-05-20 09:20:50  banner_show       0  2019-05-20   \n",
              "7393312 2019-05-28 19:25:42  banner_show       0  2019-05-28   \n",
              "7393313 2019-05-31 09:18:24  banner_show       0  2019-05-31   \n",
              "\n",
              "                           order_id_click                     user_id_click  \\\n",
              "0                                     NaN                               NaN   \n",
              "1                                     NaN                               NaN   \n",
              "2        a87ff679a2f3e71d9181a67b7542122c  eccbc87e4b5ce2fe28308fd9f2a7baf3   \n",
              "3                                     NaN                               NaN   \n",
              "4                                     NaN                               NaN   \n",
              "...                                   ...                               ...   \n",
              "7393309                               NaN                               NaN   \n",
              "7393310                               NaN                               NaN   \n",
              "7393311                               NaN                               NaN   \n",
              "7393312                               NaN                               NaN   \n",
              "7393313                               NaN                               NaN   \n",
              "\n",
              "        product_click site_version_click           time_click   title_click  \\\n",
              "0                 NaN                NaN                  NaN           NaN   \n",
              "1                 NaN                NaN                  NaN           NaN   \n",
              "2             company            desktop  2019-01-03 08:59:15  banner_click   \n",
              "3                 NaN                NaN                  NaN           NaN   \n",
              "4                 NaN                NaN                  NaN           NaN   \n",
              "...               ...                ...                  ...           ...   \n",
              "7393309           NaN                NaN                  NaN           NaN   \n",
              "7393310           NaN                NaN                  NaN           NaN   \n",
              "7393311           NaN                NaN                  NaN           NaN   \n",
              "7393312           NaN                NaN                  NaN           NaN   \n",
              "7393313           NaN                NaN                  NaN           NaN   \n",
              "\n",
              "         target_click  \n",
              "0                 NaN  \n",
              "1                 NaN  \n",
              "2                 0.0  \n",
              "3                 NaN  \n",
              "4                 NaN  \n",
              "...               ...  \n",
              "7393309           NaN  \n",
              "7393310           NaN  \n",
              "7393311           NaN  \n",
              "7393312           NaN  \n",
              "7393313           NaN  \n",
              "\n",
              "[7393314 rows x 16 columns]"
            ],
            "text/html": [
              "\n",
              "  <div id=\"df-4bcf7171-2011-4bc1-8cb5-e6d85d1677a9\">\n",
              "    <div class=\"colab-df-container\">\n",
              "      <div>\n",
              "<style scoped>\n",
              "    .dataframe tbody tr th:only-of-type {\n",
              "        vertical-align: middle;\n",
              "    }\n",
              "\n",
              "    .dataframe tbody tr th {\n",
              "        vertical-align: top;\n",
              "    }\n",
              "\n",
              "    .dataframe thead th {\n",
              "        text-align: right;\n",
              "    }\n",
              "</style>\n",
              "<table border=\"1\" class=\"dataframe\">\n",
              "  <thead>\n",
              "    <tr style=\"text-align: right;\">\n",
              "      <th></th>\n",
              "      <th>order_id</th>\n",
              "      <th>user_id</th>\n",
              "      <th>page_id</th>\n",
              "      <th>product</th>\n",
              "      <th>site_version</th>\n",
              "      <th>time</th>\n",
              "      <th>title</th>\n",
              "      <th>target</th>\n",
              "      <th>days</th>\n",
              "      <th>order_id_click</th>\n",
              "      <th>user_id_click</th>\n",
              "      <th>product_click</th>\n",
              "      <th>site_version_click</th>\n",
              "      <th>time_click</th>\n",
              "      <th>title_click</th>\n",
              "      <th>target_click</th>\n",
              "    </tr>\n",
              "  </thead>\n",
              "  <tbody>\n",
              "    <tr>\n",
              "      <th>0</th>\n",
              "      <td>c4ca4238a0b923820dcc509a6f75849b</td>\n",
              "      <td>eccbc87e4b5ce2fe28308fd9f2a7baf3</td>\n",
              "      <td>4e732ced3463d06de0ca9a15b6153677</td>\n",
              "      <td>sneakers</td>\n",
              "      <td>desktop</td>\n",
              "      <td>2019-01-09 09:38:51</td>\n",
              "      <td>banner_show</td>\n",
              "      <td>0</td>\n",
              "      <td>2019-01-09</td>\n",
              "      <td>NaN</td>\n",
              "      <td>NaN</td>\n",
              "      <td>NaN</td>\n",
              "      <td>NaN</td>\n",
              "      <td>NaN</td>\n",
              "      <td>NaN</td>\n",
              "      <td>NaN</td>\n",
              "    </tr>\n",
              "    <tr>\n",
              "      <th>1</th>\n",
              "      <td>c81e728d9d4c2f636f067f89cc14862c</td>\n",
              "      <td>eccbc87e4b5ce2fe28308fd9f2a7baf3</td>\n",
              "      <td>5c45a86277b8bf17bff6011be5cfb1b9</td>\n",
              "      <td>sports_nutrition</td>\n",
              "      <td>desktop</td>\n",
              "      <td>2019-01-09 09:12:45</td>\n",
              "      <td>banner_show</td>\n",
              "      <td>0</td>\n",
              "      <td>2019-01-09</td>\n",
              "      <td>NaN</td>\n",
              "      <td>NaN</td>\n",
              "      <td>NaN</td>\n",
              "      <td>NaN</td>\n",
              "      <td>NaN</td>\n",
              "      <td>NaN</td>\n",
              "      <td>NaN</td>\n",
              "    </tr>\n",
              "    <tr>\n",
              "      <th>2</th>\n",
              "      <td>eccbc87e4b5ce2fe28308fd9f2a7baf3</td>\n",
              "      <td>eccbc87e4b5ce2fe28308fd9f2a7baf3</td>\n",
              "      <td>fb339ad311d50a229e497085aad219c7</td>\n",
              "      <td>company</td>\n",
              "      <td>desktop</td>\n",
              "      <td>2019-01-03 08:58:18</td>\n",
              "      <td>banner_show</td>\n",
              "      <td>0</td>\n",
              "      <td>2019-01-03</td>\n",
              "      <td>a87ff679a2f3e71d9181a67b7542122c</td>\n",
              "      <td>eccbc87e4b5ce2fe28308fd9f2a7baf3</td>\n",
              "      <td>company</td>\n",
              "      <td>desktop</td>\n",
              "      <td>2019-01-03 08:59:15</td>\n",
              "      <td>banner_click</td>\n",
              "      <td>0.0</td>\n",
              "    </tr>\n",
              "    <tr>\n",
              "      <th>3</th>\n",
              "      <td>e4da3b7fbbce2345d7772b0674a318d5</td>\n",
              "      <td>a87ff679a2f3e71d9181a67b7542122c</td>\n",
              "      <td>182be0c5cdcd5072bb1864cdee4d3d6e</td>\n",
              "      <td>sports_nutrition</td>\n",
              "      <td>mobile</td>\n",
              "      <td>2019-01-14 05:33:39</td>\n",
              "      <td>banner_show</td>\n",
              "      <td>0</td>\n",
              "      <td>2019-01-14</td>\n",
              "      <td>NaN</td>\n",
              "      <td>NaN</td>\n",
              "      <td>NaN</td>\n",
              "      <td>NaN</td>\n",
              "      <td>NaN</td>\n",
              "      <td>NaN</td>\n",
              "      <td>NaN</td>\n",
              "    </tr>\n",
              "    <tr>\n",
              "      <th>4</th>\n",
              "      <td>1679091c5a880faf6fb5e6087eb1b2dc</td>\n",
              "      <td>e4da3b7fbbce2345d7772b0674a318d5</td>\n",
              "      <td>e369853df766fa44e1ed0ff613f563bd</td>\n",
              "      <td>sneakers</td>\n",
              "      <td>mobile</td>\n",
              "      <td>2019-03-02 15:10:16</td>\n",
              "      <td>banner_show</td>\n",
              "      <td>0</td>\n",
              "      <td>2019-03-02</td>\n",
              "      <td>NaN</td>\n",
              "      <td>NaN</td>\n",
              "      <td>NaN</td>\n",
              "      <td>NaN</td>\n",
              "      <td>NaN</td>\n",
              "      <td>NaN</td>\n",
              "      <td>NaN</td>\n",
              "    </tr>\n",
              "    <tr>\n",
              "      <th>...</th>\n",
              "      <td>...</td>\n",
              "      <td>...</td>\n",
              "      <td>...</td>\n",
              "      <td>...</td>\n",
              "      <td>...</td>\n",
              "      <td>...</td>\n",
              "      <td>...</td>\n",
              "      <td>...</td>\n",
              "      <td>...</td>\n",
              "      <td>...</td>\n",
              "      <td>...</td>\n",
              "      <td>...</td>\n",
              "      <td>...</td>\n",
              "      <td>...</td>\n",
              "      <td>...</td>\n",
              "      <td>...</td>\n",
              "    </tr>\n",
              "    <tr>\n",
              "      <th>7393309</th>\n",
              "      <td>70c275428b8d53eef294d0529253b694</td>\n",
              "      <td>59e736f90b5f8003072bf0eb271ddb86</td>\n",
              "      <td>7bc3a33568d00773d5b58d6c7348bf3e</td>\n",
              "      <td>accessories</td>\n",
              "      <td>desktop</td>\n",
              "      <td>2019-05-23 14:07:00</td>\n",
              "      <td>banner_show</td>\n",
              "      <td>0</td>\n",
              "      <td>2019-05-23</td>\n",
              "      <td>NaN</td>\n",
              "      <td>NaN</td>\n",
              "      <td>NaN</td>\n",
              "      <td>NaN</td>\n",
              "      <td>NaN</td>\n",
              "      <td>NaN</td>\n",
              "      <td>NaN</td>\n",
              "    </tr>\n",
              "    <tr>\n",
              "      <th>7393310</th>\n",
              "      <td>94c9a2a0c11c2b88e49c13e401608c86</td>\n",
              "      <td>69d73bfcaaa83217c903627e602ae01c</td>\n",
              "      <td>f236830bcbb2d279c0c7c3d7f5d3a970</td>\n",
              "      <td>clothes</td>\n",
              "      <td>mobile</td>\n",
              "      <td>2019-05-28 08:10:20</td>\n",
              "      <td>banner_show</td>\n",
              "      <td>0</td>\n",
              "      <td>2019-05-28</td>\n",
              "      <td>NaN</td>\n",
              "      <td>NaN</td>\n",
              "      <td>NaN</td>\n",
              "      <td>NaN</td>\n",
              "      <td>NaN</td>\n",
              "      <td>NaN</td>\n",
              "      <td>NaN</td>\n",
              "    </tr>\n",
              "    <tr>\n",
              "      <th>7393311</th>\n",
              "      <td>862568e6013bc378b06f43c3e466521a</td>\n",
              "      <td>61728d26a9c9feb9e128c17b400062c8</td>\n",
              "      <td>4fc14437e418f19200e71acf4f34b3ba</td>\n",
              "      <td>sports_nutrition</td>\n",
              "      <td>mobile</td>\n",
              "      <td>2019-05-20 09:20:50</td>\n",
              "      <td>banner_show</td>\n",
              "      <td>0</td>\n",
              "      <td>2019-05-20</td>\n",
              "      <td>NaN</td>\n",
              "      <td>NaN</td>\n",
              "      <td>NaN</td>\n",
              "      <td>NaN</td>\n",
              "      <td>NaN</td>\n",
              "      <td>NaN</td>\n",
              "      <td>NaN</td>\n",
              "    </tr>\n",
              "    <tr>\n",
              "      <th>7393312</th>\n",
              "      <td>7c70b42806372ba85f47a3956f23a114</td>\n",
              "      <td>f90e8c3bcf3867e65d62a2a08189a35a</td>\n",
              "      <td>c6a3e7758b9c0a43417c4a2c1a4504dd</td>\n",
              "      <td>sneakers</td>\n",
              "      <td>mobile</td>\n",
              "      <td>2019-05-28 19:25:42</td>\n",
              "      <td>banner_show</td>\n",
              "      <td>0</td>\n",
              "      <td>2019-05-28</td>\n",
              "      <td>NaN</td>\n",
              "      <td>NaN</td>\n",
              "      <td>NaN</td>\n",
              "      <td>NaN</td>\n",
              "      <td>NaN</td>\n",
              "      <td>NaN</td>\n",
              "      <td>NaN</td>\n",
              "    </tr>\n",
              "    <tr>\n",
              "      <th>7393313</th>\n",
              "      <td>523a4286c51e560121455fc040096ef3</td>\n",
              "      <td>4c242cc2c01c9a6cb4b6659e5263c8aa</td>\n",
              "      <td>fa337cd9c198d70261019940f06bf7fb</td>\n",
              "      <td>accessories</td>\n",
              "      <td>mobile</td>\n",
              "      <td>2019-05-31 09:18:24</td>\n",
              "      <td>banner_show</td>\n",
              "      <td>0</td>\n",
              "      <td>2019-05-31</td>\n",
              "      <td>NaN</td>\n",
              "      <td>NaN</td>\n",
              "      <td>NaN</td>\n",
              "      <td>NaN</td>\n",
              "      <td>NaN</td>\n",
              "      <td>NaN</td>\n",
              "      <td>NaN</td>\n",
              "    </tr>\n",
              "  </tbody>\n",
              "</table>\n",
              "<p>7393314 rows × 16 columns</p>\n",
              "</div>\n",
              "      <button class=\"colab-df-convert\" onclick=\"convertToInteractive('df-4bcf7171-2011-4bc1-8cb5-e6d85d1677a9')\"\n",
              "              title=\"Convert this dataframe to an interactive table.\"\n",
              "              style=\"display:none;\">\n",
              "        \n",
              "  <svg xmlns=\"http://www.w3.org/2000/svg\" height=\"24px\"viewBox=\"0 0 24 24\"\n",
              "       width=\"24px\">\n",
              "    <path d=\"M0 0h24v24H0V0z\" fill=\"none\"/>\n",
              "    <path d=\"M18.56 5.44l.94 2.06.94-2.06 2.06-.94-2.06-.94-.94-2.06-.94 2.06-2.06.94zm-11 1L8.5 8.5l.94-2.06 2.06-.94-2.06-.94L8.5 2.5l-.94 2.06-2.06.94zm10 10l.94 2.06.94-2.06 2.06-.94-2.06-.94-.94-2.06-.94 2.06-2.06.94z\"/><path d=\"M17.41 7.96l-1.37-1.37c-.4-.4-.92-.59-1.43-.59-.52 0-1.04.2-1.43.59L10.3 9.45l-7.72 7.72c-.78.78-.78 2.05 0 2.83L4 21.41c.39.39.9.59 1.41.59.51 0 1.02-.2 1.41-.59l7.78-7.78 2.81-2.81c.8-.78.8-2.07 0-2.86zM5.41 20L4 18.59l7.72-7.72 1.47 1.35L5.41 20z\"/>\n",
              "  </svg>\n",
              "      </button>\n",
              "      \n",
              "  <style>\n",
              "    .colab-df-container {\n",
              "      display:flex;\n",
              "      flex-wrap:wrap;\n",
              "      gap: 12px;\n",
              "    }\n",
              "\n",
              "    .colab-df-convert {\n",
              "      background-color: #E8F0FE;\n",
              "      border: none;\n",
              "      border-radius: 50%;\n",
              "      cursor: pointer;\n",
              "      display: none;\n",
              "      fill: #1967D2;\n",
              "      height: 32px;\n",
              "      padding: 0 0 0 0;\n",
              "      width: 32px;\n",
              "    }\n",
              "\n",
              "    .colab-df-convert:hover {\n",
              "      background-color: #E2EBFA;\n",
              "      box-shadow: 0px 1px 2px rgba(60, 64, 67, 0.3), 0px 1px 3px 1px rgba(60, 64, 67, 0.15);\n",
              "      fill: #174EA6;\n",
              "    }\n",
              "\n",
              "    [theme=dark] .colab-df-convert {\n",
              "      background-color: #3B4455;\n",
              "      fill: #D2E3FC;\n",
              "    }\n",
              "\n",
              "    [theme=dark] .colab-df-convert:hover {\n",
              "      background-color: #434B5C;\n",
              "      box-shadow: 0px 1px 3px 1px rgba(0, 0, 0, 0.15);\n",
              "      filter: drop-shadow(0px 1px 2px rgba(0, 0, 0, 0.3));\n",
              "      fill: #FFFFFF;\n",
              "    }\n",
              "  </style>\n",
              "\n",
              "      <script>\n",
              "        const buttonEl =\n",
              "          document.querySelector('#df-4bcf7171-2011-4bc1-8cb5-e6d85d1677a9 button.colab-df-convert');\n",
              "        buttonEl.style.display =\n",
              "          google.colab.kernel.accessAllowed ? 'block' : 'none';\n",
              "\n",
              "        async function convertToInteractive(key) {\n",
              "          const element = document.querySelector('#df-4bcf7171-2011-4bc1-8cb5-e6d85d1677a9');\n",
              "          const dataTable =\n",
              "            await google.colab.kernel.invokeFunction('convertToInteractive',\n",
              "                                                     [key], {});\n",
              "          if (!dataTable) return;\n",
              "\n",
              "          const docLinkHtml = 'Like what you see? Visit the ' +\n",
              "            '<a target=\"_blank\" href=https://colab.research.google.com/notebooks/data_table.ipynb>data table notebook</a>'\n",
              "            + ' to learn more about interactive tables.';\n",
              "          element.innerHTML = '';\n",
              "          dataTable['output_type'] = 'display_data';\n",
              "          await google.colab.output.renderOutput(dataTable, element);\n",
              "          const docLink = document.createElement('div');\n",
              "          docLink.innerHTML = docLinkHtml;\n",
              "          element.appendChild(docLink);\n",
              "        }\n",
              "      </script>\n",
              "    </div>\n",
              "  </div>\n",
              "  "
            ]
          },
          "metadata": {},
          "execution_count": 70
        }
      ]
    },
    {
      "cell_type": "code",
      "source": [
        "show_click = show_click[['page_id', 'time', 'title', 'title_click' ]]  # selecting intresting feature & mapping label 1 for click and 0 for don't\n",
        "show_click = show_click.fillna(0)\n",
        "show_click['title_click'] = show_click['title_click'].replace('banner_click',1)\n",
        "show_click = show_click.drop('title', axis = 1)\n",
        "show_click"
      ],
      "metadata": {
        "colab": {
          "base_uri": "https://localhost:8080/",
          "height": 423
        },
        "id": "LOyOYoXTZLcU",
        "outputId": "24aaf9ca-17fe-4d70-ed04-45a556e7f937"
      },
      "execution_count": 71,
      "outputs": [
        {
          "output_type": "execute_result",
          "data": {
            "text/plain": [
              "                                  page_id                time  title_click\n",
              "0        4e732ced3463d06de0ca9a15b6153677 2019-01-09 09:38:51            0\n",
              "1        5c45a86277b8bf17bff6011be5cfb1b9 2019-01-09 09:12:45            0\n",
              "2        fb339ad311d50a229e497085aad219c7 2019-01-03 08:58:18            1\n",
              "3        182be0c5cdcd5072bb1864cdee4d3d6e 2019-01-14 05:33:39            0\n",
              "4        e369853df766fa44e1ed0ff613f563bd 2019-03-02 15:10:16            0\n",
              "...                                   ...                 ...          ...\n",
              "7393309  7bc3a33568d00773d5b58d6c7348bf3e 2019-05-23 14:07:00            0\n",
              "7393310  f236830bcbb2d279c0c7c3d7f5d3a970 2019-05-28 08:10:20            0\n",
              "7393311  4fc14437e418f19200e71acf4f34b3ba 2019-05-20 09:20:50            0\n",
              "7393312  c6a3e7758b9c0a43417c4a2c1a4504dd 2019-05-28 19:25:42            0\n",
              "7393313  fa337cd9c198d70261019940f06bf7fb 2019-05-31 09:18:24            0\n",
              "\n",
              "[7393314 rows x 3 columns]"
            ],
            "text/html": [
              "\n",
              "  <div id=\"df-2bc317af-4441-4037-bacb-e21f7b8b486c\">\n",
              "    <div class=\"colab-df-container\">\n",
              "      <div>\n",
              "<style scoped>\n",
              "    .dataframe tbody tr th:only-of-type {\n",
              "        vertical-align: middle;\n",
              "    }\n",
              "\n",
              "    .dataframe tbody tr th {\n",
              "        vertical-align: top;\n",
              "    }\n",
              "\n",
              "    .dataframe thead th {\n",
              "        text-align: right;\n",
              "    }\n",
              "</style>\n",
              "<table border=\"1\" class=\"dataframe\">\n",
              "  <thead>\n",
              "    <tr style=\"text-align: right;\">\n",
              "      <th></th>\n",
              "      <th>page_id</th>\n",
              "      <th>time</th>\n",
              "      <th>title_click</th>\n",
              "    </tr>\n",
              "  </thead>\n",
              "  <tbody>\n",
              "    <tr>\n",
              "      <th>0</th>\n",
              "      <td>4e732ced3463d06de0ca9a15b6153677</td>\n",
              "      <td>2019-01-09 09:38:51</td>\n",
              "      <td>0</td>\n",
              "    </tr>\n",
              "    <tr>\n",
              "      <th>1</th>\n",
              "      <td>5c45a86277b8bf17bff6011be5cfb1b9</td>\n",
              "      <td>2019-01-09 09:12:45</td>\n",
              "      <td>0</td>\n",
              "    </tr>\n",
              "    <tr>\n",
              "      <th>2</th>\n",
              "      <td>fb339ad311d50a229e497085aad219c7</td>\n",
              "      <td>2019-01-03 08:58:18</td>\n",
              "      <td>1</td>\n",
              "    </tr>\n",
              "    <tr>\n",
              "      <th>3</th>\n",
              "      <td>182be0c5cdcd5072bb1864cdee4d3d6e</td>\n",
              "      <td>2019-01-14 05:33:39</td>\n",
              "      <td>0</td>\n",
              "    </tr>\n",
              "    <tr>\n",
              "      <th>4</th>\n",
              "      <td>e369853df766fa44e1ed0ff613f563bd</td>\n",
              "      <td>2019-03-02 15:10:16</td>\n",
              "      <td>0</td>\n",
              "    </tr>\n",
              "    <tr>\n",
              "      <th>...</th>\n",
              "      <td>...</td>\n",
              "      <td>...</td>\n",
              "      <td>...</td>\n",
              "    </tr>\n",
              "    <tr>\n",
              "      <th>7393309</th>\n",
              "      <td>7bc3a33568d00773d5b58d6c7348bf3e</td>\n",
              "      <td>2019-05-23 14:07:00</td>\n",
              "      <td>0</td>\n",
              "    </tr>\n",
              "    <tr>\n",
              "      <th>7393310</th>\n",
              "      <td>f236830bcbb2d279c0c7c3d7f5d3a970</td>\n",
              "      <td>2019-05-28 08:10:20</td>\n",
              "      <td>0</td>\n",
              "    </tr>\n",
              "    <tr>\n",
              "      <th>7393311</th>\n",
              "      <td>4fc14437e418f19200e71acf4f34b3ba</td>\n",
              "      <td>2019-05-20 09:20:50</td>\n",
              "      <td>0</td>\n",
              "    </tr>\n",
              "    <tr>\n",
              "      <th>7393312</th>\n",
              "      <td>c6a3e7758b9c0a43417c4a2c1a4504dd</td>\n",
              "      <td>2019-05-28 19:25:42</td>\n",
              "      <td>0</td>\n",
              "    </tr>\n",
              "    <tr>\n",
              "      <th>7393313</th>\n",
              "      <td>fa337cd9c198d70261019940f06bf7fb</td>\n",
              "      <td>2019-05-31 09:18:24</td>\n",
              "      <td>0</td>\n",
              "    </tr>\n",
              "  </tbody>\n",
              "</table>\n",
              "<p>7393314 rows × 3 columns</p>\n",
              "</div>\n",
              "      <button class=\"colab-df-convert\" onclick=\"convertToInteractive('df-2bc317af-4441-4037-bacb-e21f7b8b486c')\"\n",
              "              title=\"Convert this dataframe to an interactive table.\"\n",
              "              style=\"display:none;\">\n",
              "        \n",
              "  <svg xmlns=\"http://www.w3.org/2000/svg\" height=\"24px\"viewBox=\"0 0 24 24\"\n",
              "       width=\"24px\">\n",
              "    <path d=\"M0 0h24v24H0V0z\" fill=\"none\"/>\n",
              "    <path d=\"M18.56 5.44l.94 2.06.94-2.06 2.06-.94-2.06-.94-.94-2.06-.94 2.06-2.06.94zm-11 1L8.5 8.5l.94-2.06 2.06-.94-2.06-.94L8.5 2.5l-.94 2.06-2.06.94zm10 10l.94 2.06.94-2.06 2.06-.94-2.06-.94-.94-2.06-.94 2.06-2.06.94z\"/><path d=\"M17.41 7.96l-1.37-1.37c-.4-.4-.92-.59-1.43-.59-.52 0-1.04.2-1.43.59L10.3 9.45l-7.72 7.72c-.78.78-.78 2.05 0 2.83L4 21.41c.39.39.9.59 1.41.59.51 0 1.02-.2 1.41-.59l7.78-7.78 2.81-2.81c.8-.78.8-2.07 0-2.86zM5.41 20L4 18.59l7.72-7.72 1.47 1.35L5.41 20z\"/>\n",
              "  </svg>\n",
              "      </button>\n",
              "      \n",
              "  <style>\n",
              "    .colab-df-container {\n",
              "      display:flex;\n",
              "      flex-wrap:wrap;\n",
              "      gap: 12px;\n",
              "    }\n",
              "\n",
              "    .colab-df-convert {\n",
              "      background-color: #E8F0FE;\n",
              "      border: none;\n",
              "      border-radius: 50%;\n",
              "      cursor: pointer;\n",
              "      display: none;\n",
              "      fill: #1967D2;\n",
              "      height: 32px;\n",
              "      padding: 0 0 0 0;\n",
              "      width: 32px;\n",
              "    }\n",
              "\n",
              "    .colab-df-convert:hover {\n",
              "      background-color: #E2EBFA;\n",
              "      box-shadow: 0px 1px 2px rgba(60, 64, 67, 0.3), 0px 1px 3px 1px rgba(60, 64, 67, 0.15);\n",
              "      fill: #174EA6;\n",
              "    }\n",
              "\n",
              "    [theme=dark] .colab-df-convert {\n",
              "      background-color: #3B4455;\n",
              "      fill: #D2E3FC;\n",
              "    }\n",
              "\n",
              "    [theme=dark] .colab-df-convert:hover {\n",
              "      background-color: #434B5C;\n",
              "      box-shadow: 0px 1px 3px 1px rgba(0, 0, 0, 0.15);\n",
              "      filter: drop-shadow(0px 1px 2px rgba(0, 0, 0, 0.3));\n",
              "      fill: #FFFFFF;\n",
              "    }\n",
              "  </style>\n",
              "\n",
              "      <script>\n",
              "        const buttonEl =\n",
              "          document.querySelector('#df-2bc317af-4441-4037-bacb-e21f7b8b486c button.colab-df-convert');\n",
              "        buttonEl.style.display =\n",
              "          google.colab.kernel.accessAllowed ? 'block' : 'none';\n",
              "\n",
              "        async function convertToInteractive(key) {\n",
              "          const element = document.querySelector('#df-2bc317af-4441-4037-bacb-e21f7b8b486c');\n",
              "          const dataTable =\n",
              "            await google.colab.kernel.invokeFunction('convertToInteractive',\n",
              "                                                     [key], {});\n",
              "          if (!dataTable) return;\n",
              "\n",
              "          const docLinkHtml = 'Like what you see? Visit the ' +\n",
              "            '<a target=\"_blank\" href=https://colab.research.google.com/notebooks/data_table.ipynb>data table notebook</a>'\n",
              "            + ' to learn more about interactive tables.';\n",
              "          element.innerHTML = '';\n",
              "          dataTable['output_type'] = 'display_data';\n",
              "          await google.colab.output.renderOutput(dataTable, element);\n",
              "          const docLink = document.createElement('div');\n",
              "          docLink.innerHTML = docLinkHtml;\n",
              "          element.appendChild(docLink);\n",
              "        }\n",
              "      </script>\n",
              "    </div>\n",
              "  </div>\n",
              "  "
            ]
          },
          "metadata": {},
          "execution_count": 71
        }
      ]
    },
    {
      "cell_type": "code",
      "source": [
        "show_click['time'] = pd.to_datetime(show_click['time'])  # extract days\n",
        "show_click['days'] = show_click['time'].dt.to_period('d')\n",
        "show_click['Hours'] = show_click['time'].apply(lambda x: x.hour)\n",
        "show_click = show_click.drop('time', axis = 1)\n",
        "show_click"
      ],
      "metadata": {
        "colab": {
          "base_uri": "https://localhost:8080/",
          "height": 423
        },
        "id": "FWagsfelZ4-w",
        "outputId": "277e6cba-c0b9-495e-a5be-3f2974527ff5"
      },
      "execution_count": 72,
      "outputs": [
        {
          "output_type": "execute_result",
          "data": {
            "text/plain": [
              "                                  page_id  title_click        days  Hours\n",
              "0        4e732ced3463d06de0ca9a15b6153677            0  2019-01-09      9\n",
              "1        5c45a86277b8bf17bff6011be5cfb1b9            0  2019-01-09      9\n",
              "2        fb339ad311d50a229e497085aad219c7            1  2019-01-03      8\n",
              "3        182be0c5cdcd5072bb1864cdee4d3d6e            0  2019-01-14      5\n",
              "4        e369853df766fa44e1ed0ff613f563bd            0  2019-03-02     15\n",
              "...                                   ...          ...         ...    ...\n",
              "7393309  7bc3a33568d00773d5b58d6c7348bf3e            0  2019-05-23     14\n",
              "7393310  f236830bcbb2d279c0c7c3d7f5d3a970            0  2019-05-28      8\n",
              "7393311  4fc14437e418f19200e71acf4f34b3ba            0  2019-05-20      9\n",
              "7393312  c6a3e7758b9c0a43417c4a2c1a4504dd            0  2019-05-28     19\n",
              "7393313  fa337cd9c198d70261019940f06bf7fb            0  2019-05-31      9\n",
              "\n",
              "[7393314 rows x 4 columns]"
            ],
            "text/html": [
              "\n",
              "  <div id=\"df-803e28c9-cc4f-4deb-964f-cefdd87468ad\">\n",
              "    <div class=\"colab-df-container\">\n",
              "      <div>\n",
              "<style scoped>\n",
              "    .dataframe tbody tr th:only-of-type {\n",
              "        vertical-align: middle;\n",
              "    }\n",
              "\n",
              "    .dataframe tbody tr th {\n",
              "        vertical-align: top;\n",
              "    }\n",
              "\n",
              "    .dataframe thead th {\n",
              "        text-align: right;\n",
              "    }\n",
              "</style>\n",
              "<table border=\"1\" class=\"dataframe\">\n",
              "  <thead>\n",
              "    <tr style=\"text-align: right;\">\n",
              "      <th></th>\n",
              "      <th>page_id</th>\n",
              "      <th>title_click</th>\n",
              "      <th>days</th>\n",
              "      <th>Hours</th>\n",
              "    </tr>\n",
              "  </thead>\n",
              "  <tbody>\n",
              "    <tr>\n",
              "      <th>0</th>\n",
              "      <td>4e732ced3463d06de0ca9a15b6153677</td>\n",
              "      <td>0</td>\n",
              "      <td>2019-01-09</td>\n",
              "      <td>9</td>\n",
              "    </tr>\n",
              "    <tr>\n",
              "      <th>1</th>\n",
              "      <td>5c45a86277b8bf17bff6011be5cfb1b9</td>\n",
              "      <td>0</td>\n",
              "      <td>2019-01-09</td>\n",
              "      <td>9</td>\n",
              "    </tr>\n",
              "    <tr>\n",
              "      <th>2</th>\n",
              "      <td>fb339ad311d50a229e497085aad219c7</td>\n",
              "      <td>1</td>\n",
              "      <td>2019-01-03</td>\n",
              "      <td>8</td>\n",
              "    </tr>\n",
              "    <tr>\n",
              "      <th>3</th>\n",
              "      <td>182be0c5cdcd5072bb1864cdee4d3d6e</td>\n",
              "      <td>0</td>\n",
              "      <td>2019-01-14</td>\n",
              "      <td>5</td>\n",
              "    </tr>\n",
              "    <tr>\n",
              "      <th>4</th>\n",
              "      <td>e369853df766fa44e1ed0ff613f563bd</td>\n",
              "      <td>0</td>\n",
              "      <td>2019-03-02</td>\n",
              "      <td>15</td>\n",
              "    </tr>\n",
              "    <tr>\n",
              "      <th>...</th>\n",
              "      <td>...</td>\n",
              "      <td>...</td>\n",
              "      <td>...</td>\n",
              "      <td>...</td>\n",
              "    </tr>\n",
              "    <tr>\n",
              "      <th>7393309</th>\n",
              "      <td>7bc3a33568d00773d5b58d6c7348bf3e</td>\n",
              "      <td>0</td>\n",
              "      <td>2019-05-23</td>\n",
              "      <td>14</td>\n",
              "    </tr>\n",
              "    <tr>\n",
              "      <th>7393310</th>\n",
              "      <td>f236830bcbb2d279c0c7c3d7f5d3a970</td>\n",
              "      <td>0</td>\n",
              "      <td>2019-05-28</td>\n",
              "      <td>8</td>\n",
              "    </tr>\n",
              "    <tr>\n",
              "      <th>7393311</th>\n",
              "      <td>4fc14437e418f19200e71acf4f34b3ba</td>\n",
              "      <td>0</td>\n",
              "      <td>2019-05-20</td>\n",
              "      <td>9</td>\n",
              "    </tr>\n",
              "    <tr>\n",
              "      <th>7393312</th>\n",
              "      <td>c6a3e7758b9c0a43417c4a2c1a4504dd</td>\n",
              "      <td>0</td>\n",
              "      <td>2019-05-28</td>\n",
              "      <td>19</td>\n",
              "    </tr>\n",
              "    <tr>\n",
              "      <th>7393313</th>\n",
              "      <td>fa337cd9c198d70261019940f06bf7fb</td>\n",
              "      <td>0</td>\n",
              "      <td>2019-05-31</td>\n",
              "      <td>9</td>\n",
              "    </tr>\n",
              "  </tbody>\n",
              "</table>\n",
              "<p>7393314 rows × 4 columns</p>\n",
              "</div>\n",
              "      <button class=\"colab-df-convert\" onclick=\"convertToInteractive('df-803e28c9-cc4f-4deb-964f-cefdd87468ad')\"\n",
              "              title=\"Convert this dataframe to an interactive table.\"\n",
              "              style=\"display:none;\">\n",
              "        \n",
              "  <svg xmlns=\"http://www.w3.org/2000/svg\" height=\"24px\"viewBox=\"0 0 24 24\"\n",
              "       width=\"24px\">\n",
              "    <path d=\"M0 0h24v24H0V0z\" fill=\"none\"/>\n",
              "    <path d=\"M18.56 5.44l.94 2.06.94-2.06 2.06-.94-2.06-.94-.94-2.06-.94 2.06-2.06.94zm-11 1L8.5 8.5l.94-2.06 2.06-.94-2.06-.94L8.5 2.5l-.94 2.06-2.06.94zm10 10l.94 2.06.94-2.06 2.06-.94-2.06-.94-.94-2.06-.94 2.06-2.06.94z\"/><path d=\"M17.41 7.96l-1.37-1.37c-.4-.4-.92-.59-1.43-.59-.52 0-1.04.2-1.43.59L10.3 9.45l-7.72 7.72c-.78.78-.78 2.05 0 2.83L4 21.41c.39.39.9.59 1.41.59.51 0 1.02-.2 1.41-.59l7.78-7.78 2.81-2.81c.8-.78.8-2.07 0-2.86zM5.41 20L4 18.59l7.72-7.72 1.47 1.35L5.41 20z\"/>\n",
              "  </svg>\n",
              "      </button>\n",
              "      \n",
              "  <style>\n",
              "    .colab-df-container {\n",
              "      display:flex;\n",
              "      flex-wrap:wrap;\n",
              "      gap: 12px;\n",
              "    }\n",
              "\n",
              "    .colab-df-convert {\n",
              "      background-color: #E8F0FE;\n",
              "      border: none;\n",
              "      border-radius: 50%;\n",
              "      cursor: pointer;\n",
              "      display: none;\n",
              "      fill: #1967D2;\n",
              "      height: 32px;\n",
              "      padding: 0 0 0 0;\n",
              "      width: 32px;\n",
              "    }\n",
              "\n",
              "    .colab-df-convert:hover {\n",
              "      background-color: #E2EBFA;\n",
              "      box-shadow: 0px 1px 2px rgba(60, 64, 67, 0.3), 0px 1px 3px 1px rgba(60, 64, 67, 0.15);\n",
              "      fill: #174EA6;\n",
              "    }\n",
              "\n",
              "    [theme=dark] .colab-df-convert {\n",
              "      background-color: #3B4455;\n",
              "      fill: #D2E3FC;\n",
              "    }\n",
              "\n",
              "    [theme=dark] .colab-df-convert:hover {\n",
              "      background-color: #434B5C;\n",
              "      box-shadow: 0px 1px 3px 1px rgba(0, 0, 0, 0.15);\n",
              "      filter: drop-shadow(0px 1px 2px rgba(0, 0, 0, 0.3));\n",
              "      fill: #FFFFFF;\n",
              "    }\n",
              "  </style>\n",
              "\n",
              "      <script>\n",
              "        const buttonEl =\n",
              "          document.querySelector('#df-803e28c9-cc4f-4deb-964f-cefdd87468ad button.colab-df-convert');\n",
              "        buttonEl.style.display =\n",
              "          google.colab.kernel.accessAllowed ? 'block' : 'none';\n",
              "\n",
              "        async function convertToInteractive(key) {\n",
              "          const element = document.querySelector('#df-803e28c9-cc4f-4deb-964f-cefdd87468ad');\n",
              "          const dataTable =\n",
              "            await google.colab.kernel.invokeFunction('convertToInteractive',\n",
              "                                                     [key], {});\n",
              "          if (!dataTable) return;\n",
              "\n",
              "          const docLinkHtml = 'Like what you see? Visit the ' +\n",
              "            '<a target=\"_blank\" href=https://colab.research.google.com/notebooks/data_table.ipynb>data table notebook</a>'\n",
              "            + ' to learn more about interactive tables.';\n",
              "          element.innerHTML = '';\n",
              "          dataTable['output_type'] = 'display_data';\n",
              "          await google.colab.output.renderOutput(dataTable, element);\n",
              "          const docLink = document.createElement('div');\n",
              "          docLink.innerHTML = docLinkHtml;\n",
              "          element.appendChild(docLink);\n",
              "        }\n",
              "      </script>\n",
              "    </div>\n",
              "  </div>\n",
              "  "
            ]
          },
          "metadata": {},
          "execution_count": 72
        }
      ]
    },
    {
      "cell_type": "code",
      "source": [
        "hours_click = show_click.groupby('Hours')['title_click'].value_counts().unstack()"
      ],
      "metadata": {
        "id": "HbN4zVwiQYqF"
      },
      "execution_count": 86,
      "outputs": []
    },
    {
      "cell_type": "code",
      "source": [
        "hours_click['Click rate'] = hours_click[1] / hours_click[0]"
      ],
      "metadata": {
        "id": "OU1F3DDFR7FD"
      },
      "execution_count": 88,
      "outputs": []
    },
    {
      "cell_type": "code",
      "source": [
        "plt.figure(figsize = (25,5))\n",
        "\n",
        "ax1 = plt.subplot(1,2,1)\n",
        "ax1 = plt.bar(x = hours_click.index, height = hours_click[0], label = 'Shown')\n",
        "ax1 = plt.bar(x = hours_click.index, height = hours_click[1], label = 'Clicked')\n",
        "ax1 = plt.title('Banner display of Hours')\n",
        "ax1 = plt.legend()\n",
        "ax2 = plt.subplot(1,2,2)\n",
        "ax2 = sns.barplot(data = hours_click, x = hours_click.index, y = 'Click rate') \n",
        "ax2 = plt.title('Click rate by Hours')\n",
        "plt.show()"
      ],
      "metadata": {
        "colab": {
          "base_uri": "https://localhost:8080/",
          "height": 353
        },
        "id": "PWwqJrF-Q_iV",
        "outputId": "431e1576-bfcb-49b3-9f7f-819f335ed766"
      },
      "execution_count": 121,
      "outputs": [
        {
          "output_type": "display_data",
          "data": {
            "text/plain": [
              "<Figure size 1800x360 with 2 Axes>"
            ],
            "image/png": "[encoded data removed]"
          },
          "metadata": {}
        }
      ]
    },
    {
      "cell_type": "code",
      "source": [
        "count_days = show_click.groupby('days')['title_click'].count()  #  count banner show per days\n",
        "count_days"
      ],
      "metadata": {
        "colab": {
          "base_uri": "https://localhost:8080/"
        },
        "id": "vJXiDwiNa61d",
        "outputId": "234a835b-607d-441e-ce25-00664237edee"
      },
      "execution_count": 25,
      "outputs": [
        {
          "output_type": "execute_result",
          "data": {
            "text/plain": [
              "days\n",
              "2019-01-01    28993\n",
              "2019-01-02    31338\n",
              "2019-01-03    33576\n",
              "2019-01-04    35702\n",
              "2019-01-05    37623\n",
              "              ...  \n",
              "2019-05-27    47090\n",
              "2019-05-28    43719\n",
              "2019-05-29    41196\n",
              "2019-05-30    37585\n",
              "2019-05-31    35024\n",
              "Freq: D, Name: title_click, Length: 151, dtype: int64"
            ]
          },
          "metadata": {},
          "execution_count": 25
        }
      ]
    },
    {
      "cell_type": "code",
      "source": [
        "click_per_day = show_click.groupby('days')['title_click'].sum()  #  count banner click per days\n",
        "click_per_day"
      ],
      "metadata": {
        "colab": {
          "base_uri": "https://localhost:8080/"
        },
        "id": "Ic3j6l49vq18",
        "outputId": "d991e5d9-3cb4-40be-f2f7-a14a9fde8e8a"
      },
      "execution_count": 26,
      "outputs": [
        {
          "output_type": "execute_result",
          "data": {
            "text/plain": [
              "days\n",
              "2019-01-01    3360\n",
              "2019-01-02    3541\n",
              "2019-01-03    3813\n",
              "2019-01-04    4060\n",
              "2019-01-05    4264\n",
              "              ... \n",
              "2019-05-27    5325\n",
              "2019-05-28    5030\n",
              "2019-05-29    4606\n",
              "2019-05-30    4279\n",
              "2019-05-31    3993\n",
              "Freq: D, Name: title_click, Length: 151, dtype: int64"
            ]
          },
          "metadata": {},
          "execution_count": 26
        }
      ]
    },
    {
      "cell_type": "code",
      "source": [
        "conversion_rate_per_day = click_per_day / count_days  * 100 # click throught rate per days\n",
        "conversion_rate_per_day"
      ],
      "metadata": {
        "colab": {
          "base_uri": "https://localhost:8080/"
        },
        "id": "kAFBhi27a-0-",
        "outputId": "fcf20643-8616-413e-e008-d4da51e938fd"
      },
      "execution_count": 27,
      "outputs": [
        {
          "output_type": "execute_result",
          "data": {
            "text/plain": [
              "days\n",
              "2019-01-01    11.589004\n",
              "2019-01-02    11.299381\n",
              "2019-01-03    11.356326\n",
              "2019-01-04    11.371912\n",
              "2019-01-05    11.333493\n",
              "                ...    \n",
              "2019-05-27    11.308133\n",
              "2019-05-28    11.505295\n",
              "2019-05-29    11.180697\n",
              "2019-05-30    11.384861\n",
              "2019-05-31    11.400754\n",
              "Freq: D, Name: title_click, Length: 151, dtype: float64"
            ]
          },
          "metadata": {},
          "execution_count": 27
        }
      ]
    },
    {
      "cell_type": "code",
      "source": [
        "all_conversion = conversion_rate_per_day.values.tolist()"
      ],
      "metadata": {
        "id": "iFTvmb6Kxj88"
      },
      "execution_count": 28,
      "outputs": []
    },
    {
      "cell_type": "code",
      "source": [
        "plt.figure(figsize = (15,5))\n",
        "plt.hist(all_conversion)\n",
        "plt.title('Click throught rate per day distribution')"
      ],
      "metadata": {
        "colab": {
          "base_uri": "https://localhost:8080/",
          "height": 353
        },
        "id": "wD5kXqDUhfnC",
        "outputId": "b5b7ad92-25c4-42fd-e345-0d2addf4a2f5"
      },
      "execution_count": 30,
      "outputs": [
        {
          "output_type": "execute_result",
          "data": {
            "text/plain": [
              "Text(0.5, 1.0, 'Click throught rate per day distribution')"
            ]
          },
          "metadata": {},
          "execution_count": 30
        },
        {
          "output_type": "display_data",
          "data": {
            "text/plain": [
              "<Figure size 1080x360 with 1 Axes>"
            ],
            "image/png": "[encoded data removed]"
          },
          "metadata": {}
        }
      ]
    },
    {
      "cell_type": "markdown",
      "source": [
        "Suppose we have to improve the conversion rate efficient by 2%"
      ],
      "metadata": {
        "id": "ZvUYzJsQ1JNd"
      }
    },
    {
      "cell_type": "code",
      "source": [
        "mean = np.mean(show_click['title_click'].values)  #  mean of click throught rate\n",
        "print('Mean of all Conversion Rate from obsevation: {:.4f}'.format(mean))"
      ],
      "metadata": {
        "colab": {
          "base_uri": "https://localhost:8080/"
        },
        "id": "i3eEdPNt0IHt",
        "outputId": "59cd7f79-fb30-40fe-fb34-5f22206bea98"
      },
      "execution_count": 57,
      "outputs": [
        {
          "output_type": "stream",
          "name": "stdout",
          "text": [
            "Mean of all Conversion Rate from obsevation: 0.1122\n"
          ]
        }
      ]
    },
    {
      "cell_type": "code",
      "source": [
        "std = np.std(show_click['title_click'].values)  #  std of click throught rate\n",
        "print('STD of all Conversion Rate : {:.4f}'.format(std))"
      ],
      "metadata": {
        "colab": {
          "base_uri": "https://localhost:8080/"
        },
        "id": "1cO8luWah8Mo",
        "outputId": "269912de-4b5a-42eb-c55d-987ee859c706"
      },
      "execution_count": 58,
      "outputs": [
        {
          "output_type": "stream",
          "name": "stdout",
          "text": [
            "STD of all Conversion Rate : 0.3156\n"
          ]
        }
      ]
    },
    {
      "cell_type": "code",
      "source": [
        "improve_CR = (np.mean(show_click['title_click'].values)) + (np.mean(show_click['title_click'].values) * 0.02)  # the result of click throught rate per days improve by 2%\n",
        "print('Target Conversion Rate : {:.4f}'.format(improve_CR))"
      ],
      "metadata": {
        "colab": {
          "base_uri": "https://localhost:8080/"
        },
        "id": "OXZwLn3ciOdL",
        "outputId": "afe078ab-9acc-49ec-eb9f-b0658707aa20"
      },
      "execution_count": 61,
      "outputs": [
        {
          "output_type": "stream",
          "name": "stdout",
          "text": [
            "Target Conversion Rate : 0.1144\n"
          ]
        }
      ]
    },
    {
      "cell_type": "markdown",
      "source": [
        "# Conclusion"
      ],
      "metadata": {
        "id": "lPH9nefq4Kac"
      }
    },
    {
      "cell_type": "markdown",
      "source": [
        "Calculator for AB test sample size\n",
        "[link text](https://clincalc.com/stats/samplesize.aspx)"
      ],
      "metadata": {
        "id": "KDqc98Uk4Svi"
      }
    },
    {
      "cell_type": "markdown",
      "source": [
        "By Calculator above with 95% confident\n",
        "\n",
        "and statistic power 80%\n",
        "\n",
        "the approximation of sample size for perform A/B test is 646094\n",
        "\n",
        "by traffic around 50k banner shown per days\n",
        "\n",
        "This experiment will take around 13 days to summarize the hyphothesis testing in change of conversion rate by banner set changing with using the given mathematical approach."
      ],
      "metadata": {
        "id": "5IgnUgC-2kuO"
      }
    }
  ]
}